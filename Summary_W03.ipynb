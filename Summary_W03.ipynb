{
 "metadata": {
  "language_info": {
   "codemirror_mode": {
    "name": "ipython",
    "version": 3
   },
   "file_extension": ".py",
   "mimetype": "text/x-python",
   "name": "python",
   "nbconvert_exporter": "python",
   "pygments_lexer": "ipython3",
   "version": "3.7.1"
  },
  "orig_nbformat": 2,
  "kernelspec": {
   "name": "python371jvsc74a57bd08a428f088ac08f7fdf89fb2f4bb23c2bc8a83acc5d068a78d54410b8e3eeec73",
   "display_name": "Python 3.7.1 32-bit"
  }
 },
 "nbformat": 4,
 "nbformat_minor": 2,
 "cells": [
  {
   "source": [
    "# ⇝🥗 Summary Week 03 🥗⇜\n",
    "## 👨🏽‍🚀🏄‍♂️🚀👨‍🎓🔰\n",
    "\n",
    "![unpackAI Logo](images/unpackAI_logo_whiteBG.svg)"
   ],
   "cell_type": "markdown",
   "metadata": {}
  },
  {
   "source": [
    "# Lesson 10: Files 📁\n",
    "💡📌📦❔ 💻🧙⚠🔖\n",
    "\n",
    "## 📌To process a file (read its content or write in it), you need 3 steps\n",
    "\n",
    "1. Open the file first: it will create a \"file handler\": `<file handler> = open(<path>)`\n",
    "2. Use the file handler for your operations (read or write)\n",
    "  - Read the whole content: `<file handler>.read()`\n",
    "  - Write some content: `<file handler>.write(<some string>)`\n",
    "  - ... or some choices we will see later\n",
    "3. Optionaly (but recommended), close the file so other programs can read/write it: `<file handler>.close()`\n",
    "\n",
    "💡When reading a file with **non-ASCII characters** (meaning non-standard English so for examples icons like this 🧙, Chinese characters, or even French or Russian...), you will need to specify an **encoding** to decipher the characters. Usually, UTF-8 encoding is working in most cases: to use it, you need to write `open(<path>, encoding=\"utf-8\")` when opening the file. "
   ],
   "cell_type": "markdown",
   "metadata": {}
  },
  {
   "cell_type": "code",
   "execution_count": 9,
   "metadata": {},
   "outputs": [
    {
     "output_type": "execute_result",
     "data": {
      "text/plain": [
       "'{\\n \"metadata\": {\\n  \"language_info\": {\\n   \"codemirror_mode\": {\\n    \"name\": \"ipython\",\\n    \"version\": 3\\n   },\\n   \"file_extension\": \".py\",\\n   \"mimetype\": \"text/x-python\",\\n   \"name\": \"python\",\\n   \"nbconvert_exporter\": \"python\",\\n   \"pygments_lexer\": \"ipython3\",\\n   \"version\": \"3.7.1\"\\n  },\\n  \"orig_nbformat\": 2,\\n  \"kernelspec\": {\\n   \"name\": \"python371jvsc74a57bd08a428f088ac08f7fdf89fb2f4bb23c2bc8a83acc5d068a78d54410b8e3eeec73\",\\n   \"display_name\": \"Python 3.7.1 32-bit\"\\n  }\\n },\\n \"nbformat\": 4,\\n \"nbformat_minor\": 2,\\n \"cells\": [\\n  {\\n   \"source\": [\\n    \"# ⇝🥗 Summary Week 03 🥗⇜\\\\n\",\\n    \"## 👨🏽\\u200d🚀🏄\\u200d♂️🚀👨\\u200d🎓🔰\\\\n\",'"
      ]
     },
     "metadata": {},
     "execution_count": 9
    }
   ],
   "source": [
    "# Usually, we use variable \"f\" for file handler\n",
    "# We open this notebook with plenty of icons so we use utf-8\n",
    "f = open(\"Summary_W03.ipynb\", encoding=\"utf-8\")  \n",
    "content = f.read()\n",
    "content[:600] # we will just show the first characters"
   ]
  },
  {
   "source": [
    "## 💡 Easier way to manipulate files: with `pathlib` 🧙💻\n",
    "\n",
    "Python version 3.4 introduced an easier way to manipulate paths with the module `pathlib`.\n",
    "\n",
    "It works like this:\n",
    "\n",
    "1. Import `Path` from `pathlib` module: `from pathlib import Path`\n",
    "2. Create the path and store in a variable: `<path variable> = Path(<path>)`\n",
    "3. Use the path variable, like for example:\n",
    "  - Read the whole content of the file (no need to open it): `<path variable>.read_text()`\n",
    "  - Write content to the file (no need to open it): `<path variable>.write_text(<string content>)`\n",
    "  - ... and much more you can do\n",
    "\n",
    "All methods available for paths can be found in the [official documentation](https://docs.python.org/3/library/pathlib.html)."
   ],
   "cell_type": "markdown",
   "metadata": {}
  },
  {
   "cell_type": "code",
   "execution_count": 56,
   "metadata": {},
   "outputs": [
    {
     "output_type": "execute_result",
     "data": {
      "text/plain": [
       "28222"
      ]
     },
     "metadata": {},
     "execution_count": 56
    }
   ],
   "source": [
    "# Example to create a file with 10,000 random integers between 1 and 100\n",
    "from pathlib import Path\n",
    "from random import randint\n",
    "\n",
    "txt_path = Path(\"list_int.txt\") \n",
    "txt_path.write_text(\"\\n\".join(\n",
    "    str(randint(1, 100)) if i % 20 else \"\" \n",
    "    for i in range(10_000)\n",
    "))"
   ]
  },
  {
   "cell_type": "code",
   "execution_count": 63,
   "metadata": {},
   "outputs": [
    {
     "output_type": "stream",
     "name": "stdout",
     "text": [
      "['\\n', '14\\n', '63\\n', '1\\n', '81\\n', '74\\n', '61\\n', '49\\n', '98\\n', '74\\n']\n['\\n', '14\\n', '63\\n', '1\\n', '81\\n', '74\\n', '61\\n', '49\\n', '98\\n', '74\\n']\n"
     ]
    }
   ],
   "source": [
    "# You can then read the content of this file\n",
    "# We want to read the first 5 lines\n",
    "i = 0\n",
    "list_lines = list()\n",
    "for line in open(\"list_int.txt\"):\n",
    "    list_lines.append(line)\n",
    "    i += 1\n",
    "    if i >= 10:\n",
    "        break\n",
    "\n",
    "print(list_lines)\n",
    "\n",
    "# ... or with list comprehensions and enumerate\n",
    "list_lines = [line for i, line in enumerate(open(\"list_int.txt\")) if i < 10]\n",
    "print(list_lines)"
   ]
  },
  {
   "source": [
    "## 📌Notice that lines end with a \"EOL\"\n",
    "\n",
    "**EOL** = _End of Line_. An EOL character is a character that marks the end of a line. This is the equivalent of line return (\"ENTER\") in MS Word or a typewriter.\n",
    "\n",
    "In a program, it is usually the character `\\n`, but also sometimes on Windows the two characters `\\r` followed by `\\n`.\n",
    "\n",
    "\n",
    "You can remove this character with the `str.strip()` or `str.rstrip()` methods.\n"
   ],
   "cell_type": "markdown",
   "metadata": {}
  },
  {
   "cell_type": "code",
   "execution_count": 62,
   "metadata": {},
   "outputs": [
    {
     "output_type": "execute_result",
     "data": {
      "text/plain": [
       "['', '14', '63', '1', '81', '74', '61', '49', '98', '74']"
      ]
     },
     "metadata": {},
     "execution_count": 62
    }
   ],
   "source": [
    "[line.rstrip() for i, line in enumerate(open(\"list_int.txt\")) if i < 10]"
   ]
  },
  {
   "source": [
    "### We have several ways to check if a line is empty:\n",
    "\n",
    "* Check that it starts with `\\n` character (`line.startswith(\"\\n\")`)\n",
    "* Check that after removing EOL at the end, it's the empty string (`line.rstrip() == \"\"`)\n",
    "\n",
    "💡 The opposite of `str.startswith()` is `str.endswith()` :)"
   ],
   "cell_type": "markdown",
   "metadata": {}
  },
  {
   "cell_type": "code",
   "execution_count": 64,
   "metadata": {},
   "outputs": [
    {
     "output_type": "execute_result",
     "data": {
      "text/plain": [
       "['14', '63', '1', '81', '74', '61', '49', '98', '74', '14']"
      ]
     },
     "metadata": {},
     "execution_count": 64
    }
   ],
   "source": [
    "[line.rstrip() for line in open(\"list_int.txt\") if not line.startswith(\"\\n\")][:10]"
   ]
  },
  {
   "cell_type": "code",
   "execution_count": 57,
   "metadata": {},
   "outputs": [
    {
     "output_type": "stream",
     "name": "stdout",
     "text": [
      "Counter({91: 116, 99: 113, 3: 113, 31: 112, 11: 111, 44: 111, 9: 110, 74: 109, 73: 109, 70: 109, 13: 107, 90: 107, 54: 107, 80: 106, 10: 104, 16: 104, 38: 104, 72: 103, 57: 103, 89: 103, 24: 103, 21: 102, 94: 102, 69: 102, 6: 102, 81: 101, 78: 101, 50: 101, 43: 101, 47: 100, 33: 100, 82: 99, 87: 99, 27: 98, 41: 98, 42: 98, 58: 98, 96: 97, 12: 97, 95: 97, 37: 97, 23: 97, 49: 96, 98: 96, 52: 96, 92: 96, 32: 96, 1: 95, 88: 95, 53: 95, 71: 95, 25: 95, 20: 95, 66: 94, 8: 94, 46: 93, 59: 93, 63: 92, 77: 92, 100: 92, 22: 92, 83: 92, 60: 92, 67: 92, 65: 91, 5: 91, 48: 91, 2: 91, 68: 90, 29: 90, 19: 89, 36: 88, 30: 88, 28: 88, 17: 87, 39: 87, 4: 87, 34: 87, 64: 87, 79: 87, 56: 87, 40: 87, 86: 87, 85: 86, 7: 86, 93: 86, 55: 85, 45: 85, 75: 85, 14: 84, 61: 84, 15: 84, 26: 83, 62: 81, 51: 81, 76: 81, 35: 80, 97: 77, 84: 77, 18: 76})\n\n--- Average ---\n95.0\n\n--- 10 most common numbers ---\n"
     ]
    },
    {
     "output_type": "execute_result",
     "data": {
      "text/plain": [
       "[(91, 116),\n",
       " (99, 113),\n",
       " (3, 113),\n",
       " (31, 112),\n",
       " (11, 111),\n",
       " (44, 111),\n",
       " (9, 110),\n",
       " (74, 109),\n",
       " (73, 109),\n",
       " (70, 109)]"
      ]
     },
     "metadata": {},
     "execution_count": 57
    }
   ],
   "source": [
    "# ❔ QUESTION: How to count how many times each number is present in the file \"list_int.txt\"?\n",
    "# Note: we need to skip empty lines :)\n",
    "\n",
    "# We will use \"counter\" to help count (without having to check if we already have the key)\n",
    "from collections import Counter\n",
    "\n",
    "count_nb = Counter()\n",
    "for line in open(\"list_int.txt\"):\n",
    "    if line.strip():  # meaning the stripped line has some content\n",
    "        count_nb[int(line)] += 1  # note: int(\"10\\n\") will return integer 10 (\"\\n\" is dropped)\n",
    "\n",
    "# ... or even shorter because \"Counter\" can count automatically from a list ;)\n",
    "count_nb = Counter(int(line) for line in open(\"list_int.txt\") if line.strip())\n",
    "\n",
    "# Numbers sorted by frequency (by default when you print a counter)\n",
    "print(count_nb)\n",
    "\n",
    "print(\"\\n--- Average ---\")\n",
    "average_count = sum(count_nb.values()) / len(count_nb)\n",
    "print(average_count)\n",
    "\n",
    "print(\"\\n--- 10 most common numbers ---\")\n",
    "count_nb.most_common(10)"
   ]
  },
  {
   "source": [
    "### You can also read lines one by one with `readline()`"
   ],
   "cell_type": "markdown",
   "metadata": {}
  },
  {
   "cell_type": "code",
   "execution_count": 60,
   "metadata": {},
   "outputs": [
    {
     "output_type": "stream",
     "name": "stdout",
     "text": [
      "First line: \nSecond line: 14\nThird line: 63\n"
     ]
    }
   ],
   "source": [
    "f = open(\"list_int.txt\")\n",
    "line_1 = f.readline().rstrip()\n",
    "line_2 = f.readline().rstrip()\n",
    "line_3 = f.readline().rstrip()\n",
    "print(f\"First line: {line_1}\")\n",
    "print(f\"Second line: {line_2}\")\n",
    "print(f\"Third line: {line_3}\")"
   ]
  },
  {
   "source": [
    "# Lesson 11: Writing to Files 📝\n",
    "\n",
    "When we open a file, we need to specify what we want to do with it by writing `open(<file>, <mode>)` with `<mode>` being:\n",
    "\n",
    "* Read content (the default) => mode `r`\n",
    "* Write content AND ERASE EVERYTHING THAT WAS THERE BEFORE => mode `w`\n",
    "* Write content after the existing content (i.e. \"append\") => mode `a`\n",
    "\n",
    "If no mode is selected, it's the \"reading\" mode that is selected (like we have seen in previous lesson).\n",
    "\n",
    "👨🏽‍🚀Actually, there are also 3 other modes `rb`, `wb`, and `ab` to use when you want to read binary code of file... but we will ignore that for the time being ;) There is also the Read-Write mode `r+` but it's a nightmare to use and you better never use it ;)"
   ],
   "cell_type": "markdown",
   "metadata": {}
  },
  {
   "cell_type": "code",
   "execution_count": 67,
   "metadata": {},
   "outputs": [
    {
     "output_type": "stream",
     "name": "stdout",
     "text": [
      "\n14\n63\n1\n81\n"
     ]
    }
   ],
   "source": [
    "f = open(\"list_int.txt\")\n",
    "for _ in range(5):\n",
    "    print(f.readline().rstrip())"
   ]
  },
  {
   "source": [
    "### To write in a file, you need to open with proper mode and use `write()` method\n",
    "\n",
    "⚠ Unlike `print` that adds a line return at the end, `write()` does not. \n",
    "The reason behind is because we more often need to write the content of a file pieces by pieces (and not line by line)"
   ],
   "cell_type": "markdown",
   "metadata": {}
  },
  {
   "cell_type": "code",
   "execution_count": 87,
   "metadata": {},
   "outputs": [],
   "source": [
    "f = open(\"my_file.txt\", \"w\")\n",
    "for i in range(5):\n",
    "    f.write(f\"{i}\\n\")\n",
    "\n",
    "# print(\"I have finished writting in the file... or have I?\")"
   ]
  },
  {
   "source": [
    "### After you have written to a file with `write()`, the file might look empty...\n",
    "\n",
    "If you open the file after running the previous cell, you will notice that this file (_my_file.txt_) is empty (at least, sometimes it is).\n",
    "\n",
    "What happens is that the content is first stored in memory and needs to be pushed to the file (i.e. \"flushed\", like we do for the toilets🚽).\n",
    "\n",
    "You can manually flush the toilets, euh sorry the file, by using the `<file handler>.flush()` method (i.e. `f.flusht()` in our previous case).\n",
    "But usually, the way we do is to close the file once we have finished writting (and this will flush automatically).\n"
   ],
   "cell_type": "markdown",
   "metadata": {}
  },
  {
   "cell_type": "code",
   "execution_count": 88,
   "metadata": {},
   "outputs": [],
   "source": [
    "f = open(\"my_file.txt\", \"w\")\n",
    "for i in range(5):\n",
    "    f.write(f\"{i**2}\\n\")\n",
    "f.close()"
   ]
  },
  {
   "source": [
    "### There is a better way to close the file\n",
    "\n",
    "Because it's so important to close the file, even where there is an error somewhere in the code, and that we don't want to always type `f.close()` each time we open (remember: coders and mathematicians are lazy), we have a simplified syntax to do it which is the golden standard:\n",
    "\n",
    "```\n",
    "with open(<path>, <mode>) as f:\n",
    "    ... (the code about the file)\n",
    "```\n",
    "\n",
    "Even if we have an exception in the code (e.g. missing index in list), the file will be closed clean: this is the magic of `with`."
   ],
   "cell_type": "markdown",
   "metadata": {}
  },
  {
   "cell_type": "code",
   "execution_count": 90,
   "metadata": {},
   "outputs": [],
   "source": [
    "# ... so the previous code would be re-written like this:\n",
    "\n",
    "with open(\"my_file.txt\", \"w\") as f:\n",
    "    for i in range(5):\n",
    "        f.write(f\"{i**2}\\n\")"
   ]
  },
  {
   "source": [
    "## Going back to `pathlib.Path`\n",
    "\n",
    "Once again, I personally recommend using `pathlib` when you work with files, paths, and read/write content.\n",
    "\n",
    "Look how easy it is:\n",
    "* A first line to import (i.e. \"load\") the module: `from pathlib import Path` \n",
    "* `Path(\"list_int.txt\").read_text()`: open the file, read the content, and close it\n",
    "* `Path(\"my_file.txt\").write_text(\"Hello\\nunpackAI\")`: open the file for writing, write the content, flush, and close it\n",
    "\n",
    "You can learn more about it in the [official documentation](https://docs.python.org/3/library/pathlib.html) or in any tutorial among the bunch of them that exist."
   ],
   "cell_type": "markdown",
   "metadata": {}
  },
  {
   "cell_type": "code",
   "execution_count": 92,
   "metadata": {},
   "outputs": [
    {
     "output_type": "stream",
     "name": "stdout",
     "text": [
      "0\n1\n4\n9\n16\n"
     ]
    }
   ],
   "source": [
    "from pathlib import Path\n",
    "\n",
    "file_path = Path(\"my_file.txt\")  # create the path\n",
    "file_path.write_text(\"\\n\".join(str(i**2) for i in range(5)))  # write\n",
    "print(file_path.read_text())  # read and print"
   ]
  },
  {
   "source": [
    "# Lesson 12: Functions ℱ\n"
   ],
   "cell_type": "code",
   "metadata": {},
   "execution_count": null,
   "outputs": []
  },
  {
   "source": [
    "# Lesson 13: More about Functions ℱ🥏\n",
    "\n",
    "\n"
   ],
   "cell_type": "markdown",
   "metadata": {}
  },
  {
   "source": [
    "# ⇝🔰 THE 🧙 END 🔰⇜"
   ],
   "cell_type": "markdown",
   "metadata": {}
  }
 ]
}