{
 "metadata": {
  "language_info": {
   "codemirror_mode": {
    "name": "ipython",
    "version": 3
   },
   "file_extension": ".py",
   "mimetype": "text/x-python",
   "name": "python",
   "nbconvert_exporter": "python",
   "pygments_lexer": "ipython3",
   "version": "3.7.1"
  },
  "orig_nbformat": 2,
  "kernelspec": {
   "name": "python371jvsc74a57bd08a428f088ac08f7fdf89fb2f4bb23c2bc8a83acc5d068a78d54410b8e3eeec73",
   "display_name": "Python 3.7.1 32-bit"
  }
 },
 "nbformat": 4,
 "nbformat_minor": 2,
 "cells": [
  {
   "source": [
    "# ⇝🥗 Summary Week 03 🥗⇜\n",
    "\n",
    "![unpackAI Logo](images/unpackAI_logo_whiteBG.svg)\n",
    "\n",
    "NOTE: We will use these icons for the content:\n",
    "* \"🎓\": Content in Lerner's course\n",
    "* \"➕\": extra content as a bonus\n",
    "* \"🧙\": cool stuff that will make your life easier but are a bit advanced \n",
    "* \"👨🏽‍🚀\": advanced content that is recorded as a \"For Your Information\""
   ],
   "cell_type": "markdown",
   "metadata": {}
  },
  {
   "source": [
    "# Lesson 10: Files 📁\n",
    "\n",
    "## 📌To process a file (read its content or write in it), you need 3 steps\n",
    "\n",
    "1. Open the file first: it will create a \"file handler\": `<file handler> = open(<path>)`\n",
    "2. Use the file handler for your operations (read or write)\n",
    "  - Read the whole content: `<file handler>.read()`\n",
    "  - Loop through the lines: `for line in <file handler>: ...`\n",
    "  - Write some content: `<file handler>.write(<some string>)`\n",
    "  - ... or some choices we will see later\n",
    "3. Optionaly (but recommended), close the file so other programs can read/write it: `<file handler>.close()`\n"
   ],
   "cell_type": "markdown",
   "metadata": {}
  },
  {
   "cell_type": "code",
   "execution_count": 61,
   "metadata": {},
   "outputs": [
    {
     "output_type": "execute_result",
     "data": {
      "text/plain": [
       "'Hello unpackAI \\nHow are you today? \\n'"
      ]
     },
     "metadata": {},
     "execution_count": 61
    }
   ],
   "source": [
    "# These next lines create a file \"hello.txt\" with 2 lines\n",
    "!echo Hello unpackAI > hello.txt\n",
    "!echo How are you today? >> hello.txt\n",
    "\n",
    "# 🎓 Usually, we use variable \"f\" for file handler\n",
    "f = open(\"hello.txt\")  \n",
    "content = f.read()\n",
    "content"
   ]
  },
  {
   "source": [
    "## 🧙💡 Easier way to manipulate files: with `pathlib`\n",
    "\n",
    "Python version 3.4 introduced an easier way to manipulate paths with the module `pathlib`.\n",
    "\n",
    "It works like this:\n",
    "\n",
    "1. Import `Path` from `pathlib` module: `from pathlib import Path`\n",
    "2. Create the path and store in a variable: `<path variable> = Path(<path>)`\n",
    "3. Use the path variable, like for example:\n",
    "  - Read the whole content of the file (no need to open it): `<path variable>.read_text()`\n",
    "  - Write content to the file (no need to open it): `<path variable>.write_text(<string content>)`\n",
    "  - ... and much more you can do\n",
    "\n",
    "All methods available for paths can be found in the [official documentation](https://docs.python.org/3/library/pathlib.html)."
   ],
   "cell_type": "markdown",
   "metadata": {}
  },
  {
   "cell_type": "code",
   "execution_count": 63,
   "metadata": {},
   "outputs": [
    {
     "output_type": "execute_result",
     "data": {
      "text/plain": [
       "29212"
      ]
     },
     "metadata": {},
     "execution_count": 63
    }
   ],
   "source": [
    "# 🧙 Example to create a file with 10,000 random integers between 1 and 100\n",
    "# ... and a empty line at the beginning of the file\n",
    "from pathlib import Path\n",
    "from random import randint\n",
    "\n",
    "txt_path = Path(\"list_int.txt\")\n",
    "content = \"\\n\"  # empty line at the beginning\n",
    "content += \"\\n\".join(\n",
    "    str(randint(1, 100)) \n",
    "    for i in range(10_000)\n",
    ")\n",
    "txt_path.write_text(content)"
   ]
  },
  {
   "cell_type": "code",
   "execution_count": 65,
   "metadata": {},
   "outputs": [
    {
     "output_type": "stream",
     "name": "stdout",
     "text": [
      "['\\n', '74\\n', '42\\n', '52\\n', '49\\n', '35\\n', '41\\n', '80\\n', '41\\n', '75\\n']\n"
     ]
    }
   ],
   "source": [
    "# 🎓 You can then read the content of this file\n",
    "# Exemple: We want to read the first 10 lines\n",
    "i = 0\n",
    "list_lines = list()\n",
    "for line in open(\"list_int.txt\"):\n",
    "    list_lines.append(line)\n",
    "    i += 1\n",
    "    if i >= 10:\n",
    "        break\n",
    "\n",
    "print(list_lines)"
   ]
  },
  {
   "cell_type": "code",
   "execution_count": 70,
   "metadata": {},
   "outputs": [
    {
     "output_type": "stream",
     "name": "stdout",
     "text": [
      "['\\n', '74\\n', '42\\n', '52\\n', '49\\n', '35\\n', '41\\n', '80\\n', '41\\n', '75\\n']\n[2, 4, 6, 8, 10] => [(0, 2), (1, 4), (2, 6), (3, 8), (4, 10)]\n\"abcedf\" (starting by 1) => [(1, 'a'), (2, 'b'), (3, 'c'), (4, 'd'), (5, 'e'), (6, 'f')]\n"
     ]
    }
   ],
   "source": [
    "# 🧙 ... or you can do with list comprehensions and enumerate\n",
    "# ENUMERATE is very convenient to avoid doing \"i = 0\" before the loop and \"i += 1\" inside the loop\n",
    "list_lines = [line for i, line in enumerate(open(\"list_int.txt\")) if i < 10]\n",
    "print(list_lines)\n",
    "\n",
    "# Note that \"enumerate\" will loop through an iterable (list, string, dictionary, etc.)\n",
    "# and provide an additional index starting by zero\n",
    "mylist = [2, 4, 6, 8, 10]\n",
    "print(mylist, \"=>\", list(enumerate(mylist)))\n",
    "# index 0, value 2\n",
    "# index 1, value 4\n",
    "# ...\n",
    "\n",
    "# you can modify the start value (default: 0)\n",
    "print('\"abcedf\" (starting by 1) =>', list(enumerate(\"abcdef\", start=1)))\n",
    "# index 1, value \"a\"\n",
    "# index 2, value \"b\"\n",
    "# ..."
   ]
  },
  {
   "source": [
    "## 📌🎓 Notice that lines end with `\\n`\n",
    "\n",
    "`\\n` is an **EOL**, i.e. _End of Line_. An EOL character is a character that marks the end of a line. This is the equivalent of line return (\"ENTER\") in MS Word or a typewriter. In a program, it is the character `\\n` (\"n\" because it's a \"new line\").\n",
    "\n",
    "You can remove this character with the `str.strip()` or `str.rstrip()` methods.\n",
    "\n",
    "More about EOL on [Wikipedia](https://en.wikipedia.org/wiki/Newline).\n",
    "\n",
    "**WHAT YOU NEED TO REMEMBER**: If you print a line directly, there will be an empty line between each line."
   ],
   "cell_type": "markdown",
   "metadata": {}
  },
  {
   "cell_type": "code",
   "execution_count": 76,
   "metadata": {
    "tags": []
   },
   "outputs": [
    {
     "output_type": "stream",
     "name": "stdout",
     "text": [
      "=== WITHOUT A STRIP ===\nL1. \n\nL2. 74\n\nL3. 42\n\n=== WITH A STRIP ===\nL5. 49\nL6. 35\nL7. 41\n"
     ]
    }
   ],
   "source": [
    "[line.rstrip() for i, line in enumerate(open(\"list_int.txt\")) if i < 10]\n",
    "\n",
    "# We will print the first 3 lines without a \"strip\" and the next 3 lines with a \"strip\"\n",
    "i = 0\n",
    "print(\"=== WITHOUT A STRIP ===\")\n",
    "for line in open(\"list_int.txt\"):\n",
    "    if i > 6:\n",
    "        break\n",
    "    if i > 3:\n",
    "        print(f\"L{i+1}.\", line.rstrip())\n",
    "    elif i == 3:\n",
    "        print(\"=== WITH A STRIP ===\")\n",
    "    else:\n",
    "        print(f\"L{i+1}.\", line)\n",
    "    i += 1"
   ]
  },
  {
   "source": [
    "### ➕ We have several ways to check if a line is empty:\n",
    "\n",
    "* Check that it starts with `\\n` character (`line.startswith(\"\\n\")`)\n",
    "* Check that after removing EOL at the end, it's the empty string (`line.rstrip() == \"\"`)\n",
    "\n",
    "💡 The opposite of `str.startswith()` is `str.endswith()` :)"
   ],
   "cell_type": "markdown",
   "metadata": {}
  },
  {
   "cell_type": "code",
   "execution_count": 64,
   "metadata": {},
   "outputs": [
    {
     "output_type": "execute_result",
     "data": {
      "text/plain": [
       "['14', '63', '1', '81', '74', '61', '49', '98', '74', '14']"
      ]
     },
     "metadata": {},
     "execution_count": 64
    }
   ],
   "source": [
    "[line.rstrip() for line in open(\"list_int.txt\") if not line.startswith(\"\\n\")][:10]"
   ]
  },
  {
   "cell_type": "code",
   "execution_count": 13,
   "metadata": {},
   "outputs": [
    {
     "output_type": "stream",
     "name": "stdout",
     "text": [
      "{14: 84, 63: 92, 1: 95, 81: 101, 74: 109, 61: 84, 49: 96, 98: 96, 62: 81, 27: 98, 18: 76, 96: 97, 47: 100, 21: 102, 65: 91, 52: 96, 10: 104, 5: 91, 12: 97, 95: 97, 77: 92, 68: 90, 51: 81, 94: 102, 91: 116, 88: 95, 31: 112, 55: 85, 46: 93, 36: 88, 72: 103, 29: 90, 45: 85, 73: 109, 17: 87, 39: 87, 85: 86, 37: 97, 4: 87, 13: 107, 34: 87, 57: 103, 9: 110, 64: 87, 78: 101, 99: 113, 50: 101, 90: 107, 48: 91, 33: 100, 53: 95, 69: 102, 100: 92, 89: 103, 71: 95, 30: 88, 24: 103, 22: 92, 7: 86, 25: 95, 70: 109, 80: 106, 79: 87, 97: 77, 16: 104, 11: 111, 83: 92, 26: 83, 43: 101, 84: 77, 41: 98, 38: 104, 20: 95, 92: 96, 28: 88, 2: 91, 66: 94, 35: 80, 19: 89, 23: 97, 82: 99, 60: 92, 56: 87, 93: 86, 67: 92, 75: 85, 32: 96, 40: 87, 59: 93, 42: 98, 3: 113, 58: 98, 54: 107, 76: 81, 8: 94, 6: 102, 15: 84, 44: 111, 86: 87, 87: 99}\n\n--- Count Numbers ---\nCounter({91: 116, 99: 113, 3: 113, 31: 112, 11: 111, 44: 111, 9: 110, 74: 109, 73: 109, 70: 109, 13: 107, 90: 107, 54: 107, 80: 106, 10: 104, 16: 104, 38: 104, 72: 103, 57: 103, 89: 103, 24: 103, 21: 102, 94: 102, 69: 102, 6: 102, 81: 101, 78: 101, 50: 101, 43: 101, 47: 100, 33: 100, 82: 99, 87: 99, 27: 98, 41: 98, 42: 98, 58: 98, 96: 97, 12: 97, 95: 97, 37: 97, 23: 97, 49: 96, 98: 96, 52: 96, 92: 96, 32: 96, 1: 95, 88: 95, 53: 95, 71: 95, 25: 95, 20: 95, 66: 94, 8: 94, 46: 93, 59: 93, 63: 92, 77: 92, 100: 92, 22: 92, 83: 92, 60: 92, 67: 92, 65: 91, 5: 91, 48: 91, 2: 91, 68: 90, 29: 90, 19: 89, 36: 88, 30: 88, 28: 88, 17: 87, 39: 87, 4: 87, 34: 87, 64: 87, 79: 87, 56: 87, 40: 87, 86: 87, 85: 86, 7: 86, 93: 86, 55: 85, 45: 85, 75: 85, 14: 84, 61: 84, 15: 84, 26: 83, 62: 81, 51: 81, 76: 81, 35: 80, 97: 77, 84: 77, 18: 76})\n\n--- Average ---\n95.0\n\n--- 10 most common numbers ---\n"
     ]
    },
    {
     "output_type": "execute_result",
     "data": {
      "text/plain": [
       "[(91, 116),\n",
       " (99, 113),\n",
       " (3, 113),\n",
       " (31, 112),\n",
       " (11, 111),\n",
       " (44, 111),\n",
       " (9, 110),\n",
       " (74, 109),\n",
       " (73, 109),\n",
       " (70, 109)]"
      ]
     },
     "metadata": {},
     "execution_count": 13
    }
   ],
   "source": [
    "# APPLICATION...\n",
    "# ❔ QUESTION: How to count how many times each number is present in the file \"list_int.txt\"?\n",
    "# Note: we need to skip empty lines :)\n",
    "\n",
    "# 🎓 This method is inspired by what Lerner showed\n",
    "# We usually do with a dictionary (or similar)\n",
    "# With a dictionary, we need to define the count \"1\" in the dictionary, the first time a value is found\n",
    "count_values = dict()\n",
    "for line in open(\"list_int.txt\"):\n",
    "    if line.startswith('\\n'):\n",
    "        continue\n",
    "    nb = int(line)  # Note: no need to \"strip\" because int(\"16\\n\") for example will strip and return 16\n",
    "    if nb in count_values:\n",
    "        count_values[nb] += 1\n",
    "    else:\n",
    "        count_values[nb] = 1  # first time we have found the value\n",
    "\n",
    "print(count_values)\n",
    "\n",
    "\n",
    "# 🧙 We can use \"Counter\" to help count\n",
    "# this remove the need to check if we have found the value: if not found, it will have the value \"1\"\n",
    "from collections import Counter\n",
    "\n",
    "count_nb = Counter()\n",
    "for line in open(\"list_int.txt\"):\n",
    "    if line.strip():  # meaning the stripped line has some content\n",
    "        count_nb[int(line)] += 1  # note: int(\"10\\n\") will return integer 10 (\"\\n\" is dropped)\n",
    "\n",
    "\n",
    "# 🧙🧙 or even shorter: \"Counter\" can count automatically from a list of values so we just need to loop and conveer to integer ;)\n",
    "count_nb = Counter(int(line) for line in open(\"list_int.txt\") if line.strip())\n",
    "\n",
    "\n",
    "# When you print a Counter, the numbers are sorted by frequency\n",
    "print(\"\\n--- Count Numbers ---\")\n",
    "print(count_nb)\n",
    "\n",
    "print(\"\\n--- Average ---\")\n",
    "average_count = sum(count_nb.values()) / len(count_nb)\n",
    "print(average_count)\n",
    "\n",
    "print(\"\\n--- 10 most common numbers ---\")\n",
    "count_nb.most_common(10)\n",
    "    "
   ]
  },
  {
   "source": [
    "### You can also read lines one by one with `readline()`"
   ],
   "cell_type": "markdown",
   "metadata": {}
  },
  {
   "cell_type": "code",
   "execution_count": 16,
   "metadata": {},
   "outputs": [
    {
     "output_type": "stream",
     "name": "stdout",
     "text": [
      "First line (empty): \nSecond line: 14\nThird line: 63\n1\n81\n74\n61\n"
     ]
    }
   ],
   "source": [
    "f = open(\"list_int.txt\")\n",
    "line_1 = f.readline().rstrip()\n",
    "line_2 = f.readline().rstrip()\n",
    "line_3 = f.readline().rstrip()\n",
    "print(f\"First line (empty): {line_1}\")\n",
    "print(f\"Second line: {line_2}\")\n",
    "print(f\"Third line: {line_3}\")\n",
    "\n",
    "other_content = f.read()  # it will continue reading from the 4th line until the end\n",
    "print(other_content[:10])"
   ]
  },
  {
   "cell_type": "code",
   "execution_count": 77,
   "metadata": {},
   "outputs": [
    {
     "output_type": "stream",
     "name": "stdout",
     "text": [
      "\n74\n42\n52\n49\n"
     ]
    }
   ],
   "source": [
    "# ➕ APPLICATION: Show the first n lines of a file\n",
    "# it uses the lesson 12 about functions and lesson 11 about \"with open...\"\n",
    "def head(n, file):\n",
    "    with open(file) as f:  \n",
    "        for _ in range(n):  # 👨🏽‍🚀 \"_\" can be used if there is some data that you don't to use => don't need to store in variable\n",
    "        # for i in range(n):  # the previous line could have been replaced by this one. Note that we don't use \"i\" later on, hence the \"_\"\n",
    "            print(f.readline().rstrip())\n",
    "\n",
    "head(5, \"list_int.txt\")"
   ]
  },
  {
   "source": [
    "# Lesson 11: Writing to Files 📝\n",
    "\n",
    "🎓 When we open a file, we need to specify what we want to do with it by writing `open(<file>, <mode>)` with `<mode>` being:\n",
    "\n",
    "* Read content (the default) => mode `r`\n",
    "* Write content AND ERASE EVERYTHING THAT WAS THERE BEFORE => mode `w`\n",
    "* Write content after the existing content (i.e. \"append\") => mode `a`\n",
    "\n",
    "🎓 If no mode is selected, it's the \"reading\" mode that is selected (like we have seen in previous lesson).\n",
    "\n",
    "👨🏽‍🚀 Actually, there are also 3 other modes `rb`, `wb`, and `ab` to use when you want to read binary code of file... but we will ignore that for the time being ;) There is also the Read-Write mode `r+` but it's a nightmare to use and you better never use it ;)"
   ],
   "cell_type": "markdown",
   "metadata": {}
  },
  {
   "cell_type": "code",
   "execution_count": 67,
   "metadata": {},
   "outputs": [
    {
     "output_type": "stream",
     "name": "stdout",
     "text": [
      "\n14\n63\n1\n81\n"
     ]
    }
   ],
   "source": [
    "f = open(\"list_int.txt\")\n",
    "for _ in range(5):\n",
    "    print(f.readline().rstrip())"
   ]
  },
  {
   "source": [
    "### 🎓 To write in a file, you need to open with proper mode and use `write()` method\n",
    "\n",
    "⚠ Unlike `print` that adds a line return at the end, `write()` does not. \n",
    "The reason behind is because we more often need to write the content of a file pieces by pieces (and not line by line)"
   ],
   "cell_type": "markdown",
   "metadata": {}
  },
  {
   "cell_type": "code",
   "execution_count": 24,
   "metadata": {},
   "outputs": [],
   "source": [
    "f = open(\"my_file.txt\", \"w\")\n",
    "for i in range(5):\n",
    "    f.write(f\"{i}\\n\")\n",
    "\n",
    "# print(\"I have finished writting in the file... or have I?\")"
   ]
  },
  {
   "source": [
    "### After you have written to a file with `write()`, the file might look empty...\n",
    "\n",
    "WARNING: the details below are a bit complex but important to understand that \"writing is not the end of the story\".\n",
    "\n",
    "### 🎓In a nutshell: \"YOU NEED TO CLOSE THE FILE AFTER YOU FINISHED WRITING IN IT\"\n",
    "\n",
    "---\n",
    "\n",
    "If you open the file after running the previous cell, you will notice that this file (_my_file.txt_) is empty (at least, sometimes it is).\n",
    "\n",
    "What happens is that the content is first stored in memory and needs to be pushed to the file (i.e. \"flushed\", like we do for the toilets🚽).\n",
    "\n",
    "You can manually flush the toilets, euh sorry the file, by using the `<file handler>.flush()` method (i.e. `f.flush()` in our previous case).\n",
    "But usually, the way we do is to close the file once we have finished writting (and this will flush automatically).\n"
   ],
   "cell_type": "markdown",
   "metadata": {}
  },
  {
   "cell_type": "code",
   "execution_count": 31,
   "metadata": {},
   "outputs": [],
   "source": [
    "f = open(\"my_file.txt\", \"w\")\n",
    "for i in range(5):\n",
    "    f.write(f\"{i**2}\\n\")\n",
    "f.close()  # close and flush\n"
   ]
  },
  {
   "source": [
    "### 🎓💡 There is a better way to close the file\n",
    "\n",
    "Because it's so important to close the file and that we don't want to always type `f.close()` each time we open (remember: coders and mathematicians are lazy), there is a simplified syntax to do it and it is the GOLDEN STANDARD:\n",
    "\n",
    "```\n",
    "with open(<path>, <mode>) as f:\n",
    "    ... (the code about the file)\n",
    "```\n",
    "\n",
    "Bonus of this syntax: even if we have an exception in the code (e.g. missing index in list), the file will be closed clean: this is the magic of `with`."
   ],
   "cell_type": "markdown",
   "metadata": {}
  },
  {
   "cell_type": "code",
   "execution_count": 90,
   "metadata": {},
   "outputs": [],
   "source": [
    "# ... so the previous code would be re-written like this:\n",
    "\n",
    "with open(\"my_file.txt\", \"w\") as f:\n",
    "    for i in range(5):\n",
    "        f.write(f\"{i**2}\\n\")\n",
    "\n",
    "# here, the file will be flushed and closed automagically"
   ]
  },
  {
   "cell_type": "code",
   "execution_count": 26,
   "metadata": {},
   "outputs": [],
   "source": [
    "# ➕ BONUS: A way to create an empty file\n",
    "\n",
    "# NOTE: it does not matter if the file existed before or not \n",
    "# => a new empty file will be created\n",
    "\n",
    "with open(\"empty_file.txt\", \"w\"):\n",
    "    pass\n"
   ]
  },
  {
   "cell_type": "code",
   "execution_count": 30,
   "metadata": {},
   "outputs": [
    {
     "output_type": "error",
     "ename": "FileNotFoundError",
     "evalue": "[Errno 2] No such file or directory: 'directory_that_does_not_exist/empty_file.txt'",
     "traceback": [
      "\u001b[1;31m---------------------------------------------------------------------------\u001b[0m",
      "\u001b[1;31mFileNotFoundError\u001b[0m                         Traceback (most recent call last)",
      "\u001b[1;32m<ipython-input-30-f2d8830b6d67>\u001b[0m in \u001b[0;36m<module>\u001b[1;34m\u001b[0m\n\u001b[0;32m      1\u001b[0m \u001b[1;31m# But the file needs to be in a directory that exists\u001b[0m\u001b[1;33m\u001b[0m\u001b[1;33m\u001b[0m\u001b[1;33m\u001b[0m\u001b[0m\n\u001b[0;32m      2\u001b[0m \u001b[1;31m# and you need to have the \"rights\" to write in this directory\u001b[0m\u001b[1;33m\u001b[0m\u001b[1;33m\u001b[0m\u001b[1;33m\u001b[0m\u001b[0m\n\u001b[1;32m----> 3\u001b[1;33m \u001b[1;32mwith\u001b[0m \u001b[0mopen\u001b[0m\u001b[1;33m(\u001b[0m\u001b[1;34m\"directory_that_does_not_exist/empty_file.txt\"\u001b[0m\u001b[1;33m,\u001b[0m \u001b[1;34m\"w\"\u001b[0m\u001b[1;33m)\u001b[0m\u001b[1;33m:\u001b[0m\u001b[1;33m\u001b[0m\u001b[1;33m\u001b[0m\u001b[0m\n\u001b[0m\u001b[0;32m      4\u001b[0m     \u001b[1;32mpass\u001b[0m\u001b[1;33m\u001b[0m\u001b[1;33m\u001b[0m\u001b[0m\n",
      "\u001b[1;31mFileNotFoundError\u001b[0m: [Errno 2] No such file or directory: 'directory_that_does_not_exist/empty_file.txt'"
     ]
    }
   ],
   "source": [
    "# ➕ NOTE: The file needs to be in a directory that exists (<directory>/<file>)\n",
    "# and you need to have the \"rights\" to write in this directory\n",
    "# ... otherwise an exception will be raised:\n",
    "\n",
    "with open(\"directory_that_does_not_exist/empty_file.txt\", \"w\"):\n",
    "    pass"
   ]
  },
  {
   "source": [
    "## 🧙🏄‍♂️ BONUS: Going back to `pathlib.Path`\n",
    "\n",
    "Once again, I personally recommend using `pathlib` when you work with files, paths, and read/write content.\n",
    "\n",
    "Look how easy it is:\n",
    "* A first line to import (i.e. \"load\") the module: `from pathlib import Path` \n",
    "* `Path(\"list_int.txt\").read_text()`: open the file, read the content, and close it\n",
    "* `Path(\"my_file.txt\").write_text(\"Hello\\nunpackAI\")`: open the file for writing, write the content, flush, and close it\n",
    "\n",
    "You can learn more about it in the [official documentation](https://docs.python.org/3/library/pathlib.html) or in any tutorial among the bunch of them that exist.\n",
    "\n",
    "There are many other things you can do with a `Path` with few characters of code. Let's take the example of `mypath = Path(\"C:/unpackAI/data/students.csv\")` and see what we can do:\n",
    "\n",
    "* `mypath.absolute()`: absolute path, i.e. starting from the root drive (e.g. `Path(\"C:/unpackAI/data/students.csv\")`)\n",
    "* `mypath.suffix`: extension of the file (e.g. `\".csv\"`)\n",
    "* `mypath.name`: name of the file, without the folder before (e.g. `students.csv`)\n",
    "* `mypath.stem`: name of the file without the extension (e.g. `students`)\n",
    "* `mypath.parent`: path of parent directory (e.g. `Path(\"C:/unpackAI/data\")`)\n",
    "* `mypath.exists()`: check if the file exists (True if it exists, False if it does not)\n",
    "* `mypath.unlink()`: delete the file\n",
    "* `mypath.parent.mkdir(parents=True, exist_ok=True)`: create the parent directory, and all directories between, if needed\n",
    "* `mypath.replace(\"C:/unpackAI/old_data/students.csv\")`: move the file\n",
    "* `mypath.parent.glob(\"*.csv\")`: create an iterable of all the csv files in the parent directory"
   ],
   "cell_type": "markdown",
   "metadata": {}
  },
  {
   "cell_type": "code",
   "execution_count": 34,
   "metadata": {},
   "outputs": [
    {
     "output_type": "stream",
     "name": "stdout",
     "text": [
      "0\n1\n4\n9\n16\n----\nPath: my_new_file.txt\nAbsolute path: e:\\AnsysDev\\_unpackAI\\unpackai_python\\my_new_file.txt\nParent (absolute): e:\\AnsysDev\\_unpackAI\\unpackai_python\nAll txt files in parent folder: [WindowsPath('empty_file.txt'), WindowsPath('list_int.txt'), WindowsPath('my_file.txt'), WindowsPath('my_new_file.txt'), WindowsPath('new_file.txt')]\n----\nDeleted new_file.txt\nAll txt files (after rename): [WindowsPath('empty_file.txt'), WindowsPath('list_int.txt'), WindowsPath('my_file.txt'), WindowsPath('new_file.txt')]\n"
     ]
    }
   ],
   "source": [
    "# 🧙 Examples of \"pathlib\"\n",
    "from pathlib import Path\n",
    "\n",
    "file_path = Path(\"my_new_file.txt\")  # create the path\n",
    "file_path.write_text(\"\\n\".join(str(i**2) for i in range(5)))  # write\n",
    "print(file_path.read_text())  # read and print\n",
    "\n",
    "print(\"----\")\n",
    "print(f\"Path: {file_path}\")\n",
    "print(f\"Absolute path: {file_path.absolute()}\")\n",
    "print(f\"Parent (absolute): {file_path.absolute().parent}\")\n",
    "print(f\"All txt files in parent folder: {list(file_path.parent.glob('*.txt'))}\")\n",
    "\n",
    "print(\"----\")\n",
    "# We will move the file\n",
    "# Because we cannot move to some path that already exists, we will do some clean-up first\n",
    "new_path = Path(\"new_file.txt\")\n",
    "if new_path.exists():\n",
    "    new_path.unlink()\n",
    "    print(f\"Deleted {new_path}\")\n",
    "file_path.rename(\"new_file.txt\")  # Note: we could also put variable new_path instead of the string\n",
    "print(f\"All txt files (after rename): {list(file_path.parent.glob('*.txt'))}\")\n"
   ]
  },
  {
   "source": [
    "# Lesson 12: Functions ℱ\n",
    "\n",
    "* Defining a Function (with or without argument)\n",
    "* Returning a value\n",
    "* Calling a Function (with different types of arguments)\n",
    "* Docstring (and `help`)\n",
    "\n",
    "## 🎓 Definition of a function\n",
    "\n",
    "```\n",
    "                             +-------------------------------------------+                                      \n",
    "                             |                                           |                                      \n",
    "                             |  FUNCTION                                 |                                      \n",
    "        INPUTS ------------> |              Do something with the inputs |------------> OUTPUTS                 \n",
    " (None, 1, or several)       |              Can return some outputs      |         (None, 1, or several [Tuple])\n",
    "                             |                                           |                                      \n",
    "                             +-------------------------------------------+                                      \n",
    "\n",
    "```                                                                                                    \n",
    "\n",
    "The inputs of the function are called **argument(s)**.\n",
    "\n",
    "The syntax to define a function is:\n",
    "\n",
    "```\n",
    "def <name of the function>(<0, 1, or several arguments separated by a comma>):\n",
    "    <implementation of function>\n",
    "    <use \"return\" to return the output(s)>   \n",
    "```\n",
    "\n",
    "⚠ Printing the result of your function will not make it available as an output: you need to return it with `return` keyword!\n",
    "\n",
    "(... but of course, you can print it if you want to \"debug\", i.e. understanding what is happening in your function)\n",
    "\n",
    "⚠ Just like in loops, we will have a colon (`:`) and an indent (i.e. 4 spaces) on the next line. \n"
   ],
   "cell_type": "markdown",
   "metadata": {}
  },
  {
   "cell_type": "code",
   "execution_count": 17,
   "metadata": {},
   "outputs": [],
   "source": [
    "# 🎓Function without argument and without output\n",
    "def hello():\n",
    "    print(\"Hello\")\n",
    "\n",
    "# 🎓Function with 1 argument and without output\n",
    "def hello_you(name):\n",
    "    print(f\"Hello, {name}\")\n",
    "\n",
    "# 🎓Function with 1 argument and with one output\n",
    "def get_greeting_message(name):\n",
    "    return f\"Hello, {name}\"\n",
    "\n",
    "# 🎓Function with 3 arguments and with one output\n",
    "def volume(length, width, height):\n",
    "    return length * width * height\n",
    "\n",
    "# 🎓Function with 3 arguments and with two outputs\n",
    "# NOTE: output is returned as a tuple (but without the parentheses) => return value1, value2\n",
    "def volume_and_surface(length, width, height):\n",
    "    return length * width * height, 2 * (length * width + length * height + width * height)\n"
   ]
  },
  {
   "source": [
    "## 🎓Calling a function\n",
    "\n",
    "To call a function, it's quite easy: `<name of the function>(<arguments, if any>)`\n",
    "\n",
    "If the function returns an output, you can store it in variable(s). For multiple variables, you can use unpacking."
   ],
   "cell_type": "markdown",
   "metadata": {}
  },
  {
   "cell_type": "code",
   "execution_count": 19,
   "metadata": {},
   "outputs": [
    {
     "output_type": "stream",
     "name": "stdout",
     "text": [
      "Hello\nHello, Jeff\nHello, John\nVolume = 6\nVolume = 6, Surface = 22\n"
     ]
    }
   ],
   "source": [
    "# 🎓\n",
    "hello()\n",
    "hello_you(\"Jeff\")\n",
    "\n",
    "greeting = get_greeting_message(\"John\")\n",
    "print(greeting)\n",
    "\n",
    "vol = volume(1, 2, 3)\n",
    "print(f\"Volume = {vol}\")\n",
    "\n",
    "vol2, area = volume_and_surface(1, 2, 3)\n",
    "print(f\"Volume = {vol2}, Surface = {area}\")"
   ]
  },
  {
   "source": [
    "## 🎓 Explaining your function: Docstring vs Comments\n",
    "\n",
    "### In a nutshell: DOCSTRING provides documentation for the user, COMMENTS provide guidance for the coder who will have to modify the code later\n",
    "\n",
    "What is docstring?\n",
    "\n",
    "- *docstring* is a multi-line string just after the def line of the function\n",
    "- Multi-line is triple double quotes \"\"\" ... \"\"\"\n",
    "- Usually the first line of the docstring gives a general description, the other lines add details\n",
    "\n",
    "---\n",
    "\n",
    "Usually, you want to explain what your function is doing and how it's doing it.\n",
    "\n",
    "You have 2 main usage:\n",
    "\n",
    "1. **\"User Manual\"**: you need to understand what is this function for and how to use it\n",
    "  - What are the inputs: how many, what type they have (integer? list?), their unit (m? km?), etc.\n",
    "  - What will be the outputs\n",
    "  - What the functions does\n",
    "\n",
    "2. **\"Maintener Manual\"**: you need to understand the logic of the function in case you need to correct / improve it\n",
    "  - how the code of the function is written\n",
    "  - the global logic of the code\n",
    "\n",
    "### The \"Maintener Manual\" is provided inside the code as comments\n",
    "\n",
    "The comments are essential when the function is quite complex and if you need to modify your code in 6 months or more\n",
    "(after which you have usually forgot what you have written) or if someone else needs to modify it.\n",
    "\n",
    " (`# <my comment`, with usually a space after the hash).\n",
    "\n",
    "➕💡 It's better to avoid \"obvious comments\" (i.e. comments that just say what you are doing, like \"Print a variable\")\n",
    "and prefer comments that explain the logic of WHY you are doing it (e.g. \"We want a string from the list so we need to join the elements\").\n",
    "\n",
    "### The \"User Manual\" is provided with something called **docstring**"
   ],
   "cell_type": "markdown",
   "metadata": {}
  },
  {
   "cell_type": "code",
   "execution_count": 36,
   "metadata": {},
   "outputs": [],
   "source": [
    "# 🎓 Example of docstring and comments (example not in the course)\n",
    "\n",
    "def safe_division(dividend, divisor):\n",
    "    \"\"\"Return the quotient of a division, or \"None\" if divisor is null\n",
    "\n",
    "    ... this is usually where you can add some details ...\n",
    "    \"\"\"\n",
    "    if divisor == 0:\n",
    "        return\n",
    "\n",
    "    # At this point, divisor cannot be null so we can safely divide\n",
    "    return dividend / divisor \n",
    "\n",
    "\n",
    "# ➕ Simplified version of a function here\n",
    "# https://github.com/pytest-dev/pytest/blob/main/src/_pytest/stepwise.py\n",
    "\n",
    "# NOTE: docstring is missing... not good! :)\n",
    "# ... but it shows some comments we could have to help understand the function\n",
    "def pytest_collection_modifyitems(last_failed, config, items):\n",
    "    if not lastfailed:\n",
    "        return \"no previously failed tests, not skipping.\"\n",
    "\n",
    "    # check all item nodes until we find a match on last failed\n",
    "    failed_index = None\n",
    "    for index, item in enumerate(items):\n",
    "        if item.nodeid == lastfailed:\n",
    "            failed_index = index\n",
    "            break\n",
    "\n",
    "    # If the previously failed test was not found among the test items,\n",
    "    # do not skip any tests.\n",
    "    if failed_index is None:\n",
    "        report_status = \"previously failed test not found, not skipping.\"\n",
    "    else:\n",
    "        report_status = f\"skipping {failed_index} already passed items.\"\n",
    "        deselected = items[:failed_index]\n",
    "        del items[:failed_index]\n",
    "        config.hook.pytest_deselected(items=deselected)\n",
    "    return report_status"
   ]
  },
  {
   "cell_type": "code",
   "execution_count": 38,
   "metadata": {},
   "outputs": [
    {
     "output_type": "stream",
     "name": "stdout",
     "text": [
      "Help on function safe_division in module __main__:\n\nsafe_division(dividend, divisor)\n    Return the quotient of a division, or \"None\" if divisor is null\n    \n    ... this is usually where you can add some details ...\n\n"
     ]
    },
    {
     "output_type": "execute_result",
     "data": {
      "text/plain": [
       "''"
      ]
     },
     "metadata": {},
     "execution_count": 38
    }
   ],
   "source": [
    "# ➕ NOTE: You can see the docstring of your function with \"help\"\n",
    "help(safe_division)"
   ]
  },
  {
   "cell_type": "code",
   "execution_count": 79,
   "metadata": {},
   "outputs": [
    {
     "output_type": "stream",
     "name": "stdout",
     "text": [
      "Help on method_descriptor:\n\nrstrip(self, chars=None, /)\n    Return a copy of the string with trailing whitespace removed.\n    \n    If chars is given and not None, remove characters in chars instead.\n\n------\nHelp on built-in function rstrip:\n\nrstrip(chars=None, /) method of builtins.str instance\n    Return a copy of the string with trailing whitespace removed.\n    \n    If chars is given and not None, remove characters in chars instead.\n\n------\n"
     ]
    },
    {
     "output_type": "stream",
     "text": [
      "\u001b[1;31mSignature:\u001b[0m \u001b[0mstr\u001b[0m\u001b[1;33m.\u001b[0m\u001b[0mstrip\u001b[0m\u001b[1;33m(\u001b[0m\u001b[0mself\u001b[0m\u001b[1;33m,\u001b[0m \u001b[0mchars\u001b[0m\u001b[1;33m=\u001b[0m\u001b[1;32mNone\u001b[0m\u001b[1;33m,\u001b[0m \u001b[1;33m/\u001b[0m\u001b[1;33m)\u001b[0m\u001b[1;33m\u001b[0m\u001b[1;33m\u001b[0m\u001b[0m\n",
      "\u001b[1;31mDocstring:\u001b[0m\n",
      "Return a copy of the string with leading and trailing whitespace remove.\n",
      "\n",
      "If chars is given and not None, remove characters in chars instead.\n",
      "\u001b[1;31mType:\u001b[0m      method_descriptor\n"
     ],
     "name": "stdout"
    }
   ],
   "source": [
    "# ➕ REMINDER: on method, you need to put <object>.<method> for the help function\n",
    "help(str.rstrip)  # usually we put with \"str\" for the string, \"list\" for list, \"dict\" for dictionaries, etc.\n",
    "print(\"------\")\n",
    "\n",
    "help(\"\".rstrip)  # but this will also work with a simple string \n",
    "#(although help message is a bit more confusing) => talking about \"built-in\" stuff\n",
    "print(\"------\")\n",
    "\n",
    "# And in Jupyter, you can also use ?<function> or ?<method> for the help message\n",
    "?str.strip"
   ]
  },
  {
   "source": [
    "# Lesson 13: More about Functions ℱ🥏\n",
    "\n",
    "* Defining a function with default values (and where we can put them)\n",
    "* Calling a function with default values\n",
    "* How to set defaults for mutables (lists, dictionaries)\n",
    "\n",
    "## 🎓 Defining a function with default values\n",
    "\n",
    "When you define a function, you can make an argument optional by adding a default value: it will be used if the argument is not set when you call the function.\n",
    "```\n",
    "def <function>(<argument>=<default value>):\n",
    "    <implementation>\n",
    "```\n",
    "\n",
    "\n"
   ],
   "cell_type": "markdown",
   "metadata": {}
  },
  {
   "cell_type": "code",
   "execution_count": 25,
   "metadata": {},
   "outputs": [
    {
     "output_type": "stream",
     "name": "stdout",
     "text": [
      "Hello, Jeff\nHello, you\n---\ni = 0\ni = 2\ni = 3\n"
     ]
    }
   ],
   "source": [
    "def hello_again(name=\"you\"):\n",
    "    print(f\"Hello, {name}\")\n",
    "\n",
    "hello_again(\"Jeff\")\n",
    "hello_again()\n",
    "print(\"---\")\n",
    "\n",
    "\n",
    "def increment(number, incr=1):\n",
    "    return number + incr\n",
    "\n",
    "i = 0\n",
    "print(f\"i = {i}\")\n",
    "i = increment(i, 2)\n",
    "print(f\"i = {i}\")\n",
    "i = increment(i)\n",
    "print(f\"i = {i}\")"
   ]
  },
  {
   "source": [
    "### 🎓⚠ After you have set a default value for an argument, all following arguments shall have a default value."
   ],
   "cell_type": "markdown",
   "metadata": {}
  },
  {
   "cell_type": "code",
   "execution_count": 26,
   "metadata": {},
   "outputs": [
    {
     "output_type": "error",
     "ename": "SyntaxError",
     "evalue": "non-default argument follows default argument (<ipython-input-26-1f2db932616d>, line 1)",
     "traceback": [
      "\u001b[1;36m  File \u001b[1;32m\"<ipython-input-26-1f2db932616d>\"\u001b[1;36m, line \u001b[1;32m1\u001b[0m\n\u001b[1;33m    def wrong_function(name=\"toto\", mandatory_arg):\u001b[0m\n\u001b[1;37m                      ^\u001b[0m\n\u001b[1;31mSyntaxError\u001b[0m\u001b[1;31m:\u001b[0m non-default argument follows default argument\n"
     ]
    }
   ],
   "source": [
    "#🎓\n",
    "def wrong_function(name=\"toto\", mandatory_arg):\n",
    "    print(name)"
   ]
  },
  {
   "source": [
    "### 🎓💡 You can also use the name of the argument when you call the function\n",
    "\n",
    "You can use the name `<argument>=<value>` when you call the function."
   ],
   "cell_type": "markdown",
   "metadata": {}
  },
  {
   "cell_type": "code",
   "execution_count": 80,
   "metadata": {},
   "outputs": [
    {
     "output_type": "stream",
     "name": "stdout",
     "text": [
      "L=2, W=3, H=4\nL=1, W=1, H=1\nL=3, W=4, H=5\nL=2, W=1, H=5\n"
     ]
    }
   ],
   "source": [
    "def dim_dflt(length=1, width=1, height=1):\n",
    "    \"\"\"Compute the volume of a box, with all dimensions set by default to 1\"\"\"\n",
    "    print(f\"L={length}, W={width}, H={height}\")\n",
    "\n",
    "dim_dflt(2, 3, 4)  # L=2 * W=3 * H=4\n",
    "dim_dflt()  # L=1 * W=1 * H=1\n",
    "dim_dflt(height=5, width=4, length=3)  # L=3 * W=4 * H=5 ... order does not matter\n",
    "dim_dflt(2, height=5)  # L=2 * W=1 * H=5 ... you can combine arguments in the order and names\n"
   ]
  },
  {
   "source": [
    "\n",
    "➕ This is very useful to use variable names when:\n",
    "\n",
    "* you want to keep some of the default values but specify some others\n",
    "* you want to see clearly in your code what you are doing\n",
    "\n",
    "For the second point, imagine you have the function `def volume_cylinder(radius, height)`.\n",
    "\n",
    "In the following 2 blocks of code, we have made in the mistake when calling the function \n",
    "by interverting the 2 values for height and radius.\n",
    "\n",
    "The question is: for which is it easier to see the issue?\n",
    "\n",
    "```python\n",
    "radius1 = 20\n",
    "height1 = 100\n",
    "vol = volume_cylinder(height1, radius1)\n",
    "```\n",
    "\n",
    "or\n",
    "\n",
    "```\n",
    "radius2 = 20\n",
    "height2 = 100\n",
    "vol = volume_cylinder(radius=height2, height=radius2)\n",
    "```\n"
   ],
   "cell_type": "markdown",
   "metadata": {}
  },
  {
   "cell_type": "code",
   "execution_count": 82,
   "metadata": {},
   "outputs": [
    {
     "output_type": "stream",
     "name": "stdout",
     "text": [
      "L=2, W=3, H=4\nL=2, W=3, H=1\nL=1, W=3, H=5\n"
     ]
    }
   ],
   "source": [
    "# 🧙👨🏽‍🚀 ADVANCED: you can use list and dictionary to fill up the arguments\n",
    "\n",
    "def dim_dflt(length=1, width=1, height=1):\n",
    "    \"\"\"Compute the volume of a box, with all dimensions set by default to 1\"\"\"\n",
    "    print(f\"L={length}, W={width}, H={height}\")\n",
    "\n",
    "# * + list => put all elements of the list as arguments one by one\n",
    "dim_list = [2, 3, 4]\n",
    "dim_dflt(*dim_list)  # 3 values\n",
    "\n",
    "dim_list = [2, 3]\n",
    "dim_dflt(*dim_list) # 2 values => HEIGHT = default\n",
    "\n",
    "# ** + dictionary => put all elements of the dictionary as arguments by using the name\n",
    "dim_dict = {\"width\":3, \"height\":5}\n",
    "dim_dflt(**dim_dict)"
   ]
  },
  {
   "source": [
    "## 🎓⚠ Important rule of thumb: NEVER USE mutable defaults!\n",
    "\n",
    "Meaning: Your default argument values should be data that cannot be changed (None, boolean, string, integer, tuple). You cannot have lists or dictionaries as default value.\n",
    "\n",
    "Otherwise, if you modify it later (e.g. add an element to a default empty list), the default itself will be modified!"
   ],
   "cell_type": "markdown",
   "metadata": {}
  },
  {
   "cell_type": "code",
   "execution_count": 48,
   "metadata": {},
   "outputs": [
    {
     "output_type": "stream",
     "name": "stdout",
     "text": [
      "['toto']\n['toto']\n['toto']\n['toto', 'toto']\n"
     ]
    }
   ],
   "source": [
    "# We see here what happens with an empty list as default\n",
    "\n",
    "def toto(list_values=[]):\n",
    "    list_values.append(\"toto\")\n",
    "    print(list_values)\n",
    "\n",
    "toto([])\n",
    "toto([])\n",
    "toto()  # => ARGH: we have modified the default value. It is now [\"toto\"]\n",
    "toto()  # We can see here that the default has been modified to a list [\"toto\"] so result is [\"toto\", \"toto\"]"
   ]
  },
  {
   "source": [
    "🎓The correct approach is to use `None` as default and set as a list later in the code!"
   ],
   "cell_type": "markdown",
   "metadata": {}
  },
  {
   "cell_type": "code",
   "execution_count": 86,
   "metadata": {},
   "outputs": [
    {
     "output_type": "stream",
     "name": "stdout",
     "text": [
      "['toto']\n['toto']\n['toto']\n['toto']\n{'a': 1}\n{'a': 1}\n"
     ]
    }
   ],
   "source": [
    "def toto_correct(list_values=None):\n",
    "    if list_values is None:\n",
    "        list_values = []\n",
    "    list_values.append(\"toto\")\n",
    "    print(list_values)\n",
    "\n",
    "toto_correct([])\n",
    "toto_correct([])\n",
    "toto_correct()\n",
    "toto_correct()  # => here, it works\n",
    "\n",
    "\n",
    "def store_in_dict(key, value, dict_values=None):\n",
    "    if dict_values is None:\n",
    "        dict_values = dict()\n",
    "    dict_values[key] = value\n",
    "    print(dict_values)\n",
    "\n",
    "store_in_dict(\"a\", 1)\n",
    "store_in_dict(\"a\", 1)"
   ]
  },
  {
   "source": [
    "----\n",
    "## ➕👨🏽‍🚀 BONUS (for Lists): What happens if I copy a list and I modify the first list?"
   ],
   "cell_type": "markdown",
   "metadata": {}
  },
  {
   "cell_type": "code",
   "execution_count": 56,
   "metadata": {},
   "outputs": [
    {
     "output_type": "stream",
     "name": "stdout",
     "text": [
      "6 5\n[1, 2, 3, 4, 5] [1, 2, 3, 4, 5]\n[1, 2, 3, 4, 5] [1, 2, 3]\n"
     ]
    }
   ],
   "source": [
    "# If I copy a number n1 to n2, modify the first number n1, nothing happens to n2\n",
    "n1 = 5\n",
    "n2 = n1\n",
    "n1 += 1\n",
    "print(n1, n2)  # 6, 5  => n2 not modified when n1 is modified\n",
    "\n",
    "# Is it the same with a lst??\n",
    "lst1 = [1, 2, 3]\n",
    "lst2 = lst1  # => lst2 is a \"clone\" of lst1\n",
    "lst1+= [4, 5]\n",
    "print(lst1, lst2) # => modifying lst1 will modify lst2\n",
    "# => If I copy a number lst1 to lst2, modifying the first lst n1 will also change lst2\n",
    "\n",
    "# You need to create a copy. The easiest way is with a \"slice\"\n",
    "lst1 = [1, 2, 3]\n",
    "lst2 = lst1[:]  # a slice of the whole lst = a new lst with all the values => a copy\n",
    "lst1 += [4, 5]\n",
    "print(lst1, lst2) # => lst2 not modified\n",
    "\n",
    "# 👨🏽‍🚀👨🏽‍🚀NOTE: Same thing happens to dictionary but it's a bit more tricky to copy\n"
   ]
  },
  {
   "source": [
    "# ⇝🔰 THE 🧙 END 🔰⇜"
   ],
   "cell_type": "markdown",
   "metadata": {}
  }
 ]
}