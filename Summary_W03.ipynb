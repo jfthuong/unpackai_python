{
 "metadata": {
  "language_info": {
   "codemirror_mode": {
    "name": "ipython",
    "version": 3
   },
   "file_extension": ".py",
   "mimetype": "text/x-python",
   "name": "python",
   "nbconvert_exporter": "python",
   "pygments_lexer": "ipython3",
   "version": "3.7.1"
  },
  "orig_nbformat": 2,
  "kernelspec": {
   "name": "python371jvsc74a57bd08a428f088ac08f7fdf89fb2f4bb23c2bc8a83acc5d068a78d54410b8e3eeec73",
   "display_name": "Python 3.7.1 32-bit"
  }
 },
 "nbformat": 4,
 "nbformat_minor": 2,
 "cells": [
  {
   "source": [
    "# ⇝🥗 Summary Week 03 🥗⇜\n",
    "## 👨🏽‍🚀🏄‍♂️🚀👨‍🎓🔰\n",
    "\n",
    "![unpackAI Logo](images/unpackAI_logo_whiteBG.svg)"
   ],
   "cell_type": "markdown",
   "metadata": {}
  },
  {
   "source": [
    "# Lesson 10: Files 📁\n",
    "\n",
    "## 📌To process a file (read its content or write in it), you need 3 steps\n",
    "\n",
    "1. Open the file first: it will create a \"file handler\": `<file handler> = open(<path>)`\n",
    "2. Use the file handler for your operations (read or write)\n",
    "  - Read the whole content: `<file handler>.read()`\n",
    "  - Write some content: `<file handler>.write(<some string>)`\n",
    "  - ... or some choices we will see later\n",
    "3. Optionaly (but recommended), close the file so other programs can read/write it: `<file handler>.close()`\n",
    "\n",
    "💡When reading a file with **non-ASCII characters** (meaning non-standard English so for examples icons like this 🧙, Chinese characters, or even French or Russian...), you will need to specify an **encoding** to decipher the characters. Usually, UTF-8 encoding is working in most cases: to use it, you need to write `open(<path>, encoding=\"utf-8\")` when opening the file. "
   ],
   "cell_type": "markdown",
   "metadata": {}
  },
  {
   "cell_type": "code",
   "execution_count": 9,
   "metadata": {},
   "outputs": [
    {
     "output_type": "execute_result",
     "data": {
      "text/plain": [
       "'{\\n \"metadata\": {\\n  \"language_info\": {\\n   \"codemirror_mode\": {\\n    \"name\": \"ipython\",\\n    \"version\": 3\\n   },\\n   \"file_extension\": \".py\",\\n   \"mimetype\": \"text/x-python\",\\n   \"name\": \"python\",\\n   \"nbconvert_exporter\": \"python\",\\n   \"pygments_lexer\": \"ipython3\",\\n   \"version\": \"3.7.1\"\\n  },\\n  \"orig_nbformat\": 2,\\n  \"kernelspec\": {\\n   \"name\": \"python371jvsc74a57bd08a428f088ac08f7fdf89fb2f4bb23c2bc8a83acc5d068a78d54410b8e3eeec73\",\\n   \"display_name\": \"Python 3.7.1 32-bit\"\\n  }\\n },\\n \"nbformat\": 4,\\n \"nbformat_minor\": 2,\\n \"cells\": [\\n  {\\n   \"source\": [\\n    \"# ⇝🥗 Summary Week 03 🥗⇜\\\\n\",\\n    \"## 👨🏽\\u200d🚀🏄\\u200d♂️🚀👨\\u200d🎓🔰\\\\n\",'"
      ]
     },
     "metadata": {},
     "execution_count": 9
    }
   ],
   "source": [
    "# Usually, we use variable \"f\" for file handler\n",
    "# We open this notebook with plenty of icons so we use utf-8\n",
    "f = open(\"Summary_W03.ipynb\", encoding=\"utf-8\")  \n",
    "content = f.read()\n",
    "content[:600] # we will just show the first characters"
   ]
  },
  {
   "source": [
    "## 💡 Easier way to manipulate files: with `pathlib` 🧙💻\n",
    "\n",
    "Python version 3.4 introduced an easier way to manipulate paths with the module `pathlib`.\n",
    "\n",
    "It works like this:\n",
    "\n",
    "1. Import `Path` from `pathlib` module: `from pathlib import Path`\n",
    "2. Create the path and store in a variable: `<path variable> = Path(<path>)`\n",
    "3. Use the path variable, like for example:\n",
    "  - Read the whole content of the file (no need to open it): `<path variable>.read_text()`\n",
    "  - Write content to the file (no need to open it): `<path variable>.write_text(<string content>)`\n",
    "  - ... and much more you can do\n",
    "\n",
    "All methods available for paths can be found in the [official documentation](https://docs.python.org/3/library/pathlib.html)."
   ],
   "cell_type": "markdown",
   "metadata": {}
  },
  {
   "cell_type": "code",
   "execution_count": 56,
   "metadata": {},
   "outputs": [
    {
     "output_type": "execute_result",
     "data": {
      "text/plain": [
       "28222"
      ]
     },
     "metadata": {},
     "execution_count": 56
    }
   ],
   "source": [
    "# Example to create a file with 10,000 random integers between 1 and 100\n",
    "from pathlib import Path\n",
    "from random import randint\n",
    "\n",
    "txt_path = Path(\"list_int.txt\") \n",
    "txt_path.write_text(\"\\n\".join(\n",
    "    str(randint(1, 100)) if i % 20 else \"\" \n",
    "    for i in range(10_000)\n",
    "))"
   ]
  },
  {
   "cell_type": "code",
   "execution_count": 63,
   "metadata": {},
   "outputs": [
    {
     "output_type": "stream",
     "name": "stdout",
     "text": [
      "['\\n', '14\\n', '63\\n', '1\\n', '81\\n', '74\\n', '61\\n', '49\\n', '98\\n', '74\\n']\n['\\n', '14\\n', '63\\n', '1\\n', '81\\n', '74\\n', '61\\n', '49\\n', '98\\n', '74\\n']\n"
     ]
    }
   ],
   "source": [
    "# You can then read the content of this file\n",
    "# We want to read the first 5 lines\n",
    "i = 0\n",
    "list_lines = list()\n",
    "for line in open(\"list_int.txt\"):\n",
    "    list_lines.append(line)\n",
    "    i += 1\n",
    "    if i >= 10:\n",
    "        break\n",
    "\n",
    "print(list_lines)\n",
    "\n",
    "# ... or with list comprehensions and enumerate\n",
    "list_lines = [line for i, line in enumerate(open(\"list_int.txt\")) if i < 10]\n",
    "print(list_lines)"
   ]
  },
  {
   "source": [
    "## 📌Notice that lines end with a \"EOL\"\n",
    "\n",
    "**EOL** = _End of Line_. An EOL character is a character that marks the end of a line. This is the equivalent of line return (\"ENTER\") in MS Word or a typewriter.\n",
    "\n",
    "In a program, it is usually the character `\\n`, but also sometimes on Windows the two characters `\\r` followed by `\\n`.\n",
    "\n",
    "You can remove this character with the `str.strip()` or `str.rstrip()` methods.\n",
    "\n",
    "You can learn more about this concept on [Wikipedia](https://en.wikipedia.org/wiki/Newline)."
   ],
   "cell_type": "markdown",
   "metadata": {}
  },
  {
   "cell_type": "code",
   "execution_count": 62,
   "metadata": {},
   "outputs": [
    {
     "output_type": "execute_result",
     "data": {
      "text/plain": [
       "['', '14', '63', '1', '81', '74', '61', '49', '98', '74']"
      ]
     },
     "metadata": {},
     "execution_count": 62
    }
   ],
   "source": [
    "[line.rstrip() for i, line in enumerate(open(\"list_int.txt\")) if i < 10]"
   ]
  },
  {
   "source": [
    "### We have several ways to check if a line is empty:\n",
    "\n",
    "* Check that it starts with `\\n` character (`line.startswith(\"\\n\")`)\n",
    "* Check that after removing EOL at the end, it's the empty string (`line.rstrip() == \"\"`)\n",
    "\n",
    "💡 The opposite of `str.startswith()` is `str.endswith()` :)"
   ],
   "cell_type": "markdown",
   "metadata": {}
  },
  {
   "cell_type": "code",
   "execution_count": 64,
   "metadata": {},
   "outputs": [
    {
     "output_type": "execute_result",
     "data": {
      "text/plain": [
       "['14', '63', '1', '81', '74', '61', '49', '98', '74', '14']"
      ]
     },
     "metadata": {},
     "execution_count": 64
    }
   ],
   "source": [
    "[line.rstrip() for line in open(\"list_int.txt\") if not line.startswith(\"\\n\")][:10]"
   ]
  },
  {
   "cell_type": "code",
   "execution_count": 57,
   "metadata": {},
   "outputs": [
    {
     "output_type": "stream",
     "name": "stdout",
     "text": [
      "Counter({91: 116, 99: 113, 3: 113, 31: 112, 11: 111, 44: 111, 9: 110, 74: 109, 73: 109, 70: 109, 13: 107, 90: 107, 54: 107, 80: 106, 10: 104, 16: 104, 38: 104, 72: 103, 57: 103, 89: 103, 24: 103, 21: 102, 94: 102, 69: 102, 6: 102, 81: 101, 78: 101, 50: 101, 43: 101, 47: 100, 33: 100, 82: 99, 87: 99, 27: 98, 41: 98, 42: 98, 58: 98, 96: 97, 12: 97, 95: 97, 37: 97, 23: 97, 49: 96, 98: 96, 52: 96, 92: 96, 32: 96, 1: 95, 88: 95, 53: 95, 71: 95, 25: 95, 20: 95, 66: 94, 8: 94, 46: 93, 59: 93, 63: 92, 77: 92, 100: 92, 22: 92, 83: 92, 60: 92, 67: 92, 65: 91, 5: 91, 48: 91, 2: 91, 68: 90, 29: 90, 19: 89, 36: 88, 30: 88, 28: 88, 17: 87, 39: 87, 4: 87, 34: 87, 64: 87, 79: 87, 56: 87, 40: 87, 86: 87, 85: 86, 7: 86, 93: 86, 55: 85, 45: 85, 75: 85, 14: 84, 61: 84, 15: 84, 26: 83, 62: 81, 51: 81, 76: 81, 35: 80, 97: 77, 84: 77, 18: 76})\n\n--- Average ---\n95.0\n\n--- 10 most common numbers ---\n"
     ]
    },
    {
     "output_type": "execute_result",
     "data": {
      "text/plain": [
       "[(91, 116),\n",
       " (99, 113),\n",
       " (3, 113),\n",
       " (31, 112),\n",
       " (11, 111),\n",
       " (44, 111),\n",
       " (9, 110),\n",
       " (74, 109),\n",
       " (73, 109),\n",
       " (70, 109)]"
      ]
     },
     "metadata": {},
     "execution_count": 57
    }
   ],
   "source": [
    "# ❔ QUESTION: How to count how many times each number is present in the file \"list_int.txt\"?\n",
    "# Note: we need to skip empty lines :)\n",
    "\n",
    "# We will use \"counter\" to help count (without having to check if we already have the key)\n",
    "from collections import Counter\n",
    "\n",
    "count_nb = Counter()\n",
    "for line in open(\"list_int.txt\"):\n",
    "    if line.strip():  # meaning the stripped line has some content\n",
    "        count_nb[int(line)] += 1  # note: int(\"10\\n\") will return integer 10 (\"\\n\" is dropped)\n",
    "\n",
    "# ... or even shorter because \"Counter\" can count automatically from a list ;)\n",
    "count_nb = Counter(int(line) for line in open(\"list_int.txt\") if line.strip())\n",
    "\n",
    "# Numbers sorted by frequency (by default when you print a counter)\n",
    "print(count_nb)\n",
    "\n",
    "print(\"\\n--- Average ---\")\n",
    "average_count = sum(count_nb.values()) / len(count_nb)\n",
    "print(average_count)\n",
    "\n",
    "print(\"\\n--- 10 most common numbers ---\")\n",
    "count_nb.most_common(10)"
   ]
  },
  {
   "source": [
    "### You can also read lines one by one with `readline()`"
   ],
   "cell_type": "markdown",
   "metadata": {}
  },
  {
   "cell_type": "code",
   "execution_count": 60,
   "metadata": {},
   "outputs": [
    {
     "output_type": "stream",
     "name": "stdout",
     "text": [
      "First line: \nSecond line: 14\nThird line: 63\n"
     ]
    }
   ],
   "source": [
    "f = open(\"list_int.txt\")\n",
    "line_1 = f.readline().rstrip()\n",
    "line_2 = f.readline().rstrip()\n",
    "line_3 = f.readline().rstrip()\n",
    "print(f\"First line: {line_1}\")\n",
    "print(f\"Second line: {line_2}\")\n",
    "print(f\"Third line: {line_3}\")"
   ]
  },
  {
   "source": [
    "# Lesson 11: Writing to Files 📝\n",
    "\n",
    "When we open a file, we need to specify what we want to do with it by writing `open(<file>, <mode>)` with `<mode>` being:\n",
    "\n",
    "* Read content (the default) => mode `r`\n",
    "* Write content AND ERASE EVERYTHING THAT WAS THERE BEFORE => mode `w`\n",
    "* Write content after the existing content (i.e. \"append\") => mode `a`\n",
    "\n",
    "If no mode is selected, it's the \"reading\" mode that is selected (like we have seen in previous lesson).\n",
    "\n",
    "👨🏽‍🚀Actually, there are also 3 other modes `rb`, `wb`, and `ab` to use when you want to read binary code of file... but we will ignore that for the time being ;) There is also the Read-Write mode `r+` but it's a nightmare to use and you better never use it ;)"
   ],
   "cell_type": "markdown",
   "metadata": {}
  },
  {
   "cell_type": "code",
   "execution_count": 67,
   "metadata": {},
   "outputs": [
    {
     "output_type": "stream",
     "name": "stdout",
     "text": [
      "\n14\n63\n1\n81\n"
     ]
    }
   ],
   "source": [
    "f = open(\"list_int.txt\")\n",
    "for _ in range(5):\n",
    "    print(f.readline().rstrip())"
   ]
  },
  {
   "source": [
    "### To write in a file, you need to open with proper mode and use `write()` method\n",
    "\n",
    "⚠ Unlike `print` that adds a line return at the end, `write()` does not. \n",
    "The reason behind is because we more often need to write the content of a file pieces by pieces (and not line by line)"
   ],
   "cell_type": "markdown",
   "metadata": {}
  },
  {
   "cell_type": "code",
   "execution_count": 87,
   "metadata": {},
   "outputs": [],
   "source": [
    "f = open(\"my_file.txt\", \"w\")\n",
    "for i in range(5):\n",
    "    f.write(f\"{i}\\n\")\n",
    "\n",
    "# print(\"I have finished writting in the file... or have I?\")"
   ]
  },
  {
   "source": [
    "### After you have written to a file with `write()`, the file might look empty...\n",
    "\n",
    "If you open the file after running the previous cell, you will notice that this file (_my_file.txt_) is empty (at least, sometimes it is).\n",
    "\n",
    "What happens is that the content is first stored in memory and needs to be pushed to the file (i.e. \"flushed\", like we do for the toilets🚽).\n",
    "\n",
    "You can manually flush the toilets, euh sorry the file, by using the `<file handler>.flush()` method (i.e. `f.flusht()` in our previous case).\n",
    "But usually, the way we do is to close the file once we have finished writting (and this will flush automatically).\n"
   ],
   "cell_type": "markdown",
   "metadata": {}
  },
  {
   "cell_type": "code",
   "execution_count": 88,
   "metadata": {},
   "outputs": [],
   "source": [
    "f = open(\"my_file.txt\", \"w\")\n",
    "for i in range(5):\n",
    "    f.write(f\"{i**2}\\n\")\n",
    "f.close()"
   ]
  },
  {
   "source": [
    "### There is a better way to close the file\n",
    "\n",
    "Because it's so important to close the file, even where there is an error somewhere in the code, and that we don't want to always type `f.close()` each time we open (remember: coders and mathematicians are lazy), we have a simplified syntax to do it which is the golden standard:\n",
    "\n",
    "```\n",
    "with open(<path>, <mode>) as f:\n",
    "    ... (the code about the file)\n",
    "```\n",
    "\n",
    "Even if we have an exception in the code (e.g. missing index in list), the file will be closed clean: this is the magic of `with`."
   ],
   "cell_type": "markdown",
   "metadata": {}
  },
  {
   "cell_type": "code",
   "execution_count": 90,
   "metadata": {},
   "outputs": [],
   "source": [
    "# ... so the previous code would be re-written like this:\n",
    "\n",
    "with open(\"my_file.txt\", \"w\") as f:\n",
    "    for i in range(5):\n",
    "        f.write(f\"{i**2}\\n\")"
   ]
  },
  {
   "source": [
    "## 🏄‍♂️ BONUS: Going back to `pathlib.Path`\n",
    "\n",
    "Once again, I personally recommend using `pathlib` when you work with files, paths, and read/write content.\n",
    "\n",
    "Look how easy it is:\n",
    "* A first line to import (i.e. \"load\") the module: `from pathlib import Path` \n",
    "* `Path(\"list_int.txt\").read_text()`: open the file, read the content, and close it\n",
    "* `Path(\"my_file.txt\").write_text(\"Hello\\nunpackAI\")`: open the file for writing, write the content, flush, and close it\n",
    "\n",
    "You can learn more about it in the [official documentation](https://docs.python.org/3/library/pathlib.html) or in any tutorial among the bunch of them that exist.\n",
    "\n",
    "There are many other things you can do with a `Path` with few characters of code. Let's take the example of `mypath = Path(\"C:/unpackAI/data/students.csv\")` and see what we can do:\n",
    "\n",
    "* `mypath.absolute()`: absolute path, i.e. starting from the root drive (e.g. `Path(\"C:/unpackAI/data/students.csv\")`)\n",
    "* `mypath.suffix`: extension of the file (e.g. `\".csv\"`)\n",
    "* `mypath.name`: name of the file, without the folder before (e.g. `students.csv`)\n",
    "* `mypath.stem`: name of the file without the extension (e.g. `students`)\n",
    "* `mypath.parent`: path of parent directory (e.g. `Path(\"C:/unpackAI/data\")`)\n",
    "* `mypath.exists()`: check if the file exists (True if it exists, False if it does not)\n",
    "* `mypath.unlink()`: delete the file\n",
    "* `mypath.parent.mkdir(parents=True, exist_ok=True)`: create the parent directory, and all directories between, if needed\n",
    "* `mypath.replace(\"C:/unpackAI/old_data/students.csv\")`: move the file\n",
    "* `mypath.parent.glob(\"*.csv\")`: create an iterable of all the csv files in the parent directory"
   ],
   "cell_type": "markdown",
   "metadata": {}
  },
  {
   "cell_type": "code",
   "execution_count": 12,
   "metadata": {},
   "outputs": [
    {
     "output_type": "stream",
     "name": "stdout",
     "text": [
      "0\n1\n4\n9\n16\n----\nPath: my_file.txt\nAbsolute path: e:\\AnsysDev\\_unpackAI\\unpackai_python\\my_file.txt\nParent (absolute): e:\\AnsysDev\\_unpackAI\\unpackai_python\nAll txt files: [WindowsPath('list_int.txt'), WindowsPath('my_file.txt'), WindowsPath('new_file.txt')]\n----\nDeleted new_file.txt\nAll txt files (after rename): [WindowsPath('list_int.txt'), WindowsPath('new_file.txt')]\n"
     ]
    }
   ],
   "source": [
    "from pathlib import Path\n",
    "\n",
    "file_path = Path(\"my_file.txt\")  # create the path\n",
    "file_path.write_text(\"\\n\".join(str(i**2) for i in range(5)))  # write\n",
    "print(file_path.read_text())  # read and print\n",
    "\n",
    "print(\"----\")\n",
    "print(f\"Path: {file_path}\")\n",
    "print(f\"Absolute path: {file_path.absolute()}\")\n",
    "print(f\"Parent (absolute): {file_path.absolute().parent}\")\n",
    "print(f\"All txt files: {list(file_path.parent.glob('*.txt'))}\")\n",
    "\n",
    "print(\"----\")\n",
    "# We will move the file\n",
    "# Because we cannot move to some path that already exists, we will do some clean-up first\n",
    "new_path = Path(\"new_file.txt\")\n",
    "if new_path.exists():\n",
    "    new_path.unlink()\n",
    "    print(f\"Deleted {new_path}\")\n",
    "file_path.rename(\"new_file.txt\")  # Note: we could also put variable new_path instead of the string\n",
    "print(f\"All txt files (after rename): {list(file_path.parent.glob('*.txt'))}\")\n"
   ]
  },
  {
   "source": [
    "# Lesson 12: Functions ℱ\n",
    "\n",
    "* Defining a Function (with or without argument)\n",
    "* Returning a value\n",
    "* Calling a Function (with different types of arguments)\n",
    "* Docstring (and `help`)\n",
    "\n",
    "## Definition of a function\n",
    "\n",
    "```\n",
    "                             +-------------------------------------------+                                      \n",
    "                             |                                           |                                      \n",
    "                             |  FUNCTION                                 |                                      \n",
    "        INPUTS ------------> |              Do something with the inputs |------------> OUTPUTS                 \n",
    " (None, 1, or several)       |              Returns some outputs         |         (None, 1, or several [Tuple])\n",
    "                             |                                           |                                      \n",
    "                             +-------------------------------------------+                                      \n",
    "\n",
    "```                                                                                                    \n",
    "\n",
    "The inputs of the function are called **argument(s)**.\n",
    "\n",
    "The syntax to define a function is:\n",
    "\n",
    "```\n",
    "def <name of the function>(<0, 1, or several arguments separated by a comma>):\n",
    "    <implementation of function>\n",
    "    <use \"return\" to return the output(s)>   \n",
    "```\n",
    "\n",
    "⚠ Printing the result of your function will not make it available as an output: you need to return it with `return` keyword!\n",
    "\n",
    "(... but of course, you can print it if you want to \"debug\", i.e. understanding what is happening in your function)\n",
    "\n",
    "⚠ Just like in loops, we will have a colon (`:`) and an indent (i.e. 4 spaces) on the next line. \n"
   ],
   "cell_type": "markdown",
   "metadata": {}
  },
  {
   "cell_type": "code",
   "execution_count": 17,
   "metadata": {},
   "outputs": [],
   "source": [
    "# Function without argument and without output\n",
    "def hello():\n",
    "    print(\"Hello\")\n",
    "\n",
    "# Function with 1 argument and without output\n",
    "def hello_you(name):\n",
    "    print(f\"Hello, {name}\")\n",
    "\n",
    "# Function with 1 argument and with one output\n",
    "def get_greeting_message(name):\n",
    "    return f\"Hello, {name}\"\n",
    "\n",
    "# Function with 3 arguments and with one output\n",
    "def volume(length, width, height):\n",
    "    return length * width * height\n",
    "\n",
    "# Function with 3 arguments and with two outputs\n",
    "# NOTE: output is returned as a tuple (but without the parentheses)\n",
    "def volume_and_surface(length, width, height):\n",
    "    return length * width * height, 2 * (length * width + length * height + width * height)\n"
   ]
  },
  {
   "source": [
    "## Calling a function\n",
    "\n",
    "To call a function, it's quite easy: `<name of the function>(<arguments, if any>)`\n",
    "\n",
    "If the function returns an output, you can store it in variable(s). For multiple variables, you can use unpacking."
   ],
   "cell_type": "markdown",
   "metadata": {}
  },
  {
   "cell_type": "code",
   "execution_count": 19,
   "metadata": {},
   "outputs": [
    {
     "output_type": "stream",
     "name": "stdout",
     "text": [
      "Hello\nHello, Jeff\nHello, John\nVolume = 6\nVolume = 6, Surface = 22\n"
     ]
    }
   ],
   "source": [
    "hello()\n",
    "hello_you(\"Jeff\")\n",
    "\n",
    "greeting = get_greeting_message(\"John\")\n",
    "print(greeting)\n",
    "\n",
    "vol = volume(1, 2, 3)\n",
    "print(f\"Volume = {vol}\")\n",
    "\n",
    "vol2, area = volume_and_surface(1, 2, 3)\n",
    "print(f\"Volume = {vol2}, Surface = {area}\")"
   ]
  },
  {
   "source": [
    "## Explaining your function: Docstring vs Comments\n",
    "\n",
    "Usually, you want to explain what your function is doing and how it's doing it.\n",
    "\n",
    "You have 2 main usage:\n",
    "\n",
    "1. **\"User Manual\"**: you need to understand what is this function for and how to use it\n",
    "  - What are the inputs: how many, what type they have (integer? list?), their unit (m? km?), etc.\n",
    "  - What will be the outputs\n",
    "  - What the functions does\n",
    "\n",
    "2. **\"Maintener's Manual\"**: you need to understand the logic of the function in case you need to correct / improve it\n",
    "  - how the code of the function is written\n",
    "  - the global logic of the code\n",
    "\n",
    "The \"Maintener's Manual\" is essential when the function is quite complex and if you need to modify your code in 6 months or more\n",
    "(after which you have usually forgot what you have written) or if someone else needs to modify it.\n",
    "\n",
    "These details are provided inside the code as comments (`# <my comment`, with usually a space after the hash).\n",
    "\n",
    "💡 It's better to avoid \"obvious comments\" (i.e. comments that just say what you are doing, like \"Print a variable\")\n",
    "and prefer comments that explain the logic of WHY you are doing it (e.g. \"We want a string from the list so we need to join the elements\").\n",
    "\n",
    "### The \"User Manual\" is provided with something called **docstring**:\n",
    "\n",
    "* A multi-line string just after the `def` line of the function\n",
    "* Multi-line is triple double quotes `\"\"\" ... \"\"\"` (but it works also with triple single quotes `''' .... '''`)\n",
    "* Usually the first line of the docstring gives a general description, the other lines add details"
   ],
   "cell_type": "markdown",
   "metadata": {}
  },
  {
   "cell_type": "code",
   "execution_count": 22,
   "metadata": {},
   "outputs": [],
   "source": [
    "def safe_division(dividend, divisor):\n",
    "    \"\"\"Return the quotient of a division, or \"None\" if divisor is null\n",
    "\n",
    "    ... this is usually where you can add some details ...\n",
    "    \"\"\"\n",
    "    if divisor == 0:\n",
    "        return\n",
    "\n",
    "    # At this point, divisor cannot be null so we can safely divide\n",
    "    return dividend / divisor \n",
    "\n",
    "\n",
    "# Simplified version of a function here\n",
    "# https://github.com/pytest-dev/pytest/blob/main/src/_pytest/stepwise.py\n",
    "\n",
    "# NOTE: docstring is missing... not good! :)\n",
    "# ... but it shows some comments we could have to help understand the function\n",
    "def pytest_collection_modifyitems(last_failed, config, items):\n",
    "    if not lastfailed:\n",
    "        return \"no previously failed tests, not skipping.\"\n",
    "\n",
    "    # check all item nodes until we find a match on last failed\n",
    "    failed_index = None\n",
    "    for index, item in enumerate(items):\n",
    "        if item.nodeid == lastfailed:\n",
    "            failed_index = index\n",
    "            break\n",
    "\n",
    "    # If the previously failed test was not found among the test items,\n",
    "    # do not skip any tests.\n",
    "    if failed_index is None:\n",
    "        report_status = \"previously failed test not found, not skipping.\"\n",
    "    else:\n",
    "        report_status = f\"skipping {failed_index} already passed items.\"\n",
    "        deselected = items[:failed_index]\n",
    "        del items[:failed_index]\n",
    "        config.hook.pytest_deselected(items=deselected)\n",
    "    return report_status"
   ]
  },
  {
   "source": [
    "# Lesson 13: More about Functions ℱ🥏\n",
    "\n",
    "* Defining a function with default values (and where we can put them)\n",
    "* Calling a function with default values\n",
    "* How to set defaults for mutables (lists, dictionaries)\n",
    "\n",
    "## Defining a function with default values\n",
    "\n",
    "When you define a function, you can make an argument optional by adding a default value: it will be used if the argument is not set when you call the function.\n",
    "```\n",
    "def <function>(<argument>=<default value>):\n",
    "    <implementation>\n",
    "```\n",
    "\n",
    "\n"
   ],
   "cell_type": "markdown",
   "metadata": {}
  },
  {
   "cell_type": "code",
   "execution_count": 25,
   "metadata": {},
   "outputs": [
    {
     "output_type": "stream",
     "name": "stdout",
     "text": [
      "Hello, Jeff\nHello, you\n---\ni = 0\ni = 2\ni = 3\n"
     ]
    }
   ],
   "source": [
    "def hello_again(name=\"you\"):\n",
    "    print(f\"Hello, {name}\")\n",
    "\n",
    "hello_again(\"Jeff\")\n",
    "hello_again()\n",
    "print(\"---\")\n",
    "\n",
    "\n",
    "def increment(number, incr=1):\n",
    "    return number + incr\n",
    "\n",
    "i = 0\n",
    "print(f\"i = {i}\")\n",
    "i = increment(i, 2)\n",
    "print(f\"i = {i}\")\n",
    "i = increment(i)\n",
    "print(f\"i = {i}\")"
   ]
  },
  {
   "source": [
    "### ⚠ After you have set a default value for an argument, all following arguments shall have a default value."
   ],
   "cell_type": "markdown",
   "metadata": {}
  },
  {
   "cell_type": "code",
   "execution_count": 26,
   "metadata": {},
   "outputs": [
    {
     "output_type": "error",
     "ename": "SyntaxError",
     "evalue": "non-default argument follows default argument (<ipython-input-26-1f2db932616d>, line 1)",
     "traceback": [
      "\u001b[1;36m  File \u001b[1;32m\"<ipython-input-26-1f2db932616d>\"\u001b[1;36m, line \u001b[1;32m1\u001b[0m\n\u001b[1;33m    def wrong_function(name=\"toto\", mandatory_arg):\u001b[0m\n\u001b[1;37m                      ^\u001b[0m\n\u001b[1;31mSyntaxError\u001b[0m\u001b[1;31m:\u001b[0m non-default argument follows default argument\n"
     ]
    }
   ],
   "source": [
    "def wrong_function(name=\"toto\", mandatory_arg):\n",
    "    print(name)"
   ]
  },
  {
   "source": [
    "### 💡 You can also use the name of the argument when you call the function\n",
    "\n",
    "You can use the name `<argument>=<value>` when you call the function.\n",
    "This is very useful when:\n",
    "\n",
    "* you want to keep some of the default values but specify some others\n",
    "* you want to see clearly in your code what you are doing\n",
    "\n",
    "For the second point, imagine you have the function `def volume_cylinder(radius, height)`. In which line it's easier to see the problem:\n",
    "\n",
    "```python\n",
    "r = 20  # note: obviously, this is the radius\n",
    "h = 100\n",
    "vol = volume_cylinder(h, r)  # ... is it obvious that we have interverted the height and radius in the call?\n",
    "vol = volume_cylinder(radius=h, height=r)  # ... the bug here is more obvious :)\n",
    "```\n"
   ],
   "cell_type": "markdown",
   "metadata": {}
  },
  {
   "cell_type": "code",
   "execution_count": 39,
   "metadata": {},
   "outputs": [
    {
     "output_type": "stream",
     "name": "stdout",
     "text": [
      "L=2, W=3, H=4\nL=1, W=1, H=1\nL=3, W=4, H=5\nL=2, W=1, H=5\n--- 🧙ADVANCED🧙 ---\nL=2, W=3, H=4\nL=2, W=3, H=1\nL=1, W=3, H=5\n"
     ]
    }
   ],
   "source": [
    "def dim_dflt(length=1, width=1, height=1):\n",
    "    \"\"\"Compute the volume of a box, with all dimensions set by default to 1\"\"\"\n",
    "    print(f\"L={length}, W={width}, H={height}\")\n",
    "\n",
    "dim_dflt(2, 3, 4)  # L=2 * W=3 * H=4\n",
    "dim_dflt()  # L=1 * W=1 * H=1\n",
    "dim_dflt(height=5, width=4, length=3)  # L=3 * W=4 * H=5 ... order does not matter\n",
    "dim_dflt(2, height=5)  # L=2 * W=1 * H=5 ... you can combine arguments in the order and names\n",
    "\n",
    "\n",
    "# 🧙 ADVANCED: you can use list and dictionary to fill up the arguments\n",
    "print(\"--- 🧙ADVANCED🧙 ---\")\n",
    "\n",
    "# * + list => put all elements of the list as arguments one by one\n",
    "dim_list = [2, 3, 4]\n",
    "dim_dflt(*dim_list)  # 3 values\n",
    "dim_list = [2, 3]\n",
    "dim_dflt(*dim_list) # 2 values => HEIGHT = default\n",
    "\n",
    "# ** + dictionary => put all elements of the dictionary as arguments by using the name\n",
    "dim_dict = {\"width\":3, \"height\":5}\n",
    "dim_dflt(**dim_dict)"
   ]
  },
  {
   "source": [
    "## ⚠ Important rule of thumb: NEVER USE mutable defaults!\n",
    "\n",
    "Meaning: Your default argument values should be immutable (None, boolean, string, integer, tuple)\n",
    "\n",
    "Otherwise, if you modify it later (e.g. add an element to a default empty list), the default itself will be modified!"
   ],
   "cell_type": "markdown",
   "metadata": {}
  },
  {
   "cell_type": "code",
   "execution_count": 102,
   "metadata": {},
   "outputs": [
    {
     "output_type": "stream",
     "name": "stdout",
     "text": [
      "['toto']\n['toto']\n['toto']\n['toto', 'toto']\n"
     ]
    }
   ],
   "source": [
    "def toto(l=[]):\n",
    "    l.append(\"toto\")\n",
    "    print(l)\n",
    "\n",
    "toto([])\n",
    "toto([])\n",
    "toto()\n",
    "toto()  # We can see here that the default has been modified to a list [\"toto\"] so result is [\"toto\", \"toto\"]"
   ]
  },
  {
   "source": [
    "# ⇝🔰 THE 🧙 END 🔰⇜"
   ],
   "cell_type": "markdown",
   "metadata": {}
  }
 ]
}