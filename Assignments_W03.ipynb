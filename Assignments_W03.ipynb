{
 "metadata": {
  "language_info": {
   "codemirror_mode": {
    "name": "ipython",
    "version": 3
   },
   "file_extension": ".py",
   "mimetype": "text/x-python",
   "name": "python",
   "nbconvert_exporter": "python",
   "pygments_lexer": "ipython3",
   "version": "3.7.1"
  },
  "orig_nbformat": 2,
  "kernelspec": {
   "name": "python371jvsc74a57bd08a428f088ac08f7fdf89fb2f4bb23c2bc8a83acc5d068a78d54410b8e3eeec73",
   "display_name": "Python 3.7.1 32-bit"
  }
 },
 "nbformat": 4,
 "nbformat_minor": 2,
 "cells": [
  {
   "source": [
    "# ⇝ Assignments Week 03 ⇜\n",
    "\n",
    "### To be finished before Monday 14th June\n",
    "\n",
    "![unpackAI Logo](images/unpackAI_logo_whiteBG.svg)"
   ],
   "cell_type": "markdown",
   "metadata": {}
  },
  {
   "source": [
    "# **(MUST)** 👀 Watch following lessons\n",
    "\n",
    "* [Lesson #10](https://store.lerner.co.il/courses/python-for-non-programmers-live/307432-lesson-10-files-may-22-2020/877525-lesson-10-2020-may-22-mp4): **Files** (start at 4:40)\n",
    "* [Lesson #11](https://store.lerner.co.il/courses/python-for-non-programmers-live/325644-lesson-11-writing-to-files-june-5-2020/928805-lesson-11-2020-june-5-mp4): **Writing to files** (start at 1:08)\n",
    "* [Lesson #12](https://store.lerner.co.il/courses/python-for-non-programmers-live/334353-lesson-12-functions-june-12-2020/952851-lesson-12-2020-june-12-mp4): **Functions** (start at 3:35)\n",
    "* [Lesson #13](https://store.lerner.co.il/courses/python-for-non-programmers-live/342893-lesson-13-more-functions-june-19-2020/976908-lesson-13-2020-june-19-mp4): **More about functions** (start at 6:43)\n",
    "\n",
    "🛎Do the Homework of course between each lesson (see next assignment for details)\n"
   ],
   "cell_type": "markdown",
   "metadata": {}
  },
  {
   "source": [
    "# (MUST) 👣 Perform Homework of each lesson\n",
    "\n",
    "### 🤗For more convenience, we have copied the Homework from the Online Course directly in this Notebook.\n",
    "\n",
    "### 💡You can download this Jupyter Notebook and do it directly! :)\n",
    "\n",
    "If you are seeing this Notebook from Github and want to download to your computer, you can do the following (you can also see the [tutorial](https://ior.ad/7Bvk)):\n",
    "\n",
    "1. Click on **Raw** button (the URL of the page shall now start with _raw.githubusercontent.com_)\n",
    "2. Save the page (**Ctrl** + **S**) and save in your computer with the extension **.ipynb** (e.g. _Assignments_W02.ipynb_)\n",
    "3. Open the downloaded Jupyter Notebook with Visual Studio Code (or Jupyter if you prefer)\n",
    "\n",
    "Alternatively, you could have a look at the amazing project called [Gitpod](https://gitpod.io/) which allows you to code from Github directly or use Notebooks directly from your browser."
   ],
   "cell_type": "markdown",
   "metadata": {}
  },
  {
   "source": [
    "## 👣Homework Lesson #10\n",
    "(_copied from [this page](https://store.lerner.co.il/courses/python-for-non-programmers-live/307432-lesson-10-files-may-22-2020/877500-lesson-10-2020-may-22-ipynb)_)\n",
    "\n",
    "Here are some homework problems for this week:\n",
    "\n",
    "\n",
    "1. Read through nums.txt, and sum the numbers. (There’s a blank line in there, so you’ll need to deal with that!)\n",
    "2. Read through _linux-etc-passwd.txt_, a version of what we discussed in class. Print all of the usernames that you see. And yes, you’ll need to avoid two types of lines — comments and blank lines.\n",
    "3. Now for the real challenge: The Unix `wc` program is a “word count” utility, which tells you how many words, lines, and characters there are in a file. Write a program that will report the number of lines, words (separated by spaces), and characters (yes, including whitespace) there are in a file. There’s a file, _wcfile.txt_, that tells you what the answers should be.\n",
    "\n",
    "Note that you'll want to download \"exercise-files.zip\" (available [here](https://store.lerner.co.il/courses/python-for-non-programmers-live/307432-lesson-10-files-may-22-2020/1036982-exercise-files-zip)), which contains files that I used in my demos, and that you can use in your solutions."
   ],
   "cell_type": "markdown",
   "metadata": {}
  },
  {
   "cell_type": "code",
   "execution_count": null,
   "metadata": {},
   "outputs": [],
   "source": []
  },
  {
   "source": [
    "## 👣Homework Lesson #11\n",
    "\n",
    "(_copied from [this page](https://store.lerner.co.il/courses/python-for-non-programmers-live/325644-lesson-11-writing-to-files-june-5-2020/928793-lesson-11-2020-june-5-ipynb)_)\n",
    "\n",
    "\n",
    "Here are some homework problems for this lesson:\n",
    "\n",
    "\n",
    "1. Write a program that asks the user to enter sentences, one at a time. Stop asking when the user enters an empty string. Write each word that the user entered on a separate line of a file, followed by a space and the number of vowels that the user wrote.\n",
    "\n",
    "    So if the user enters `\"this is a test\"` and `\"only kidding\"`, then the file should look like:\n",
    "\n",
    "```\n",
    "    this 1\n",
    "    is 1\n",
    "    a 1\n",
    "    test 1\n",
    "    only 1\n",
    "    kidding 2\n",
    "```\n",
    "2. Let’s pretend that we’re creating a sales report for our company. Repeatedly ask the user to enter a product name and a number of units sold. (The products and units don’t matter, but should be separated by whitespace.) When the user enters a blank line, stop asking. Write this into a CSV-like file (i.e., with a comma separating the two pieces of information). If the file has a `.csv` extension, see if you can open it with Excel on your computer.\n"
   ],
   "cell_type": "markdown",
   "metadata": {}
  },
  {
   "cell_type": "code",
   "execution_count": null,
   "metadata": {},
   "outputs": [],
   "source": [
    "# TODO: Write here the solution for Homework #07"
   ]
  },
  {
   "source": [
    "## 👣Homework Lesson #12\n",
    "\n",
    "(_copied from [this page](https://store.lerner.co.il/courses/python-for-non-programmers-live/334353-lesson-12-functions-june-12-2020/952836-lesson-12-2020-june-12-ipynb)_)\n",
    "\n",
    "\n",
    "Here are some homework exercises for this lesson:\n",
    "\n",
    "\n",
    "1. Write a function, `maxnum`, that takes a single argument: a list of numbers. It returns the largest number in that list. (Do not use the built-in `max` function to do this!)\n",
    "2. Write a function, `lastword`, that takes a list of words. It returns the word in that list that occurs last, alphabetically.\n",
    "3. Write a function, `charcount`, that takes a string and returns a dict. The dict’s keys will be all of the different characters that occur in the string, and its values will be the number of times that each character appeared."
   ],
   "cell_type": "markdown",
   "metadata": {}
  },
  {
   "cell_type": "code",
   "execution_count": null,
   "metadata": {},
   "outputs": [],
   "source": [
    "# TODO: Write here the solution for Homework #08"
   ]
  },
  {
   "source": [
    "## 👣Homework Lesson #13\n",
    "(_copied from [this page](https://store.lerner.co.il/courses/python-for-non-programmers-live/342893-lesson-13-more-functions-june-19-2020/976898-lesson-13-2020-june-19-ipynb)_)\n",
    "\n",
    "\n",
    "Here are some problems for this week:\n",
    "\n",
    "\n",
    "1. Write a function that takes a dict as an argument. It returns a dict with the same keys, but in which the values have all been doubled. Unless, of course, someone passes a second (optional) argument, `factor`, in which the values will be multiplied by the `factor`.\n",
    "2. Write a function that takes a filename (string) as an argument, and returns a dict. The returned dict’s keys will be numbers, indicating word lengths, and the values will also be integers, indicating how many words in the file.\n",
    "3. Write a function that takes three arguments: a list of numbers and two strings. The two string arguments are the names of output files. The function will iterate over the list, writing all of the even numbers into the first file, and all of the odd numbers into the second file. The function doesn’t have to return anything.\n"
   ],
   "cell_type": "markdown",
   "metadata": {}
  },
  {
   "cell_type": "code",
   "execution_count": null,
   "metadata": {},
   "outputs": [],
   "source": [
    "# TODO: Write here the solution for Homework #09"
   ]
  },
  {
   "source": [
    "# (MUST) 💻 Solve your Coding Challenge\n",
    "\n",
    "\n",
    "* **John**: _Roman Numerals Decoder_ - https://www.codewars.com/kata/51b6249c4612257ac0000005/python\n",
    "* **Kevin**: _Best Travel_ - https://www.codewars.com/kata/55e7280b40e1c4a06d0000aa/python\n",
    "* **M Ray**: _Array Diff_ - https://www.codewars.com/kata/523f5d21c841566fde000009/python\n",
    "* **Oskar**: _Directions Reduction_ - https://www.codewars.com/kata/550f22f4d758534c1100025a/python\n",
    "* **Solomon**: _Make the Deadfish swim_ - https://www.codewars.com/kata/51e0007c1f9378fa810002a9/python\n",
    "* **Vera**: _Is the meetup age-diverse? (High-Order Func)_ - https://www.codewars.com/kata/5829ca646d02cd1a65000284/python\n",
    "\n",
    "@Vera: Your challenge is a bit tough. If you prefer, you can instead try this one: https://www.codewars.com/kata/58287977ef8d4451f90001a0/python\n",
    "\n",
    "🙌**BONUS** (if your challenge is too easy or if you want to do some challenges): you can pick any of the following kata (curated list):\n",
    "* Level 8: _I love you, a little , a lot, passionately ... not at all_ - https://www.codewars.com/kata/57f24e6a18e9fad8eb000296/python\n",
    "* Level 8: _Find the Capitals_ - https://www.codewars.com/kata/53573877d5493b4d6e00050c/python\n",
    "* Level 8: _Twisted Sum_ - https://www.codewars.com/kata/527e4141bb2ea5ea4f00072f/python\n",
    "* Level 7: _Small enough_ - https://www.codewars.com/kata/57cc981a58da9e302a000214/python\n",
    "* Level 7: _Lorraine Wants to Win the TV Contest_ - https://www.codewars.com/kata/562dbaf65d4ab6685c0000ed/python\n",
    "* Level 6: _Twisted Sum_ - https://www.codewars.com/kata/527e4141bb2ea5ea4f00072f/python\n",
    "* Level 6: _Tribonacci Sequence_ - https://www.codewars.com/kata/556deca17c58da83c00002db/python\n",
    "\n",
    "💡_Reminder_: Interactive Tutorial to create an account and use CodeWars: https://ior.ad/7B2B\n"
   ],
   "cell_type": "markdown",
   "metadata": {}
  },
  {
   "source": [
    "# (MUST) 🗣 Explain your coding challenge during Mentoring Session\n",
    "\n",
    "In Monday Mentoring Session, explain in 𝟝 minutes to your classmates and mentors:\n",
    "* What is the problem about\n",
    "* How you solved the problem\n",
    "* The steps you took to solve it\n",
    "* The problems you met when trying to solve\n",
    "* The solution you have found\n",
    "* (optional) some other\n",
    "\n",
    "You have 5 minutes to reach the solution. If you are confident enough, you can do some live coding (i.e. typing and solving the problem live).\n",
    "\n",
    "🧘_NOTE_: If you are not able to solve your challenge, no worry: you can just take these 5 minutes to explain how you understood the problem, what you have tried, and why it fails. We learning by making mistakes: failing a great opportunity for improvement.\n"
   ],
   "cell_type": "markdown",
   "metadata": {}
  },
  {
   "source": [
    "-----\n",
    "\n",
    "## 🔔Remember\n",
    "\n",
    "We are learning together as a community 👥 so make sure to voice out your educated questions 💬. \n",
    "\n",
    "While most confusions 🤷 can be solved the quickest by simply Googling or using [StackOverflow](https://stackoverflow.com/questions/ask), do not hold back any questions 🙋 if you have spent a fair amount researching 🔎."
   ],
   "cell_type": "markdown",
   "metadata": {}
  }
 ]
}