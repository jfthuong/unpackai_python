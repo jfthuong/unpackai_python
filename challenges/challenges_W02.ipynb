{
 "cells": [
  {
   "cell_type": "markdown",
   "metadata": {},
   "source": [
    "# ⇝ Coding 💻 Challenges Week 2 ⇜\n",
    "\n",
    "![unpackAI Logo](../images/unpackAI_logo_whiteBG.svg)\n",
    "\n",
    "\n",
    "**NOTE**: in the solution, the code assert function(...) == value is used to test the solution.\n",
    "... so you don't have to care about it\n"
   ]
  },
  {
   "cell_type": "markdown",
   "metadata": {},
   "source": [
    "# Sum Mixed Array ❽\n",
    "🔗https://www.codewars.com/kata/57eaeb9578748ff92a000009/train/python\n",
    "\n",
    "Given an array of integers as strings and numbers, return the sum of the array values as if all were numbers.\n",
    "\n",
    "Return your answer as a number."
   ]
  },
  {
   "cell_type": "code",
   "execution_count": null,
   "metadata": {},
   "outputs": [],
   "source": [
    "# The first way to do is by using a simple loop and increase total each time\n",
    "# You should not create a new list of integers and then do the sum afterwards\n",
    "# ... because that would mean doing a first loop to convert, and a second loop to sum\n",
    "\n",
    "def sum_mix(arr):\n",
    "    total = 0\n",
    "    for n in arr:\n",
    "        total += int(n)\n",
    "    return total\n",
    "\n",
    "assert sum_mix([9, 3, '7', '3']) == 22\n",
    "assert sum_mix(['5', '0', 9, 3, 2, 1, '9', 6, 7]) == 42\n",
    "assert sum_mix(['3', 6, 6, 0, '5', 8, 5, '6', 2,'0']) == 41\n",
    "assert sum_mix(['1', '5', '8', 8, 9, 9, 2, '3']) == 45\n",
    "assert sum_mix([8, 0, 0, 8, 5, 7, 2, 3, 7, 8, 6, 7]) == 61\n"
   ]
  },
  {
   "cell_type": "code",
   "execution_count": null,
   "metadata": {},
   "outputs": [],
   "source": [
    "# A better solution is to use mechanism of \"generator\" \n",
    "# that is like list comprehension, but without the square brackets\n",
    "\n",
    "# We would:\n",
    "# 1. read the values of the \"arr\" one by one,\n",
    "# 2. convert to an integer\n",
    "# 3. add to the \"sum\" function\n",
    "# => this would not create a list (which would be costly for a big list of millions of elements)\n",
    "# and can directly add to the sum\n",
    "# ... and BONUS: it only takes one line to write ;) \n",
    "def sum_mix(arr):\n",
    "    return sum(int(n) for n in arr)\n",
    "\n",
    "assert sum_mix([9, 3, '7', '3']) == 22\n",
    "assert sum_mix(['5', '0', 9, 3, 2, 1, '9', 6, 7]) == 42\n",
    "assert sum_mix(['3', 6, 6, 0, '5', 8, 5, '6', 2,'0']) == 41\n",
    "assert sum_mix(['1', '5', '8', 8, 9, 9, 2, '3']) == 45\n",
    "assert sum_mix([8, 0, 0, 8, 5, 7, 2, 3, 7, 8, 6, 7]) == 61"
   ]
  },
  {
   "cell_type": "markdown",
   "metadata": {},
   "source": [
    "# Multiplication table for number ❽\n",
    "🔗https://www.codewars.com/kata/5a2fd38b55519ed98f0000ce/train/python\n",
    "\n",
    "Your goal is to return multiplication table for ```number``` that is always an integer from 1 to 10.\n",
    "\n",
    "For example, a multiplication table (string) for ```number == 5``` looks like below:\n",
    "\n",
    "```\n",
    "1 * 5 = 5\n",
    "2 * 5 = 10\n",
    "3 * 5 = 15\n",
    "4 * 5 = 20\n",
    "5 * 5 = 25\n",
    "6 * 5 = 30\n",
    "7 * 5 = 35\n",
    "8 * 5 = 40\n",
    "9 * 5 = 45\n",
    "10 * 5 = 50\n",
    "```\n",
    "\n",
    "P. S. You can use ```\\\\n``` in string to jump to the next line.\n",
    "\n",
    "\n",
    "Note: newlines should be added between rows, but there should be no trailing newline at the end."
   ]
  },
  {
   "cell_type": "code",
   "execution_count": 4,
   "metadata": {},
   "outputs": [],
   "source": [
    "# A basic way would be to use a loop and append a string at each element\n",
    "# but because we would have to add a \"\\n\" for each line, we will need to trip the extra \"\\n\" at the end\n",
    "\n",
    "# We could also store all lines (without a \"\\n\") in a list and use \"\\n\".join(list_lines)\n",
    "# The only drawback is that it would require creating a list \n",
    "# and in general it takes more space on computer than a string (OK for these examples, but not with millions of data ;)\n",
    "def multi_table(number):\n",
    "    table = \"\"\n",
    "    for n in range(1, 11):\n",
    "        table += f\"{n} * {number} = {n * number}\\n\"\n",
    "    return table.rstrip()\n",
    "\n",
    "assert multi_table(5) == '1 * 5 = 5\\n2 * 5 = 10\\n3 * 5 = 15\\n4 * 5 = 20\\n5 * 5 = 25\\n6 * 5 = 30\\n7 * 5 = 35\\n8 * 5 = 40\\n9 * 5 = 45\\n10 * 5 = 50'\n",
    "assert multi_table(1) == '1 * 1 = 1\\n2 * 1 = 2\\n3 * 1 = 3\\n4 * 1 = 4\\n5 * 1 = 5\\n6 * 1 = 6\\n7 * 1 = 7\\n8 * 1 = 8\\n9 * 1 = 9\\n10 * 1 = 10'"
   ]
  },
  {
   "cell_type": "code",
   "execution_count": 7,
   "metadata": {},
   "outputs": [],
   "source": [
    "# A better solution is to use mechanism of \"generator\" \n",
    "# that is like list comprehension, but without the square brackets\n",
    "#  \"\\n\".join( <the string>  for ...(the loop)... )\n",
    "\n",
    "def multi_table(number):\n",
    "    return \"\\n\".join(f\"{n} * {number} = {n * number}\" for n in range(1, 11))\n",
    "\n",
    "assert multi_table(5) == '1 * 5 = 5\\n2 * 5 = 10\\n3 * 5 = 15\\n4 * 5 = 20\\n5 * 5 = 25\\n6 * 5 = 30\\n7 * 5 = 35\\n8 * 5 = 40\\n9 * 5 = 45\\n10 * 5 = 50'\n",
    "assert multi_table(1) == '1 * 1 = 1\\n2 * 1 = 2\\n3 * 1 = 3\\n4 * 1 = 4\\n5 * 1 = 5\\n6 * 1 = 6\\n7 * 1 = 7\\n8 * 1 = 8\\n9 * 1 = 9\\n10 * 1 = 10'"
   ]
  },
  {
   "cell_type": "markdown",
   "metadata": {},
   "source": [
    "# Numbers to Letters ❼\n",
    "🔗https://www.codewars.com/kata/57ebaa8f7b45ef590c00000c/train/python\n",
    "\n",
    "Given an array of numbers (in string format), you must return a string. The numbers correspond to the letters of the alphabet in reverse order: a=26, z=1 etc. You should also account for `'!'`, `'?'` and `' '` that are represented by '27', '28' and '29' respectively.\n",
    "\n",
    "All inputs will be valid.\n"
   ]
  },
  {
   "cell_type": "code",
   "execution_count": null,
   "metadata": {},
   "outputs": [],
   "source": [
    "# One solution is to create a string with all the characters in the right order\n",
    "# and use the index to do the conversion: 1 => \"z\", 2=> \"y\", ... so the string shall be \"zyx....cba!? \"\n",
    "\n",
    "# One way to do it is to type all the characters one by one but this leads to several problems\n",
    "# * It's painful to do and takes a lot of time\n",
    "# * The resulting string is quite long\n",
    "# * It's easy to do mistakes ;(\n",
    "# => fortunately, you can have all the lowercase letters with \"string.ascii_lowercase\"\n",
    "# ... so we will just have to reverse that and add \"!? \"\n",
    "\n",
    "# Finally, to do the conversion, we will use a \"\".join(<decoded letter from index> for <index> in <array>)\n",
    "\n",
    "from string import ascii_lowercase\n",
    "\n",
    "def switcher(arr):\n",
    "    codes = ascii_lowercase[::-1] + \"!? \"\n",
    "    return \"\".join(codes[int(c) - 1] for c in arr)\n",
    "\n",
    "assert switcher(['24', '12', '23', '22', '4', '26', '9', '8']) == 'codewars'\n",
    "assert switcher(['25','7','8','4','14','23','8','25','23','29','16','16','4']) == 'btswmdsbd kkw'\n",
    "assert switcher(['4', '24']) == 'wc'\n",
    "assert switcher(['12']) == 'o'\n",
    "assert switcher(['12','28','25','21','25','7','11','22','15']) == 'o?bfbtpel'\n"
   ]
  },
  {
   "cell_type": "code",
   "execution_count": null,
   "metadata": {},
   "outputs": [],
   "source": []
  },
  {
   "cell_type": "markdown",
   "metadata": {},
   "source": [
    "# English beggars ❻\n",
    "🔗https://www.codewars.com/kata/59590976838112bfea0000fa/train/python\n",
    "\n",
    "Born a misinterpretation of [this kata](https://www.codewars.com/kata/simple-fun-number-334-two-beggars-and-gold/), your task here is pretty simple: given an array of values and an amount of beggars, you are supposed to return an array with the sum of what each beggar brings home, assuming they all take regular turns, from the first to the last.\n",
    "\n",
    "For example: `[1,2,3,4,5]` for `2` beggars will return a result of `[9,6]`, as the first one takes `[1,3,5]`, the second collects `[2,4]`.\n",
    "\n",
    "The same array with `3` beggars would have in turn have produced a better out come for the second beggar: `[5, 7, 3]`, as they will respectively take `[1,4]`, `[2,5]` and `[3]`.\n",
    "\n",
    "Also note that not all beggars have to take the same amount of \"offers\", meaning that the length of the array is not necessarily a multiple of n; length can be even shorter, in which case the last beggars will of course take nothing (0).\n",
    "\n",
    "Note: in case you don't get why this kata is about English beggars, then you are not familiar on how religiously queues are taken in the kingdom ;)\n",
    "\n",
    "Note 2: do not modify the input array."
   ]
  },
  {
   "cell_type": "code",
   "execution_count": 2,
   "metadata": {},
   "outputs": [],
   "source": [
    "# The result will be a list of total (i.e. \"sum\")\n",
    "# For each beggar number \"j\", we will start giving the \"j-th\" value and then the values number \"j+n\", \"j+2n\", ...\n",
    "# Therefore, all the values of a beggar index \"idx_beggar\" will be the index range(idx_beggar, len(values), n) \n",
    "\n",
    "def beggars(values, n):\n",
    "    return [\n",
    "        sum(values[i] for i in range(idx_beggar, len(values), n))\n",
    "        for idx_beggar in range(n)\n",
    "    ]\n",
    "\n",
    "assert beggars([1,2,3,4,5],1) == [15]\n",
    "assert beggars([1,2,3,4,5],2) == [9,6]\n",
    "assert beggars([1,2,3,4,5],3) == [5,7,3]\n",
    "assert beggars([1,2,3,4,5],6) == [1,2,3,4,5,0]\n",
    "assert beggars([1,2,3,4,5],0) == []"
   ]
  },
  {
   "cell_type": "markdown",
   "metadata": {},
   "source": [
    "# Find the first non-consecutive number ❽\n",
    "🔗https://www.codewars.com/kata/58f8a3a27a5c28d92e000144/train/python\n",
    "\n",
    "Your task is to find the first element of an array that is not consecutive.\n",
    "\n",
    "By not consecutive we mean not exactly 1 larger than the previous element of the array.\n",
    "\n",
    "E.g. If we have an array `[1,2,3,4,6,7,8]` then `1` then `2` then `3` then `4` are all consecutive but `6` is not, so that's the first non-consecutive number.\n",
    "\n",
    "If the whole array is consecutive then return None`.\n",
    "\n",
    "The array will always have at least `2` elements (1) and all elements will be numbers. The numbers will also all be unique and in ascending order. The numbers could be positive or negative and the first non-consecutive could be either too!\n",
    "\n",
    "If you like this Kata, maybe try this one next: https://www.codewars.com/kata/represent-array-of-numbers-as-ranges\n",
    "\n",
    "\n",
    "(1) Can you write a solution that will return `None` for both `[]` and `[ x ]` though? (This is an empty array and one with a single number and is not tested for, but you can write your own example test. )\n"
   ]
  },
  {
   "cell_type": "code",
   "execution_count": 7,
   "metadata": {},
   "outputs": [],
   "source": [
    "# In this challenge, we need to compare one number to the one next to it\n",
    "# There are two possilibities:\n",
    "\n",
    "# 1. parsing all the values (`for value in arr`) \n",
    "# => we need to store the previous value so it's a bit annoying (and we don't like annoying!)\n",
    "\n",
    "# 2. doing a loop of all indexes (`for i in range(len(arr))`)\n",
    "# => it's more convenient because we can retrieve the value of a given index \n",
    "# and the value of the previous index pretty easily\n",
    "\n",
    "# We will take the second approach and since we need to read two indexes, we have 2 choices\n",
    "# a. doing a loop on \"i\" from 0 to len(arr) - 1 => we compare i and i+1\n",
    "# b. doing a loop on \"i\" from 1 to len(arr) => we compare i-1 and i\n",
    "# They are equivalent but we decided to go for \"a.\"\n",
    "\n",
    "def first_non_consecutive(arr):\n",
    "    for i in range(len(arr) - 1):\n",
    "        if arr[i] != arr[i+1] - 1:\n",
    "            return arr[i+1]\n",
    "\n",
    "assert first_non_consecutive([1,2,3,4,6,7,8]) == 6\n",
    "assert first_non_consecutive([1,2,3,4,5,6,7,8]) == None\n",
    "assert first_non_consecutive([4,6,7,8,9,11]) == 6\n",
    "assert first_non_consecutive([4,5,6,7,8,9,11]) == 11\n",
    "assert first_non_consecutive([31,32]) == None\n",
    "assert first_non_consecutive([31,33]) == 33\n",
    "assert first_non_consecutive([-3,-2,0,1]) == 0\n",
    "assert first_non_consecutive([-5,-4,-3,-1]) == -1\n",
    "assert first_non_consecutive([]) == None\n",
    "assert first_non_consecutive([10]) == None"
   ]
  },
  {
   "cell_type": "code",
   "execution_count": 18,
   "metadata": {},
   "outputs": [],
   "source": [
    "# Another alternative is to use \"enumerate(list)\" that returns an index along an iterable\n",
    "# We can start to read the list of values from index 1 of \"arr\" (i.e. 2nd element if any)\n",
    "# and with enumerate(arr[1:]), we will have\n",
    "# (0, arr[1])\n",
    "# (1, arr[2])\n",
    "# ...\n",
    "# => this will simplify a bit the code\n",
    "\n",
    "def first_non_consecutive(arr):\n",
    "    for i, value in enumerate(arr[1:]):\n",
    "        if arr[i] != value - 1:\n",
    "            return value\n",
    "\n",
    "assert first_non_consecutive([1,2,3,4,6,7,8]) == 6\n",
    "assert first_non_consecutive([1,2,3,4,5,6,7,8]) == None\n",
    "assert first_non_consecutive([4,6,7,8,9,11]) == 6\n",
    "assert first_non_consecutive([4,5,6,7,8,9,11]) == 11\n",
    "assert first_non_consecutive([31,32]) == None\n",
    "assert first_non_consecutive([31,33]) == 33\n",
    "assert first_non_consecutive([-3,-2,0,1]) == 0\n",
    "assert first_non_consecutive([-5,-4,-3,-1]) == -1\n",
    "assert first_non_consecutive([]) == None\n",
    "assert first_non_consecutive([10]) == None"
   ]
  },
  {
   "cell_type": "markdown",
   "metadata": {},
   "source": [
    "# Delete occurrences of an element if it occurs more than n times ❻\n",
    "🔗https://www.codewars.com/kata/554ca54ffa7d91b236000023/train/python\n",
    "\n",
    "## Enough is enough!\n",
    "\n",
    "Alice and Bob were on a holiday. Both of them took many pictures of the places they've been, and now they want to show Charlie their entire collection. However, Charlie doesn't like these sessions, since the motive usually repeats. He isn't fond of seeing the Eiffel tower 40 times. He tells them that he will only sit during the session if they show the same motive at most N times. Luckily, Alice and Bob are able to encode the motive as a number. Can you help them to remove numbers such that their list contains each number only up to N times, without changing the order?\n",
    "\n",
    "## Task\n",
    "\n",
    "Given a list lst and a number N, create a new list that contains each number of lst at most N times without reordering. For example if N = 2, and the input is [1,2,3,1,2,1,2,3], you take [1,2,3,1,2], drop the next [1,2] since this would lead to 1 and 2 being in the result 3 times, and then take 3, which leads to [1,2,3,1,2,3].\n",
    "\n",
    "\n",
    "## Example\n",
    "```python\n",
    "  delete_nth ([1,1,1,1],2) # return [1,1]\n",
    "  \n",
    "  delete_nth ([20,37,20,21],1) # return [20,37,21]\n",
    "```\n"
   ]
  },
  {
   "cell_type": "code",
   "execution_count": null,
   "metadata": {},
   "outputs": [],
   "source": [
    "# TODO: add solution"
   ]
  },
  {
   "cell_type": "markdown",
   "metadata": {},
   "source": [
    "# I love you,  a little ,  a lot,  passionately ... not at all ❽\n",
    "🔗https://www.codewars.com/kata/57f24e6a18e9fad8eb000296/train/python\n",
    "\n",
    "Who remembers back to their time in the schoolyard, when girls would take a flower and tear its petals, saying each of the following phrases each time a petal was torn:\n",
    "\n",
    "- I love you\n",
    "- a little\n",
    "- a lot\n",
    "- passionately\n",
    "- madly\n",
    "- not at all\n",
    "\n",
    "When the last petal was torn there were cries of excitement, dreams, surging thoughts and emotions.\n",
    "\n",
    "Your goal in this kata is to determine which phrase the girls would say for a flower of a given number of petals, where `nb_petals \\\\u003e 0`."
   ]
  },
  {
   "cell_type": "code",
   "execution_count": null,
   "metadata": {},
   "outputs": [],
   "source": [
    "# TODO: add solution"
   ]
  },
  {
   "cell_type": "markdown",
   "metadata": {},
   "source": [
    "# Filter Long Words ❼\n",
    "🔗https://www.codewars.com/kata/5697fb83f41965761f000052/train/python\n",
    "\n",
    "\n",
    "```if:python,cpp\n",
    "Write a function `filter_long_words` that takes a string `sentence` and an integer `n`.\n",
    "```\n",
    "Return a list of all words that are longer than `n`.\n",
    "\n",
    "Example:\n",
    "```if:javascript\n",
    "`filterLongWords(\\\\"
   ]
  },
  {
   "cell_type": "code",
   "execution_count": null,
   "metadata": {},
   "outputs": [],
   "source": [
    "# TODO: add solution"
   ]
  },
  {
   "cell_type": "markdown",
   "metadata": {},
   "source": [
    "# Populate hash with array keys and default value ❼\n",
    "🔗https://www.codewars.com/kata/51c38e14ea1c97ffaf000003/train/python\n",
    "\n",
    "Complete the function so that it takes an array of keys and a default value and returns a hash (Ruby) / dictionary (Python) with all keys set to the default value. \n",
    "\n",
    "## Example\n",
    "\n",
    "```ruby\n",
    "solution([:draft, :completed], 0) # should return {draft: 0, completed: 0}\n",
    "```\n",
    "\n",
    "```python\n",
    "[\\\\"
   ]
  },
  {
   "cell_type": "code",
   "execution_count": null,
   "metadata": {},
   "outputs": [],
   "source": [
    "# TODO: add solution"
   ]
  },
  {
   "source": [
    "# A gift well spent\n",
    "\n",
    "Note: This kata has been inspired by [GCJ 2010's \"Store credit\"](https://code.google.com/codejam/contest/351101/dashboard#s=p0), where one also has to parse the actual input. If you solved this kata, try that one too. Note that GCJ's version always has a solution, whereas this kata might not.\n",
    "\n",
    "## Story\n",
    "You got a gift card for your local store. It has some credit you can use to buy things, but it may be used only for up to two items, and any credit you don't use is lost. You want something for a friend and yourself. Therefore, you want to buy two items which add up the entire gift card value.\n",
    "\n",
    "## Task\n",
    "You will get the value of the gift card `c` and a finite list of item values. You should return a pair of indices that correspond to values that add up to `c`:\n",
    "\n",
    "```\n",
    "buy(2,[1,1])       = [0,1]\n",
    "buy(3,[1,1])       = None\n",
    "buy(5,[5,2,3,4,5]) = [1,2]\n",
    "```\n",
    "\n",
    "The indices start at `0`. The first index should always be smaller than the second index. If there are multiple solutions, return the minimum (lexicographically):\n",
    "\n",
    "`buy(5,[1,2,3,4,5]) = [0,3] # the values at [1,2] also adds up to five, but [0,3] < [1,2]`\n"
   ],
   "cell_type": "markdown",
   "metadata": {}
  },
  {
   "cell_type": "code",
   "execution_count": 10,
   "metadata": {},
   "outputs": [],
   "source": [
    "# The most straight forward solution is to do a first loop on the values\n",
    "# and then loop for all the following items to see if there is a matching value\n",
    "# (i.e. total is equal to the total credit)\n",
    "\n",
    "def buy(credit, prices):        \n",
    "    for i in range(len(prices)): \n",
    "        for j in range(i + 1, len(prices)):\n",
    "            if prices[i] + prices[j] == credit:\n",
    "                return [i, j]\n",
    "\n",
    "\n",
    "assert buy(3, []) == None\n",
    "assert buy(3, [1]) == None\n",
    "assert buy(2, [1, 1]) == [0, 1]\n",
    "assert buy(3, [1, 1]) == None\n",
    "assert buy(5, [5, 2, 3, 4, 5]) == [1, 2]\n",
    "assert buy(5, [1, 2, 3, 4, 5]) == [0, 3]\n",
    "assert buy(5, [0, 0, 0, 2, 3]) == [3, 4]\n"
   ]
  },
  {
   "cell_type": "code",
   "execution_count": 16,
   "metadata": {},
   "outputs": [],
   "source": [
    "def buy(credit, prices):\n",
    "    solutions = list()\n",
    "    matching_index = dict()\n",
    "    for i, price in enumerate(prices): \n",
    "        if price in matching_index:\n",
    "            solutions.append([matching_index[price], i])\n",
    "        else:\n",
    "            matching_index[credit - price] = i\n",
    "    \n",
    "    if solutions:\n",
    "        return sorted(solutions)[0]\n",
    "\n",
    "\n",
    "assert buy(3, []) == None\n",
    "assert buy(3, [1]) == None\n",
    "assert buy(2, [1, 1]) == [0, 1]\n",
    "assert buy(3, [1, 1]) == None\n",
    "assert buy(5, [5, 2, 3, 4, 5]) == [1, 2]\n",
    "# This next test is failed because the solution returns [1, 2] and not [0, 3]\n",
    "# ... indeed, the solution is returned when the first 2nd match is found and 2 < 3\n",
    "assert buy(5, [1, 2, 3, 4, 5]) == [0, 3]  \n",
    "assert buy(5, [0, 0, 0, 2, 3]) == [3, 4]\n"
   ]
  },
  {
   "cell_type": "code",
   "execution_count": null,
   "metadata": {},
   "outputs": [],
   "source": []
  }
 ],
 "metadata": {
  "kernelspec": {
   "name": "python371jvsc74a57bd08a428f088ac08f7fdf89fb2f4bb23c2bc8a83acc5d068a78d54410b8e3eeec73",
   "display_name": "Python 3.7.1 32-bit"
  }
 },
 "nbformat": 4,
 "nbformat_minor": 4
}