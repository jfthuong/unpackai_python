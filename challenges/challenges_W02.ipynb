{
 "cells": [
  {
   "cell_type": "markdown",
   "metadata": {},
   "source": [
    "# ⇝ Coding 💻 Challenges Week 2 ⇜\n",
    "\n",
    "![unpackAI Logo](../images/unpackAI_logo_whiteBG.svg)\n",
    "\n",
    "\n",
    "**NOTE**: in the solution, the code assert function(...) == value is used to test the solution.\n",
    "... so you don't have to care about it\n"
   ]
  },
  {
   "cell_type": "markdown",
   "metadata": {},
   "source": [
    "# Sum Mixed Array ❽\n",
    "🔗https://www.codewars.com/kata/57eaeb9578748ff92a000009/train/python\n",
    "\n",
    "Given an array of integers as strings and numbers, return the sum of the array values as if all were numbers.\n",
    "\n",
    "Return your answer as a number."
   ]
  },
  {
   "cell_type": "code",
   "execution_count": null,
   "metadata": {},
   "outputs": [],
   "source": [
    "# TODO: add solution"
   ]
  },
  {
   "cell_type": "markdown",
   "metadata": {},
   "source": [
    "# Multiplication table for number ❽\n",
    "🔗https://www.codewars.com/kata/5a2fd38b55519ed98f0000ce/train/python\n",
    "\n",
    "Your goal is to return multiplication table for ```number``` that is always an integer from 1 to 10.\n",
    "\n",
    "For example, a multiplication table (string) for ```number == 5``` looks like below:\n",
    "\n",
    "```\n",
    "1 * 5 = 5\n",
    "2 * 5 = 10\n",
    "3 * 5 = 15\n",
    "4 * 5 = 20\n",
    "5 * 5 = 25\n",
    "6 * 5 = 30\n",
    "7 * 5 = 35\n",
    "8 * 5 = 40\n",
    "9 * 5 = 45\n",
    "10 * 5 = 50\n",
    "```\n",
    "\n",
    "```if-not:powershell\n",
    "P. S. You can use ```\\\\\n",
    "``` in string to jump to the next line.\n",
    "```\n",
    "\n",
    "\n",
    "\n",
    "Note: newlines should be added between rows, but there should be no trailing newline at the end."
   ]
  },
  {
   "cell_type": "code",
   "execution_count": null,
   "metadata": {},
   "outputs": [],
   "source": [
    "# TODO: add solution"
   ]
  },
  {
   "cell_type": "markdown",
   "metadata": {},
   "source": [
    "# Numbers to Letters ❼\n",
    "🔗https://www.codewars.com/kata/57ebaa8f7b45ef590c00000c/train/python\n",
    "\n",
    "Given an array of numbers (in string format), you must return a string. The numbers correspond to the letters of the alphabet in reverse order: a=26, z=1 etc. You should also account for `'!'`, `'?'` and `' '` that are represented by '27', '28' and '29' respectively.\n",
    "\n",
    "All inputs will be valid.\n"
   ]
  },
  {
   "cell_type": "code",
   "execution_count": null,
   "metadata": {},
   "outputs": [],
   "source": [
    "# TODO: add solution"
   ]
  },
  {
   "cell_type": "markdown",
   "metadata": {},
   "source": [
    "# English beggars ❻\n",
    "🔗https://www.codewars.com/kata/59590976838112bfea0000fa/train/python\n",
    "\n",
    "Born a misinterpretation of [this kata](https://www.codewars.com/kata/simple-fun-number-334-two-beggars-and-gold/), your task here is pretty simple: given an array of values and an amount of beggars, you are supposed to return an array with the sum of what each beggar brings home, assuming they all take regular turns, from the first to the last.\n",
    "\n",
    "For example: `[1,2,3,4,5]` for `2` beggars will return a result of `[9,6]`, as the first one takes `[1,3,5]`, the second collects `[2,4]`.\n",
    "\n",
    "The same array with `3` beggars would have in turn have produced a better out come for the second beggar: `[5,7,3]`, as they will respectively take `[1,4]`, `[2,5]` and `[3]`.\n",
    "\n",
    "Also note that not all beggars have to take the same amount of \\\\"
   ]
  },
  {
   "cell_type": "code",
   "execution_count": null,
   "metadata": {},
   "outputs": [],
   "source": [
    "# TODO: add solution"
   ]
  },
  {
   "cell_type": "markdown",
   "metadata": {},
   "source": [
    "# Find the first non-consecutive number ❽\n",
    "🔗https://www.codewars.com/kata/58f8a3a27a5c28d92e000144/train/python\n",
    "\n",
    "Your task is to find the first element of an array that is not consecutive.\n",
    "\n",
    "By not consecutive we mean not exactly 1 larger than the previous element of the array.\n",
    "\n",
    "E.g. If we have an array `[1,2,3,4,6,7,8]` then `1` then `2` then `3` then `4` are all consecutive but `6` is not, so that's the first non-consecutive number.\n",
    "\n",
    "\n",
    "```if-not:c\n",
    "If the whole array is consecutive then return `null`\\\\u003csup\\\\u003e2\\\\u003c/sup\\\\u003e.\n",
    "```\n",
    "The array will always have at least `2` elements\\\\u003csup\\\\u003e1\\\\u003c/sup\\\\u003e and all elements will be numbers. The numbers will also all be unique and in ascending order. The numbers could be positive or negative and the first non-consecutive could be either too!\n",
    "\n",
    "If you like this Kata, maybe try this one next: https://www.codewars.com/kata/represent-array-of-numbers-as-ranges\n",
    "\n",
    "\n",
    "```if-not:c\n",
    "\\\\u003csup\\\\u003e1\\\\u003c/sup\\\\u003e Can you write a solution that will return `null`\\\\u003csup\\\\u003e2\\\\u003c/sup\\\\u003e for both `[]` and `[ x ]` though?  (This is an empty array and one with a single number and is not tested for, but you can write your own example test. )\n",
    "\n",
    "\\\\u003csup\\\\u003e2\\\\u003c/sup\\\\u003e  \n",
    "Swift, Ruby and Crystal: `nil`  \n",
    "Haskell: `Nothing`  \n",
    "Python, Rust, Scala: `None`  \n",
    "Julia: `nothing`  \n",
    "Nim: `none(int)` (See [options](https://nim-lang.org/docs/options.html))\n",
    "```"
   ]
  },
  {
   "cell_type": "code",
   "execution_count": null,
   "metadata": {},
   "outputs": [],
   "source": [
    "# TODO: add solution"
   ]
  },
  {
   "cell_type": "markdown",
   "metadata": {},
   "source": [
    "# Delete occurrences of an element if it occurs more than n times ❻\n",
    "🔗https://www.codewars.com/kata/554ca54ffa7d91b236000023/train/python\n",
    "\n",
    "## Enough is enough!\n",
    "\n",
    "Alice and Bob were on a holiday. Both of them took many pictures of the places they've been, and now they want to show Charlie their entire collection. However, Charlie doesn't like these sessions, since the motive usually repeats. He isn't fond of seeing the Eiffel tower 40 times. He tells them that he will only sit during the session if they show the same motive at most N times. Luckily, Alice and Bob are able to encode the motive as a number. Can you help them to remove numbers such that their list contains each number only up to N times, without changing the order?\n",
    "\n",
    "## Task\n",
    "\n",
    "Given a list lst and a number N, create a new list that contains each number of lst at most N times without reordering. For example if N = 2, and the input is [1,2,3,1,2,1,2,3], you take [1,2,3,1,2], drop the next [1,2] since this would lead to 1 and 2 being in the result 3 times, and then take 3, which leads to [1,2,3,1,2,3].\n",
    "\n",
    "~~~if:nasm\n",
    "## NASM notes\n",
    "\n",
    "Write the output numbers into the `out` parameter, and return its length.\n",
    "\n",
    "The input array will contain only integers between 1 and 50 inclusive. Use it to your advantage.\n",
    "~~~\n",
    "\n",
    "~~~if:c\n",
    "For C:\n",
    "* Assign the return array length to the pointer parameter `*szout`.\n",
    "* Do not mutate the input array.\n",
    "~~~\n",
    "\n",
    "## Example\n",
    "```python\n",
    "  delete_nth ([1,1,1,1],2) # return [1,1]\n",
    "  \n",
    "  delete_nth ([20,37,20,21],1) # return [20,37,21]\n",
    "```\n",
    "```ruby\n",
    "  delete_nth ([1,1,1,1],2) # return [1,1]\n",
    "  \n",
    "  delete_nth ([20,37,20,21],1) # return [20,37,21]\n",
    "```\n",
    "```javascript\n",
    "  deleteNth ([1,1,1,1],2) // return [1,1]\n",
    "  \n",
    "  deleteNth ([20,37,20,21],1) // return [20,37,21]\n",
    "```\n",
    "```haskell\n",
    "deleteNth [20,37,20,21]       1 `shouldBe` [20,37,21]\n",
    "deleteNth [1,1,3,3,7,2,2,2,2] 3 `shouldBe` [1, 1, 3, 3, 7, 2, 2, 2]\n",
    "```\n",
    "```csharp\n",
    "Kata.DeleteNth (new int[] {20,37,20,21}, 1) // return [20,37,21]\n",
    "Kata.DeleteNth (new int[] {1,1,3,3,7,2,2,2,2}, 3) // return [1, 1, 3, 3, 7, 2, 2, 2]\n",
    "```\n",
    "```fsharp\n",
    "deleteNth [20;37;20;21] 1 // return [20;37;21]\n",
    "deleteNth [1;1;3;3;7;2;2;2;2] 3 // return [1;1;3;3;7;2;2;2]\n",
    "```\n",
    "```java\n",
    "EnoughIsEnough.deleteNth(new int[] {20,37,20,21}, 1) // return [20,37,21]\n",
    "EnoughIsEnough.deleteNth(new int[] {1,1,3,3,7,2,2,2,2}, 3) // return [1, 1, 3, 3, 7, 2, 2, 2]\n",
    "```\n",
    "```c++\n",
    "deleteNth({20,37,20,21}, 1) // return {20,37,21}\n",
    "deleteNth({1,1,3,3,7,2,2,2,2}, 3) // return {1, 1, 3, 3, 7, 2, 2, 2}\n",
    "```\n",
    "```scala\n",
    "deleteNth(List(20,37,20,21), 1) // return List(20,37,21)\n",
    "deleteNth(List(1,1,3,3,7,2,2,2,2), 3) // return List(1, 1, 3, 3, 7, 2, 2, 2)\n",
    "```\n",
    "```c\n",
    "delete_nth(4, {1, 1, 1, 1}, 2, *p)     // returns {1, 1}, 2\n",
    "delete_nth(4, {20, 37, 20, 21}, 1, *p) // returns {20, 37, 21}, 3\n",
    "```\n",
    "```rust\n",
    "delete_nth(\\\\u0026[20,37,20,21], 1);       // returns vec![20,37,21]\n",
    "delete_nth(\\\\u0026[1,1,3,3,7,2,2,2,2], 3); // returns vec![1, 1, 3, 3, 7, 2, 2, 2])\n",
    "```"
   ]
  },
  {
   "cell_type": "code",
   "execution_count": null,
   "metadata": {},
   "outputs": [],
   "source": [
    "# TODO: add solution"
   ]
  },
  {
   "cell_type": "markdown",
   "metadata": {},
   "source": [
    "# I love you,  a little ,  a lot,  passionately ... not at all ❽\n",
    "🔗https://www.codewars.com/kata/57f24e6a18e9fad8eb000296/train/python\n",
    "\n",
    "Who remembers back to their time in the schoolyard, when girls would take a flower and tear its petals, saying each of the following phrases each time a petal was torn:\n",
    "\n",
    "- I love you\n",
    "- a little\n",
    "- a lot\n",
    "- passionately\n",
    "- madly\n",
    "- not at all\n",
    "\n",
    "When the last petal was torn there were cries of excitement, dreams, surging thoughts and emotions.\n",
    "\n",
    "Your goal in this kata is to determine which phrase the girls would say for a flower of a given number of petals, where `nb_petals \\\\u003e 0`."
   ]
  },
  {
   "cell_type": "code",
   "execution_count": null,
   "metadata": {},
   "outputs": [],
   "source": [
    "# TODO: add solution"
   ]
  },
  {
   "cell_type": "markdown",
   "metadata": {},
   "source": [
    "# Filter Long Words ❼\n",
    "🔗https://www.codewars.com/kata/5697fb83f41965761f000052/train/python\n",
    "\n",
    "\n",
    "```if:python,cpp\n",
    "Write a function `filter_long_words` that takes a string `sentence` and an integer `n`.\n",
    "```\n",
    "Return a list of all words that are longer than `n`.\n",
    "\n",
    "Example:\n",
    "```if:javascript\n",
    "`filterLongWords(\\\\"
   ]
  },
  {
   "cell_type": "code",
   "execution_count": null,
   "metadata": {},
   "outputs": [],
   "source": [
    "# TODO: add solution"
   ]
  },
  {
   "cell_type": "markdown",
   "metadata": {},
   "source": [
    "# Populate hash with array keys and default value ❼\n",
    "🔗https://www.codewars.com/kata/51c38e14ea1c97ffaf000003/train/python\n",
    "\n",
    "Complete the function so that it takes an array of keys and a default value and returns a hash (Ruby) / dictionary (Python) with all keys set to the default value. \n",
    "\n",
    "## Example\n",
    "\n",
    "```ruby\n",
    "solution([:draft, :completed], 0) # should return {draft: 0, completed: 0}\n",
    "```\n",
    "\n",
    "```python\n",
    "[\\\\"
   ]
  },
  {
   "cell_type": "code",
   "execution_count": null,
   "metadata": {},
   "outputs": [],
   "source": [
    "# TODO: add solution"
   ]
  }
 ],
 "metadata": {},
 "nbformat": 4,
 "nbformat_minor": 4
}
