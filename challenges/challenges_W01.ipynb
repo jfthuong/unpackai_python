{
 "metadata": {
  "language_info": {
   "codemirror_mode": {
    "name": "ipython",
    "version": 3
   },
   "file_extension": ".py",
   "mimetype": "text/x-python",
   "name": "python",
   "nbconvert_exporter": "python",
   "pygments_lexer": "ipython3",
   "version": "3.7.1"
  },
  "orig_nbformat": 2,
  "kernelspec": {
   "name": "python371jvsc74a57bd08a428f088ac08f7fdf89fb2f4bb23c2bc8a83acc5d068a78d54410b8e3eeec73",
   "display_name": "Python 3.7.1 32-bit"
  }
 },
 "nbformat": 4,
 "nbformat_minor": 2,
 "cells": [
  {
   "source": [
    "# ⇝ Coding 💻 Challenges Week 01 ⇜\n",
    "\n",
    "### _NOTE: in the solution, the code `assert function(...) == value` is used to test the solution._\n",
    "... so you don't have to care about it"
   ],
   "cell_type": "markdown",
   "metadata": {}
  },
  {
   "source": [
    "# Do you speak \"English\"? ❽\n",
    "Given a string of arbitrary length with any ascii characters. Write a function to determine whether the string contains the whole word `\"English\"`.\n",
    "\n",
    "The order of characters is important -- a string `\"abcEnglishdef\"` is correct but `\"abcnEglishsef\"` is not correct.\n",
    "\n",
    "Upper or lower case letter does not matter -- `\"eNglisH\"` is also correct.\n",
    "\n",
    "Return value as boolean values, `True` if the string contains \"English\", `False` if it does not."
   ],
   "cell_type": "markdown",
   "metadata": {}
  },
  {
   "cell_type": "code",
   "execution_count": 14,
   "metadata": {},
   "outputs": [],
   "source": [
    "# We can apply a `lower` or `upper` to the string and just need to check if the parameter is part of it\n",
    "def sp_eng(sentence): \n",
    "    return \"english\" in sentence.lower()\n",
    "\n",
    "assert sp_eng(\"1234#$%%eNglish ;k9\") == True"
   ]
  },
  {
   "source": [
    "# Return Negative ❽\n",
    "🔗https://www.codewars.com/kata/55685cd7ad70877c23000102/python\n",
    "\n",
    "In this simple assignment you are given a number and have to make it negative. But maybe the number is already negative?\n",
    "\n",
    "Example:\n",
    "```\n",
    "make_negative(1);  # return -1\n",
    "make_negative(-5); # return -5\n",
    "make_negative(0);  # return 0\n",
    "```\n",
    "Notes:\n",
    "* The number can be negative already, in which case no change is required.\n",
    "* Zero (0) is not checked for any specific sign. Negative zeros make no mathematical sense."
   ],
   "cell_type": "markdown",
   "metadata": {}
  },
  {
   "cell_type": "code",
   "execution_count": 11,
   "metadata": {},
   "outputs": [],
   "source": [
    "# You return a negative value if this is strictly positive, else just the value\n",
    "\n",
    "def make_negative(number):\n",
    "    return number if number <= 0 else -1 * number\n",
    "\n",
    "# We can put the \"if / else\" in one line; this is equivalent to\n",
    "# if number <= 0:\n",
    "#     return number\n",
    "# else:\n",
    "#     return -1 * number\n",
    "\n",
    "assert make_negative(5) == -5\n",
    "assert make_negative(-5) == -5\n",
    "assert make_negative(0) == 0"
   ]
  },
  {
   "cell_type": "code",
   "execution_count": 12,
   "metadata": {},
   "outputs": [],
   "source": [
    "# A simpler way is to transform to strictly positive (absolute value) and then multiply by -1\n",
    "\n",
    "def make_negative(number):\n",
    "    return -1 * abs(number)\n",
    "\n",
    "assert make_negative(5) == -5\n",
    "assert make_negative(-5) == -5\n",
    "assert make_negative(0) == 0"
   ]
  },
  {
   "source": [
    "# Sum The Strings ❽\n",
    "\n",
    "Create a function that takes 2 positive integers in form of a string as an input, and outputs the sum (also as a string):\n",
    "\n",
    "Example: (Input1, Input2 -->Output)\n",
    "```\n",
    "\"4\",  \"5\" --> \"9\"\n",
    "\"34\", \"5\" --> \"39\"\n",
    "```\n",
    "Notes:\n",
    "* If either input is an empty string, consider it as zero."
   ],
   "cell_type": "markdown",
   "metadata": {}
  },
  {
   "cell_type": "code",
   "execution_count": 16,
   "metadata": {},
   "outputs": [],
   "source": [
    "# The trick is simply to convert strings to integers,\n",
    "# do a sum, and making back to a string\n",
    "\n",
    "def sum_str(a, b):\n",
    "    return str(int(a) + int(b))\n",
    "\n",
    "assert sum_str(\"1\", \"2\") == \"3\""
   ]
  },
  {
   "source": [
    "# Opposites Attract ❽\n",
    "\n",
    "Timmy & Sarah think they are in love, but around where they live, they will only know once they pick a flower each. If one of the flowers has an even number of petals and the other has an odd number of petals it means they are in love.\n",
    "\n",
    "Write a function that will take the number of petals of each flower and return true if they are in love and false if they aren't."
   ],
   "cell_type": "markdown",
   "metadata": {}
  },
  {
   "cell_type": "code",
   "execution_count": 19,
   "metadata": {},
   "outputs": [],
   "source": [
    "# To check if a number is even or odd, we will use \"modulo of 2\"\n",
    "# n % 2 is 0 if n is even and 1 if n is odd\n",
    "# Therefore, we will just have to check that the 2 results of modulo are different\n",
    "\n",
    "def lovefunc( flower1, flower2 ):\n",
    "    return flower1 % 2 != flower2 % 2\n",
    "\n",
    "assert lovefunc(1,4) == True\n",
    "assert lovefunc(2,2) == False\n",
    "assert lovefunc(0,1) == True\n",
    "assert lovefunc(0,0) == False"
   ]
  },
  {
   "cell_type": "code",
   "execution_count": 5,
   "metadata": {},
   "outputs": [],
   "source": [
    "# We could also use the mathematical property that the sum of 2 numbers is even\n",
    "# only if one is even and the other is odd\n",
    "\n",
    "def lovefunc( flower1, flower2 ):\n",
    "    return bool((flower1 + flower2) % 2)\n",
    "\n",
    "assert lovefunc(1,4) == True\n",
    "assert lovefunc(2,2) == False\n",
    "assert lovefunc(0,1) == True\n",
    "assert lovefunc(0,0) == False"
   ]
  },
  {
   "source": [
    "# Quarter of the year ❽\n",
    "\n",
    "Given a month as an integer from 1 to 12, return to which quarter of the year it belongs as an integer number.\n",
    "\n",
    "For example: month 2 (February), is part of the first quarter; month 6 (June), is part of the second quarter; and month 11 (November), is part of the fourth quarter."
   ],
   "cell_type": "markdown",
   "metadata": {}
  },
  {
   "cell_type": "code",
   "execution_count": 3,
   "metadata": {},
   "outputs": [],
   "source": [
    "# We can simply do an integer division to see which quarter\n",
    "# Because 1 // 4 = 0, then we need to add 1 to get the quarter number\n",
    "\n",
    "def quarter_of(month):\n",
    "    return month // 4 + 1\n",
    "\n",
    "assert quarter_of(3) == 1\n",
    "assert quarter_of(8) == 3"
   ]
  },
  {
   "source": [
    "# Abbreviate a Two Word Name ❽\n",
    "\n",
    "Write a function to convert a name into initials. This kata strictly takes two words with one space in between them.\n",
    "\n",
    "The output should be two capital letters with a dot separating them.\n",
    "\n",
    "It should look like this:\n",
    "\n",
    "`Sam Harris` => `S.H`\n",
    "\n",
    "`Patrick Feeney` => `P.F`"
   ],
   "cell_type": "markdown",
   "metadata": {}
  },
  {
   "cell_type": "code",
   "execution_count": 11,
   "metadata": {},
   "outputs": [],
   "source": [
    "# By only using string methods, you could look for the index of the space\n",
    "# and recompose the new string\n",
    "\n",
    "# NOTE: We will see later how to it in a bettwer way (with lists)\n",
    "\n",
    "def abbrev_name(name):\n",
    "    idx_space = name.index(\" \")\n",
    "    return f\"{name[0]}.{name[idx_space + 1]}\".upper()\n",
    "\n",
    "assert abbrev_name(\"Monthy Python\") == \"M.P\"\n",
    "assert abbrev_name(\"J T\") == \"J.T\"\n",
    "assert abbrev_name(\"bob marley\") == \"B.M\""
   ]
  },
  {
   "source": [
    "# Regex validate PIN code\n",
    "🔗https://www.codewars.com/kata/55f8a9c06c018a0d6e000132/python\n",
    "\n",
    "ATM machines allow 4 or 6 digit PIN codes and PIN codes cannot contain anything but exactly 4 digits or exactly 6 digits.\n",
    "\n",
    "If the function is passed a valid PIN string, return `True`, else return `False`.\n",
    "\n",
    "Examples\n",
    "```\n",
    "\"1234\"   -->  true\n",
    "\"12345\"  -->  false\n",
    "\"a234\"   -->  false\n",
    "```"
   ],
   "cell_type": "markdown",
   "metadata": {}
  },
  {
   "cell_type": "code",
   "execution_count": 1,
   "metadata": {},
   "outputs": [],
   "source": [
    "# You can just check the length (either 4 and 6), and check that the whole string is a number\n",
    "def validate_pin(pin):\n",
    "    return len(pin) in (4, 6) and pin.isdigit()\n",
    "\n",
    "assert validate_pin(\"1234\") == True\n",
    "assert validate_pin(\"123456\") == True\n",
    "assert validate_pin(\"000\") == False"
   ]
  },
  {
   "cell_type": "code",
   "execution_count": 3,
   "metadata": {},
   "outputs": [],
   "source": [
    "# Another way, is to use Regular Expressions (Regex), which are a unified syntax for matching patterns\n",
    "# You can find a tutorial about regex here:\n",
    "# https://medium.com/factory-mind/regex-tutorial-a-simple-cheatsheet-by-examples-649dc1c3f285\n",
    "\n",
    "# A solution would be:\n",
    "# * 4 digits\n",
    "# * Optionally followoed by 2 digits\n",
    "# => this would correspond to this regex: https://regex101.com/r/KpVKdQ/2\n",
    "\n",
    "# \\d matches a digit (equivalent to [0-9])\n",
    "# {4} matches the previous token exactly 4 times\n",
    "\n",
    "# \\d matches a digit (equivalent to [0-9])\n",
    "# {2} matches the previous token exactly 2 times\n",
    "# ? matches the previous token between zero and one times, as many times as possible, giving back as needed (greedy)\n",
    "\n",
    "# .. re.fullmatch with return a match if the text is a full match (from beginning to end)\n",
    "# and `None` otherwise => we will have to transform into a boolean\n",
    "import re\n",
    "\n",
    "def validate_pin(pin):\n",
    "    return bool(re.fullmatch(r\"\\d{4}(\\d{2})?\", pin))\n",
    "\n",
    "assert validate_pin(\"1234\") == True\n",
    "assert validate_pin(\"123456\") == True\n",
    "assert validate_pin(\"000\") == False"
   ]
  },
  {
   "source": [
    "# shorter concat (reverse longer) ❼\n",
    " \n",
    "Given 2 strings, `a` and `b`, return a string of the form: `shorter+reverse(longer)+shorter`.\n",
    "\n",
    "In other words, the shortest string has to be put as prefix and as suffix of the reverse of the longest.\n",
    "\n",
    "Strings `a` and `b` may be empty, but not null.\n",
    "\n",
    "If `a` and `b` have the same length treat `a` as the longer producing `b+reverse(a)+b`"
   ],
   "cell_type": "markdown",
   "metadata": {}
  },
  {
   "cell_type": "code",
   "execution_count": 7,
   "metadata": {},
   "outputs": [],
   "source": [
    "# Solution #1: we could compute shorter and longer one based on length\n",
    "def shorter_reverse_longer(a, b):\n",
    "    shorter, longer = (a, b) if len(a) < len(b) else (b, a)\n",
    "    return f\"{shorter}{longer[::-1]}{shorter}\"\n",
    "\n",
    "assert shorter_reverse_longer(\"first\", \"abcde\") == \"abcdetsrifabcde\"\n",
    "assert shorter_reverse_longer(\"hello\", \"bau\") == \"bauollehbau\"\n",
    "assert shorter_reverse_longer(\"abcde\", \"fghi\") == \"fghiedcbafghi\""
   ]
  },
  {
   "cell_type": "code",
   "execution_count": 8,
   "metadata": {},
   "outputs": [],
   "source": [
    "# Solution #2: we could use the current \"a\" and \"b\"\n",
    "# and permute them in order to always have \"a\" being the shorter string\n",
    "def shorter_reverse_longer(a, b):\n",
    "    if len(a) >= len(b):\n",
    "        a, b = b, a\n",
    "    return a + b[::-1] + a\n",
    "\n",
    "assert shorter_reverse_longer(\"first\", \"abcde\") == \"abcdetsrifabcde\"\n",
    "assert shorter_reverse_longer(\"hello\", \"bau\") == \"bauollehbau\"\n",
    "assert shorter_reverse_longer(\"abcde\", \"fghi\") == \"fghiedcbafghi\""
   ]
  },
  {
   "source": [
    "# Count the Digit ❼\n",
    "\n",
    "Take an integer `n (n >= 0)` and a digit `d (0 <= d <= 9)` as an integer.\n",
    "\n",
    "Square all numbers `k (0 <= k <= n)` between 0 and n.\n",
    "\n",
    "Count the numbers of digits d used in the writing of all the `k**2`.\n",
    "\n",
    "Call `nb_dig` (or nbDig or ...) the function taking `n` and `d` as parameters and returning this count.\n",
    "\n",
    "Examples:\n",
    "```\n",
    "n = 10, d = 1 \n",
    "the k*k are 0, 1, 4, 9, 16, 25, 36, 49, 64, 81, 100\n",
    "We are using the digit 1 in: 1, 16, 81, 100. The total count is then 4.\n",
    "\n",
    "nb_dig(25, 1) returns 11 since\n",
    "the k*k that contain the digit 1 are:\n",
    "1, 16, 81, 100, 121, 144, 169, 196, 361, 441.\n",
    "So there are 11 digits 1 for the squares of numbers between 0 and 25.\n",
    "```\n",
    "\n",
    "Note that `121` has twice the digit 1."
   ],
   "cell_type": "markdown",
   "metadata": {}
  },
  {
   "cell_type": "code",
   "execution_count": 2,
   "metadata": {},
   "outputs": [],
   "source": [
    "# A simple solution is to use a loop (will be seen in Lesson #06)\n",
    "# and increment the count each time\n",
    "# The trick is to transform to a string and use `count` to find how many times we have the digit\n",
    "# ...\n",
    "# This solution could be shorted by using \"list comprehension\" \n",
    "# (but a bit complicated to explain for the moment)\n",
    "\n",
    "def nb_dig(n, d):\n",
    "    nb_of_d = 0\n",
    "    for k in range(n+1):\n",
    "        nb_of_d += str(k**2).count(str(d))\n",
    "    return nb_of_d\n",
    "\n",
    "assert nb_dig(5750, 0) == 4700"
   ]
  },
  {
   "cell_type": "code",
   "execution_count": 5,
   "metadata": {},
   "outputs": [],
   "source": [
    "from string import ascii_lowercase\n",
    "# def alphabet_position(text):\n",
    "#     p_list = []\n",
    "#     for char in text:\n",
    "#         if char.lower() in ascii_lowercase:\n",
    "#             p_list.append()\n"
   ]
  },
  {
   "source": [
    "# Replace With Alphabet Position ❻\n",
    "🔗https://www.codewars.com/kata/546f922b54af40e1e90001da/python\n",
    "\n",
    "In this kata you are required to, given a string, replace every letter with its position in the alphabet.\n",
    "\n",
    "If anything in the text isn't a letter, ignore it and don't return it.\n",
    "\n",
    "`\"a\" = 1`, `\"b\" = 2`, etc.\n",
    "\n",
    "Example\n",
    "```\n",
    "alphabet_position(\"The sunset sets at twelve o' clock.\")\n",
    "```\n",
    "Should return `\"20 8 5 19 21 14 19 5 20 19 5 20 19 1 20 20 23 5 12 22 5 15 3 12 15 3 11\"` (as a string)\n"
   ],
   "cell_type": "markdown",
   "metadata": {}
  },
  {
   "cell_type": "code",
   "execution_count": null,
   "metadata": {},
   "outputs": [],
   "source": [
    "# Kevin's solution\n",
    "# He is:\n",
    "# * Creating a list of all letters which are part of text (see Lesson #06)\n",
    "# * Joining them with a space in the middle (see Lesson #08)\n",
    "\n",
    "def alphabet_position(text):\n",
    "    p_list = []\n",
    "    for char in text:\n",
    "        if char.lower() in 'abcdefghijklmnopqrstuvwxyz':\n",
    "            p_list.append(str('abcdefghijklmnopqrstuvwxyz'.index(char.lower()) + 1))\n",
    "    return ' '.join(p_list)"
   ]
  },
  {
   "cell_type": "code",
   "execution_count": null,
   "metadata": {},
   "outputs": [],
   "source": [
    "# NOTE: The list of lowercase letters could be retrieved from string.ascii_lowercase\n",
    "# We could either check that a lowercase character is inside, or if this character is `isalpha` (i.e. a letter)\n",
    "#\n",
    "# Instead of applying lower() to each character each time we use it, we could apply on the whole string\n",
    "#\n",
    "# To convert a  letter to its index in the alphabet, we could use the ascii code (with function `ord`)\n",
    "# and compare to ascii code of \"a\": since ord(letter) = ord(\"a\") + (position - 1), then we have\n",
    "# position = ord(letter) - ord(\"a\") + 1\n",
    "#\n",
    "# Finally, instead of using `append`, we could use list comprehensions\n",
    "# ... see these links for more details: \n",
    "# * https://www.pythontutorial.net/python-basics/python-list-comprehensions/\n",
    "# * https://www.w3schools.com/python/python_lists_comprehension.asp\n",
    "\n",
    "def alphabet_position(text):\n",
    "    return \" \".join(\n",
    "        str(ord(c) - ord(\"a\") + 1) for c in text.lower() if c.isalpha()\n",
    "    )\n",
    "\n",
    "assert alphabet_position(\"The narwhal bacons at midnight.\") == \"20 8 5 14 1 18 23 8 1 12 2 1 3 15 14 19 1 20 13 9 4 14 9 7 8 20\""
   ]
  }
 ]
}