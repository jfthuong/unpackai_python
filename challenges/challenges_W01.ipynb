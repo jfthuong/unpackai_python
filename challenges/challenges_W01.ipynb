{
 "metadata": {
  "language_info": {
   "codemirror_mode": {
    "name": "ipython",
    "version": 3
   },
   "file_extension": ".py",
   "mimetype": "text/x-python",
   "name": "python",
   "nbconvert_exporter": "python",
   "pygments_lexer": "ipython3",
   "version": "3.7.1"
  },
  "orig_nbformat": 2,
  "kernelspec": {
   "name": "python371jvsc74a57bd08a428f088ac08f7fdf89fb2f4bb23c2bc8a83acc5d068a78d54410b8e3eeec73",
   "display_name": "Python 3.7.1 32-bit"
  }
 },
 "nbformat": 4,
 "nbformat_minor": 2,
 "cells": [
  {
   "source": [
    "# Do you speak \"English\"? ➑\n",
    "\n",
    "Given a string of arbitrary length with any ascii characters. Write a function to determine whether the string contains the whole word `\"English\"`.\n",
    "\n",
    "The order of characters is important -- a string `\"abcEnglishdef\"` is correct but `\"abcnEglishsef\"` is not correct.\n",
    "\n",
    "Upper or lower case letter does not matter -- `\"eNglisH\"` is also correct.\n",
    "\n",
    "Return value as boolean values, `True` if the string contains \"English\", `False` if it does not."
   ],
   "cell_type": "markdown",
   "metadata": {}
  },
  {
   "cell_type": "code",
   "execution_count": 14,
   "metadata": {},
   "outputs": [],
   "source": [
    "# We can apply a `lower` or `upper` to the string and just need to check if the parameter is part of it\n",
    "def sp_eng(sentence): \n",
    "    return \"english\" in sentence.lower()\n",
    "\n",
    "assert sp_eng(\"1234#$%%eNglish ;k9\") == True"
   ]
  },
  {
   "source": [
    "# Sum The Strings ➑\n",
    "\n",
    "Create a function that takes 2 positive integers in form of a string as an input, and outputs the sum (also as a string):\n",
    "\n",
    "Example: (Input1, Input2 -->Output)\n",
    "```\n",
    "\"4\",  \"5\" --> \"9\"\n",
    "\"34\", \"5\" --> \"39\"\n",
    "```\n",
    "Notes:\n",
    "* If either input is an empty string, consider it as zero."
   ],
   "cell_type": "markdown",
   "metadata": {}
  },
  {
   "cell_type": "code",
   "execution_count": 16,
   "metadata": {},
   "outputs": [],
   "source": [
    "# The trick is simply to convert strings to integers,\n",
    "# do a sum, and making back to a string\n",
    "\n",
    "def sum_str(a, b):\n",
    "    return str(int(a) + int(b))\n",
    "\n",
    "assert sum_str(\"1\", \"2\") == \"3\""
   ]
  },
  {
   "source": [
    "# Opposites Attract ➑\n",
    "\n",
    "Timmy & Sarah think they are in love, but around where they live, they will only know once they pick a flower each. If one of the flowers has an even number of petals and the other has an odd number of petals it means they are in love.\n",
    "\n",
    "Write a function that will take the number of petals of each flower and return true if they are in love and false if they aren't."
   ],
   "cell_type": "markdown",
   "metadata": {}
  },
  {
   "cell_type": "code",
   "execution_count": 19,
   "metadata": {},
   "outputs": [],
   "source": [
    "# To check if a number is even or odd, we will use \"modulo of 2\"\n",
    "# n % 2 is 0 if n is even and 1 if n is odd\n",
    "# Therefore, we will just have to check that the 2 results of modulo are different\n",
    "\n",
    "# We could also use the mathematical property that the sum of 2 numbers is even\n",
    "# only if one is even and the other is odd\n",
    "\n",
    "def lovefunc( flower1, flower2 ):\n",
    "    return flower1 % 2 != flower2 % 2\n",
    "\n",
    "def lovefunc_2( flower1, flower2 ):\n",
    "    return bool((flower1 + flower2) % 2)\n",
    "\n",
    "assert lovefunc(1,4) == True\n",
    "assert lovefunc(2,2) == False\n",
    "assert lovefunc(0,1) == True\n",
    "assert lovefunc(0,0) == False"
   ]
  },
  {
   "source": [
    "# Quarter of the year ➑\n",
    "\n",
    "Given a month as an integer from 1 to 12, return to which quarter of the year it belongs as an integer number.\n",
    "\n",
    "For example: month 2 (February), is part of the first quarter; month 6 (June), is part of the second quarter; and month 11 (November), is part of the fourth quarter."
   ],
   "cell_type": "markdown",
   "metadata": {}
  },
  {
   "cell_type": "code",
   "execution_count": 3,
   "metadata": {},
   "outputs": [],
   "source": [
    "# We can simply do an integer division to see which quarter\n",
    "# Because 1 // 4 = 0, then we need to add 1 to get the quarter number\n",
    "\n",
    "def quarter_of(month):\n",
    "    return month // 4 + 1\n",
    "\n",
    "assert quarter_of(3) == 1\n",
    "assert quarter_of(8) == 3"
   ]
  },
  {
   "source": [
    "# Abbreviate a Two Word Name ➑\n",
    "\n",
    "Write a function to convert a name into initials. This kata strictly takes two words with one space in between them.\n",
    "\n",
    "The output should be two capital letters with a dot separating them.\n",
    "\n",
    "It should look like this:\n",
    "\n",
    "`Sam Harris` => `S.H`\n",
    "\n",
    "`Patrick Feeney` => `P.F`"
   ],
   "cell_type": "markdown",
   "metadata": {}
  },
  {
   "cell_type": "code",
   "execution_count": 11,
   "metadata": {},
   "outputs": [],
   "source": [
    "# By only using string methods, you could look for the index of the space\n",
    "# and recompose the new string\n",
    "\n",
    "# NOTE: We will see later how to it in a bettwer way (with lists)\n",
    "def abbrev_name(name):\n",
    "    idx_space = name.index(\" \")\n",
    "    return f\"{name[0]}.{name[idx_space + 1]}\".upper()\n",
    "\n",
    "assert abbrev_name(\"Monthy Python\") == \"M.P\"\n",
    "assert abbrev_name(\"J T\") == \"J.T\"\n",
    "assert abbrev_name(\"bob marley\") == \"B.M\""
   ]
  },
  {
   "source": [
    "# shorter concat (reverse longer) ➐\n",
    " \n",
    "Given 2 strings, `a` and `b`, return a string of the form: `shorter+reverse(longer)+shorter`.\n",
    "\n",
    "In other words, the shortest string has to be put as prefix and as suffix of the reverse of the longest.\n",
    "\n",
    "Strings `a` and `b` may be empty, but not null.\n",
    "\n",
    "If `a` and `b` have the same length treat `a` as the longer producing `b+reverse(a)+b`"
   ],
   "cell_type": "markdown",
   "metadata": {}
  },
  {
   "cell_type": "code",
   "execution_count": 7,
   "metadata": {},
   "outputs": [],
   "source": [
    "# Solution #1: we could compute shorter and longer one based on length\n",
    "def shorter_reverse_longer_1(a, b):\n",
    "    shorter, longer = (a, b) if len(a) < len(b) else (b, a)\n",
    "    return f\"{shorter}{longer[::-1]}{shorter}\"\n",
    "\n",
    "# Solution #2: we could use the current \"a\" and \"b\"\n",
    "# and permute them in order to always have \"a\" being the shorter string\n",
    "def shorter_reverse_longer(a, b):\n",
    "    if len(a) >= len(b):\n",
    "        a, b = b, a\n",
    "    return a + b[::-1] + a\n",
    "\n",
    "assert shorter_reverse_longer(\"first\", \"abcde\") == \"abcdetsrifabcde\"\n",
    "assert shorter_reverse_longer(\"hello\", \"bau\") == \"bauollehbau\"\n",
    "assert shorter_reverse_longer(\"abcde\", \"fghi\") == \"fghiedcbafghi\""
   ]
  },
  {
   "source": [
    "# Count the Digit ➐\n",
    "\n",
    "Take an integer `n (n >= 0)` and a digit `d (0 <= d <= 9)` as an integer.\n",
    "\n",
    "Square all numbers `k (0 <= k <= n)` between 0 and n.\n",
    "\n",
    "Count the numbers of digits d used in the writing of all the `k**2`.\n",
    "\n",
    "Call `nb_dig` (or nbDig or ...) the function taking `n` and `d` as parameters and returning this count.\n",
    "\n",
    "Examples:\n",
    "```\n",
    "n = 10, d = 1 \n",
    "the k*k are 0, 1, 4, 9, 16, 25, 36, 49, 64, 81, 100\n",
    "We are using the digit 1 in: 1, 16, 81, 100. The total count is then 4.\n",
    "\n",
    "nb_dig(25, 1) returns 11 since\n",
    "the k*k that contain the digit 1 are:\n",
    "1, 16, 81, 100, 121, 144, 169, 196, 361, 441.\n",
    "So there are 11 digits 1 for the squares of numbers between 0 and 25.\n",
    "```\n",
    "\n",
    "Note that `121` has twice the digit 1."
   ],
   "cell_type": "markdown",
   "metadata": {}
  },
  {
   "cell_type": "code",
   "execution_count": 13,
   "metadata": {},
   "outputs": [],
   "source": [
    "# A simple solution is to use a loop (will be seen in Lesson #06)\n",
    "# and increment the count each time\n",
    "# The trick is to transform to a string and use `count` to find how many times we have the digit\n",
    "# ...\n",
    "# This solution could be shorted by using \"list comprehension\" \n",
    "# (but a bit complicated to explain for the moment)\n",
    "\n",
    "def nb_dig(n, d):\n",
    "    nb_of_d = 0\n",
    "    for k in range(n+1):\n",
    "        nb_of_d += str(k**2).count(str(d))\n",
    "    return nb_of_d\n",
    "\n",
    "assert nb_dig(5750, 0) == 4700"
   ]
  },
  {
   "cell_type": "code",
   "execution_count": null,
   "metadata": {},
   "outputs": [],
   "source": []
  }
 ]
}