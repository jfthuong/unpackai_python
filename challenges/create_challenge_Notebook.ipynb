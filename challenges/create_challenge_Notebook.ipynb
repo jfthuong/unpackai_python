{
 "metadata": {
  "language_info": {
   "codemirror_mode": {
    "name": "ipython",
    "version": 3
   },
   "file_extension": ".py",
   "mimetype": "text/x-python",
   "name": "python",
   "nbconvert_exporter": "python",
   "pygments_lexer": "ipython3",
   "version": "3.7.1"
  },
  "orig_nbformat": 2,
  "kernelspec": {
   "name": "python371jvsc74a57bd08a428f088ac08f7fdf89fb2f4bb23c2bc8a83acc5d068a78d54410b8e3eeec73",
   "display_name": "Python 3.7.1 32-bit"
  }
 },
 "nbformat": 4,
 "nbformat_minor": 2,
 "cells": [
  {
   "cell_type": "code",
   "execution_count": 4,
   "metadata": {},
   "outputs": [],
   "source": [
    "import re\n",
    "import requests\n",
    "from dataclasses import dataclass\n",
    "from textwrap import dedent\n",
    "\n",
    "import nbformat as nbf\n",
    "from bs4 import BeautifulSoup\n"
   ]
  },
  {
   "cell_type": "code",
   "execution_count": 5,
   "metadata": {},
   "outputs": [],
   "source": [
    "WEEK_NB = 3\n",
    "\n",
    "\n",
    "URLS = {\n",
    "    \"Roman Numerals Decoder\": \"https://www.codewars.com/kata/51b6249c4612257ac0000005/python\",\n",
    "    \"Best Travel\": \"https://www.codewars.com/kata/55e7280b40e1c4a06d0000aa/python\",\n",
    "    \"Array Diff\": \"https://www.codewars.com/kata/523f5d21c841566fde000009/python\",\n",
    "    \"Directions Reduction\": \"https://www.codewars.com/kata/550f22f4d758534c1100025a/python\",\n",
    "    \"Make the Deadfish swim\": \"https://www.codewars.com/kata/51e0007c1f9378fa810002a9/python\",\n",
    "    \"Is the meetup age-diverse? (High-Order Func)\": \"https://www.codewars.com/kata/5829ca646d02cd1a65000284/python\",\n",
    "}"
   ]
  },
  {
   "cell_type": "code",
   "execution_count": 6,
   "metadata": {},
   "outputs": [],
   "source": [
    "# for title, url in URLS.items():\n",
    "#     response = requests.get(url)\n",
    "#     print(f\"---{title}---\")\n",
    "#     ranks = list(re.findall(r'(rank=\"-\\d+\"|\\d+ kyu)', response.content.decode()))\n",
    "#     print(ranks)"
   ]
  },
  {
   "cell_type": "code",
   "execution_count": 7,
   "metadata": {},
   "outputs": [],
   "source": [
    "@dataclass\n",
    "class Challenge:\n",
    "    title: str\n",
    "    level: int\n",
    "    descr: str\n",
    "\n",
    "def get_challenge(url):\n",
    "    response = requests.get(url)\n",
    "    if response.status_code != 200:\n",
    "        raise Exception(f\"Error fetching page: {response}\")\n",
    "\n",
    "    soup = BeautifulSoup(response.content, 'html.parser')\n",
    "    title = soup.title.text.replace(\" | Codewars\", \"\")\n",
    "\n",
    "    content = response.content.decode()\n",
    "    m = re.search(r'\\\\\"description\\\\\":\\\\\"(.*?)\\\\\"', content, flags=re.S)\n",
    "    descr = m.group(1).replace(\"\\\\\\\\n\", \"\\n\")\n",
    "\n",
    "    # there might be some content specific to code: ```if:<language> or ```if-not:<language>\n",
    "    descr = re.sub(r\"^```if:(?!python)\\w+.*?^```\", \"\", descr, flags=re.S|re.M)\n",
    "    descr = re.sub(r\"^```if-not:python.*?^```\", \"\", descr, flags=re.S|re.M)\n",
    "\n",
    "    level = re.search(r\"(\\d) kyu\", content).group(1)\n",
    "    \n",
    "    return Challenge(title, int(level), descr)\n"
   ]
  },
  {
   "cell_type": "code",
   "execution_count": 8,
   "metadata": {},
   "outputs": [],
   "source": [
    "# print(get_description(\"https://www.codewars.com/kata/5a2fd38b55519ed98f0000ce/python\"))"
   ]
  },
  {
   "cell_type": "code",
   "execution_count": 11,
   "metadata": {},
   "outputs": [],
   "source": [
    "LEVELS = {\n",
    "    8:\"8️⃣\",\n",
    "    7:\"7️⃣\",\n",
    "    6:\"6️⃣\",\n",
    "    5:\"5️⃣\",\n",
    "    4:\"4️⃣\",\n",
    "    3:\"3️⃣\",\n",
    "    2:\"2️⃣\",\n",
    "    1:\"1️⃣\",\n",
    "}\n",
    "\n",
    "\n",
    "def iter_challenges(week_nb, urls):\n",
    "    header = dedent(f\"\"\"\\\n",
    "        # ⇝ Coding 💻 Challenges Week {week_nb} ⇜\n",
    "\n",
    "        ![unpackAI Logo](../images/unpackAI_logo_whiteBG.svg)\n",
    "            \n",
    "            \n",
    "        **NOTE**: in the solution, the code assert function(...) == value is used to test the solution.\n",
    "        ... so you don't have to care about it\n",
    "    \"\"\")\n",
    "    yield nbf.v4.new_markdown_cell(header)\n",
    "\n",
    "    for url in urls:\n",
    "        challenge = get_challenge(url)\n",
    "        print(f\"* {challenge.title} ({challenge.level})\")\n",
    "        train_url = re.sub(f\"(/train)?/python$\", \"\", url) + \"/train/python\"\n",
    "\n",
    "        title = dedent(f\"\"\"\\\n",
    "        # {challenge.title} {LEVELS[challenge.level]}\n",
    "        🔗{train_url}\n",
    "        \"\"\")\n",
    "        yield nbf.v4.new_markdown_cell(f\"{title}\\n{challenge.descr}\")\n",
    "\n",
    "        yield nbf.v4.new_code_cell(\"# TODO: add solution\")\n"
   ]
  },
  {
   "cell_type": "code",
   "execution_count": 12,
   "metadata": {},
   "outputs": [
    {
     "output_type": "stream",
     "name": "stdout",
     "text": [
      "Starting creation of Notebook challenges_W03_TMP.ipynb:\n",
      "* Roman Numerals Decoder (6)\n",
      "* Best travel (5)\n",
      "* Array.diff (6)\n",
      "* Directions Reduction (5)\n",
      "* Make the Deadfish swim (6)\n",
      "* Coding Meetup #9 - Higher-Order Functions Series - Is the meetup age-diverse? (6)\n",
      "=> SUCCESSFUL!\n"
     ]
    }
   ],
   "source": [
    "fname = f'challenges_W{WEEK_NB:02d}_TMP.ipynb'\n",
    "print(f\"Starting creation of Notebook {fname}:\")\n",
    "\n",
    "notebook = nbf.v4.new_notebook()\n",
    "notebook['cells'] = list(iter_challenges(WEEK_NB, URLS.values()))\n",
    "\n",
    "with open(fname, 'w', encoding=\"utf-8\") as f:\n",
    "    nbf.write(notebook, f)\n",
    "print(\"=> SUCCESSFUL!\")"
   ]
  },
  {
   "cell_type": "code",
   "execution_count": null,
   "metadata": {},
   "outputs": [],
   "source": []
  }
 ]
}