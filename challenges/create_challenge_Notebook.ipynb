{
 "metadata": {
  "language_info": {
   "codemirror_mode": {
    "name": "ipython",
    "version": 3
   },
   "file_extension": ".py",
   "mimetype": "text/x-python",
   "name": "python",
   "nbconvert_exporter": "python",
   "pygments_lexer": "ipython3",
   "version": "3.7.1"
  },
  "orig_nbformat": 2,
  "kernelspec": {
   "name": "python371jvsc74a57bd08a428f088ac08f7fdf89fb2f4bb23c2bc8a83acc5d068a78d54410b8e3eeec73",
   "display_name": "Python 3.7.1 32-bit"
  }
 },
 "nbformat": 4,
 "nbformat_minor": 2,
 "cells": [
  {
   "cell_type": "code",
   "execution_count": 4,
   "metadata": {},
   "outputs": [],
   "source": [
    "import re\n",
    "import requests\n",
    "from dataclasses import dataclass\n",
    "from textwrap import dedent\n",
    "\n",
    "import nbformat as nbf\n",
    "from bs4 import BeautifulSoup\n"
   ]
  },
  {
   "cell_type": "code",
   "execution_count": 5,
   "metadata": {},
   "outputs": [],
   "source": [
    "WEEK_NB = 2\n",
    "\n",
    "URLS = {\n",
    "    \"Sum Mixed Array\": \"https://www.codewars.com/kata/57eaeb9578748ff92a000009/python\",\n",
    "    \"Multiplication Table\": \"https://www.codewars.com/kata/5a2fd38b55519ed98f0000ce/python\",\n",
    "    \"Numbers to Letters\": \"https://www.codewars.com/kata/57ebaa8f7b45ef590c00000c/python\",\n",
    "    \"English Beggars\": \"https://www.codewars.com/kata/59590976838112bfea0000fa/python\",\n",
    "    \"Find the first non-consecutive number\": \"https://www.codewars.com/kata/58f8a3a27a5c28d92e000144/python\",\n",
    "    \"Enough is enough\": \"https://www.codewars.com/kata/554ca54ffa7d91b236000023/python\",\n",
    "    \"I love you, a little , a lot, passionately ... not at all\": \"https://www.codewars.com/kata/57f24e6a18e9fad8eb000296/python\",\n",
    "    \"Filter Long Words\": \"https://www.codewars.com/kata/5697fb83f41965761f000052/python\",\n",
    "    \"Populate hash with array keys and default value\": \"https://www.codewars.com/kata/51c38e14ea1c97ffaf000003/python\",\n",
    "}"
   ]
  },
  {
   "cell_type": "code",
   "execution_count": 6,
   "metadata": {},
   "outputs": [],
   "source": [
    "# for title, url in URLS.items():\n",
    "#     response = requests.get(url)\n",
    "#     print(f\"---{title}---\")\n",
    "#     ranks = list(re.findall(r'(rank=\"-\\d+\"|\\d+ kyu)', response.content.decode()))\n",
    "#     print(ranks)"
   ]
  },
  {
   "cell_type": "code",
   "execution_count": 7,
   "metadata": {},
   "outputs": [],
   "source": [
    "@dataclass\n",
    "class Challenge:\n",
    "    title: str\n",
    "    level: int\n",
    "    descr: str\n",
    "\n",
    "def get_challenge(url):\n",
    "    response = requests.get(url)\n",
    "    if response.status_code != 200:\n",
    "        raise Exception(f\"Error fetching page: {response}\")\n",
    "\n",
    "    soup = BeautifulSoup(response.content, 'html.parser')\n",
    "    title = soup.title.text.replace(\" | Codewars\", \"\")\n",
    "\n",
    "    content = response.content.decode()\n",
    "    m = re.search(r'\\\\\"description\\\\\":\\\\\"(.*?)\\\\\"', content, flags=re.S)\n",
    "    descr = m.group(1).replace(\"\\\\\\\\n\", \"\\n\")\n",
    "\n",
    "    # there might be some content specific to code: ```if:<language> or ```if-not:<language>\n",
    "    descr = re.sub(r\"^```if:(?!python)\\w+.*?^```\", \"\", descr, flags=re.S|re.M)\n",
    "    descr = re.sub(r\"^```if-not:python.*?^```\", \"\", descr, flags=re.S|re.M)\n",
    "\n",
    "    level = re.search(r\"(\\d) kyu\", content).group(1)\n",
    "    \n",
    "    return Challenge(title, int(level), descr)\n"
   ]
  },
  {
   "cell_type": "code",
   "execution_count": 8,
   "metadata": {},
   "outputs": [],
   "source": [
    "# print(get_description(\"https://www.codewars.com/kata/5a2fd38b55519ed98f0000ce/python\"))"
   ]
  },
  {
   "cell_type": "code",
   "execution_count": 9,
   "metadata": {},
   "outputs": [],
   "source": [
    "LEVELS = {\n",
    "    8:\"❽\",\n",
    "    7:\"❼\",\n",
    "    6:\"❻\"\n",
    "}\n",
    "\n",
    "\n",
    "def iter_challenges(week_nb, urls):\n",
    "    header = dedent(f\"\"\"\\\n",
    "        # ⇝ Coding 💻 Challenges Week {week_nb} ⇜\n",
    "\n",
    "        ![unpackAI Logo](../images/unpackAI_logo_whiteBG.svg)\n",
    "            \n",
    "            \n",
    "        **NOTE**: in the solution, the code assert function(...) == value is used to test the solution.\n",
    "        ... so you don't have to care about it\n",
    "    \"\"\")\n",
    "    yield nbf.v4.new_markdown_cell(header)\n",
    "\n",
    "    for url in urls:\n",
    "        challenge = get_challenge(url)\n",
    "        print(f\"* {challenge.title} ({challenge.level})\")\n",
    "        train_url = re.sub(f\"(/train)?/python$\", \"\", url) + \"/train/python\"\n",
    "\n",
    "        title = dedent(f\"\"\"\\\n",
    "        # {challenge.title} {LEVELS[challenge.level]}\n",
    "        🔗{train_url}\n",
    "        \"\"\")\n",
    "        yield nbf.v4.new_markdown_cell(f\"{title}\\n{challenge.descr}\")\n",
    "\n",
    "        yield nbf.v4.new_code_cell(\"# TODO: add solution\")\n"
   ]
  },
  {
   "cell_type": "code",
   "execution_count": 10,
   "metadata": {},
   "outputs": [
    {
     "output_type": "stream",
     "name": "stdout",
     "text": [
      "Starting creation of Notebook challenges_W02.ipynb:\n",
      "* Sum Mixed Array (8)\n",
      "* Multiplication table for number (8)\n",
      "* Numbers to Letters (7)\n",
      "* English beggars (6)\n",
      "* Find the first non-consecutive number (8)\n",
      "* Delete occurrences of an element if it occurs more than n times (6)\n",
      "* I love you,  a little ,  a lot,  passionately ... not at all (8)\n",
      "* Filter Long Words (7)\n",
      "* Populate hash with array keys and default value (7)\n",
      "=> SUCCESSFUL!\n"
     ]
    }
   ],
   "source": [
    "fname = f'challenges_W{WEEK_NB:02d}_TMP.ipynb'\n",
    "print(f\"Starting creation of Notebook {fname}:\")\n",
    "\n",
    "notebook = nbf.v4.new_notebook()\n",
    "notebook['cells'] = list(iter_challenges(WEEK_NB, URLS.values()))\n",
    "\n",
    "with open(fname, 'w', encoding=\"utf-8\") as f:\n",
    "    nbf.write(notebook, f)\n",
    "print(\"=> SUCCESSFUL!\")"
   ]
  },
  {
   "cell_type": "code",
   "execution_count": null,
   "metadata": {},
   "outputs": [],
   "source": []
  }
 ]
}