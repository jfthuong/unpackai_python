{
 "metadata": {
  "language_info": {
   "codemirror_mode": {
    "name": "ipython",
    "version": 3
   },
   "file_extension": ".py",
   "mimetype": "text/x-python",
   "name": "python",
   "nbconvert_exporter": "python",
   "pygments_lexer": "ipython3",
   "version": "3.7.1"
  },
  "orig_nbformat": 4,
  "kernelspec": {
   "name": "python3",
   "display_name": "Python 3.7.1 32-bit"
  },
  "interpreter": {
   "hash": "8a428f088ac08f7fdf89fb2f4bb23c2bc8a83acc5d068a78d54410b8e3eeec73"
  }
 },
 "nbformat": 4,
 "nbformat_minor": 2,
 "cells": [
  {
   "cell_type": "code",
   "execution_count": 53,
   "metadata": {},
   "outputs": [],
   "source": [
    "import os\n",
    "from datetime import datetime\n",
    "from pathlib import Path\n",
    "from typing import List\n",
    "\n",
    "from dateutil.relativedelta import relativedelta\n",
    "from openpyxl import Workbook\n",
    "from openpyxl.utils import get_column_letter\n",
    "from openpyxl.utils.dataframe import dataframe_to_rows\n",
    "from openpyxl.worksheet.table import Table, TableStyleInfo\n",
    "from openpyxl.worksheet.worksheet import Worksheet  # for type hints\n",
    "import pandas as pd"
   ]
  },
  {
   "cell_type": "code",
   "execution_count": 46,
   "metadata": {},
   "outputs": [],
   "source": [
    "    def friendly_size(size:int) -> str:\n",
    "        \"\"\"Convert a size in bytes (as float) to a size with unit (as a string)\"\"\"\n",
    "        size = float(size)\n",
    "        unit = \"B\"\n",
    "        # Reminder: 1 KB = 1024 B, and 1 MB = 1024 KB, ...\n",
    "        for letter in \"KMG\":\n",
    "            if size > 1024:\n",
    "                size /= 1024\n",
    "                unit = f\"{letter}B\"\n",
    "\n",
    "        # We want to keep 2 digits after floating point\n",
    "        # because it is a good balance and precision and concision\n",
    "        return f\"{size:0.2f} {unit}\""
   ]
  },
  {
   "cell_type": "code",
   "execution_count": 80,
   "metadata": {},
   "outputs": [],
   "source": [
    "def get_file_type(path:Path):\n",
    "    \"\"\"Get the type of file\"\"\"\n",
    "    # We might not have a suffix for files like \".gitignore\"\n",
    "    if path.name.startswith(\".\"):\n",
    "        return path.name.lstrip(\".\")\n",
    "\n",
    "    types = {\n",
    "        \".html\": \"HTML\",\n",
    "        \".htm\": \"HTML\",\n",
    "        \".ipynb\": \"Jupyter\",\n",
    "        \".xlsx\": \"Excel\",\n",
    "        \".xls\": \"Excel\",\n",
    "        \".docx\": \"MS Word\",\n",
    "        \".doc\": \"MS Word\",\n",
    "        \".txt\": \"Text\",\n",
    "        \".py\": \"Python\",\n",
    "        \".csv\": \"Data\",\n",
    "        \".json\": \"Data\",\n",
    "        \".yaml\": \"Data\",\n",
    "        \".bat\": \"Batch\",\n",
    "        \".cmd\": \"Batch\",\n",
    "        \".sh\": \"Batch\",\n",
    "    }\n",
    "    return types.get(path.suffix, path.suffix.lstrip(\".\"))"
   ]
  },
  {
   "cell_type": "code",
   "execution_count": 81,
   "metadata": {},
   "outputs": [
    {
     "output_type": "execute_result",
     "data": {
      "text/plain": [
       "                    Name                                               Path  \\\n",
       "0             .gitignore   e:/AnsysDev/_unpackAI/unpackai_python/.gitignore   \n",
       "1  Assignments_W02.ipynb  e:/AnsysDev/_unpackAI/unpackai_python/Assignme...   \n",
       "2  Assignments_W03.ipynb  e:/AnsysDev/_unpackAI/unpackai_python/Assignme...   \n",
       "3  Assignments_W04.ipynb  e:/AnsysDev/_unpackAI/unpackai_python/Assignme...   \n",
       "4         empty_file.txt  e:/AnsysDev/_unpackAI/unpackai_python/empty_fi...   \n",
       "\n",
       "    Extension       Type      Size  Size (b)            Last Modif Time  \n",
       "0  .gitignore  gitignore   12.00 B        12 2021-05-31 14:37:06.392407  \n",
       "1      .ipynb    Jupyter  11.73 KB     12014 2021-06-07 20:22:06.025410  \n",
       "2      .ipynb    Jupyter  12.08 KB     12368 2021-06-15 13:21:21.969640  \n",
       "3      .ipynb    Jupyter  14.24 KB     14578 2021-06-18 20:58:42.399699  \n",
       "4        .txt       Text    0.00 B         0 2021-06-11 20:33:30.442362  "
      ],
      "text/html": "<div>\n<style scoped>\n    .dataframe tbody tr th:only-of-type {\n        vertical-align: middle;\n    }\n\n    .dataframe tbody tr th {\n        vertical-align: top;\n    }\n\n    .dataframe thead th {\n        text-align: right;\n    }\n</style>\n<table border=\"1\" class=\"dataframe\">\n  <thead>\n    <tr style=\"text-align: right;\">\n      <th></th>\n      <th>Name</th>\n      <th>Path</th>\n      <th>Extension</th>\n      <th>Type</th>\n      <th>Size</th>\n      <th>Size (b)</th>\n      <th>Last Modif Time</th>\n    </tr>\n  </thead>\n  <tbody>\n    <tr>\n      <th>0</th>\n      <td>.gitignore</td>\n      <td>e:/AnsysDev/_unpackAI/unpackai_python/.gitignore</td>\n      <td>.gitignore</td>\n      <td>gitignore</td>\n      <td>12.00 B</td>\n      <td>12</td>\n      <td>2021-05-31 14:37:06.392407</td>\n    </tr>\n    <tr>\n      <th>1</th>\n      <td>Assignments_W02.ipynb</td>\n      <td>e:/AnsysDev/_unpackAI/unpackai_python/Assignme...</td>\n      <td>.ipynb</td>\n      <td>Jupyter</td>\n      <td>11.73 KB</td>\n      <td>12014</td>\n      <td>2021-06-07 20:22:06.025410</td>\n    </tr>\n    <tr>\n      <th>2</th>\n      <td>Assignments_W03.ipynb</td>\n      <td>e:/AnsysDev/_unpackAI/unpackai_python/Assignme...</td>\n      <td>.ipynb</td>\n      <td>Jupyter</td>\n      <td>12.08 KB</td>\n      <td>12368</td>\n      <td>2021-06-15 13:21:21.969640</td>\n    </tr>\n    <tr>\n      <th>3</th>\n      <td>Assignments_W04.ipynb</td>\n      <td>e:/AnsysDev/_unpackAI/unpackai_python/Assignme...</td>\n      <td>.ipynb</td>\n      <td>Jupyter</td>\n      <td>14.24 KB</td>\n      <td>14578</td>\n      <td>2021-06-18 20:58:42.399699</td>\n    </tr>\n    <tr>\n      <th>4</th>\n      <td>empty_file.txt</td>\n      <td>e:/AnsysDev/_unpackAI/unpackai_python/empty_fi...</td>\n      <td>.txt</td>\n      <td>Text</td>\n      <td>0.00 B</td>\n      <td>0</td>\n      <td>2021-06-11 20:33:30.442362</td>\n    </tr>\n  </tbody>\n</table>\n</div>"
     },
     "metadata": {},
     "execution_count": 81
    }
   ],
   "source": [
    "root = Path(\"e:/AnsysDev/_unpackAI/unpackai_python\")\n",
    "\n",
    "KEY_LAST_MODIF = \"Last Modif Time\"\n",
    "KEY_SIZE_B = \"Size (b)\"\n",
    "\n",
    "def iter_files(root:Path, exclude_dir:List[str]):\n",
    "    \"\"\"Return all info of files found in a root directory\"\"\"\n",
    "    for f in root.rglob(\"*.*\"):\n",
    "        if f.is_file() and not any(d in f.parts for d in exclude_dir):\n",
    "            size = f.stat().st_size\n",
    "            yield {\n",
    "                \"Name\": f.name,\n",
    "                \"Path\": f.as_posix(),\n",
    "                \"Extension\": f.suffix or f.name,\n",
    "                \"Type\": get_file_type(f),\n",
    "                \"Size\": friendly_size(size),\n",
    "                KEY_SIZE_B: size,\n",
    "                KEY_LAST_MODIF: datetime.fromtimestamp(f.stat().st_mtime)\n",
    "            }\n",
    "        \n",
    "df = pd.DataFrame(iter_files(root, [\".svn\", \".git\", \".mypy_cache\"]))\n",
    "\n",
    "\n",
    "df.head()"
   ]
  },
  {
   "cell_type": "code",
   "execution_count": 129,
   "metadata": {},
   "outputs": [],
   "source": [
    "TABLE_LIST_FILES = \"ListFiles\"\n",
    "\n",
    "def _write_list_files(ws: Worksheet, df: pd.DataFrame):\n",
    "    \"\"\"Write the list of files in the given worksheet\"\"\"\n",
    "    ws.title = \"List of Files\"\n",
    "\n",
    "    n_row = 0\n",
    "    for r in dataframe_to_rows(df, index=False, header=True):\n",
    "        n_row += 1\n",
    "        ws.append(r)\n",
    "\n",
    "    # We need to adjust the column width and styles\n",
    "    ws.delete_rows(2)\n",
    "    width_format = {\n",
    "        \"Name\": (30, None),\n",
    "        \"Path\": (100, None),\n",
    "        \"Extension\": (10, None),\n",
    "        \"Type\": (10, None),\n",
    "        \"Size\": (10, None),\n",
    "        KEY_SIZE_B: (10, \"#,##0_);(#,##0)\"),\n",
    "        KEY_LAST_MODIF: (20, \"[$-en-US]m/d/yy h:mm AM/PM;@\"),\n",
    "    }\n",
    "    for j in range(1, len(df.columns) + 1):\n",
    "        header = ws.cell(row=1, column=j).value\n",
    "        width, nb_format = width_format.get(header, (None, None))\n",
    "        col = get_column_letter(j)\n",
    "        if width:\n",
    "            ws.column_dimensions[col].width = width\n",
    "        if nb_format:\n",
    "            for cell in ws[col]:\n",
    "                cell.number_format = nb_format\n",
    "\n",
    "    # Add a Table with style with striped rows and banded columns\n",
    "    last_col = get_column_letter(len(df.columns))\n",
    "    table = Table(displayName=TABLE_LIST_FILES, ref=f\"A1:{last_col}{n_row}\")\n",
    "    style = TableStyleInfo(name=\"TableStyleMedium9\", showRowStripes=True)\n",
    "    table.tableStyleInfo = style\n",
    "    ws.add_table(table)\n"
   ]
  },
  {
   "cell_type": "code",
   "execution_count": 146,
   "metadata": {},
   "outputs": [],
   "source": [
    "def _write_summary(ws: Worksheet, df:pd.DataFrame):\n",
    "    \"\"\"Create a summary of data in a given Worksheet\"\"\"\n",
    "    \n",
    "    df_ext = df.groupby(\"Type\")[KEY_SIZE_B].agg([min, max, len, sum])\n",
    "    def write_top_ten(by:str, init_row:int):\n",
    "        \"\"\"Write top 10 File Types with min / max / nb / sum and return last row\"\"\"\n",
    "        df_top = df_ext.sort_values(by=by, ascending=False).reset_index()[:10]\n",
    "        ws.append([f\"Top 10 Types by {by}\"])\n",
    "        ws.cell(row=init_row, column=1).style = \"Headline 1\"\n",
    "\n",
    "        n_row = init_row\n",
    "        for r in dataframe_to_rows(df_top, index=False, header=True):\n",
    "            n_row += 1\n",
    "            ws.append(r)\n",
    "        table = Table(displayName=f\"TopType{by.capitalize()}\", ref=f\"A{init_row + 1}:E{n_row}\")\n",
    "        style = TableStyleInfo(name=\"TableStyleMedium9\", showRowStripes=True)\n",
    "        table.tableStyleInfo = style\n",
    "        ws.add_table(table)\n",
    "        \n",
    "    n_row = 1\n",
    "    write_top_ten(\"sum\", n_row)\n",
    "\n",
    "    ws.append([\"\"])\n",
    "    n_row+= 13\n",
    "    write_top_ten(\"len\", n_row)\n",
    "\n"
   ]
  },
  {
   "cell_type": "code",
   "execution_count": 147,
   "metadata": {},
   "outputs": [],
   "source": [
    "xlsx = \"from_pandas.xlsx\"\n",
    "wb = Workbook()\n",
    "ws = wb.active\n",
    "_write_list_files(ws, df)\n",
    "\n",
    "ws = wb.create_sheet(\"Summary\", 0)\n",
    "_write_summary(ws, df)\n",
    "\n",
    "wb.save(xlsx)\n",
    "os.startfile(xlsx)\n"
   ]
  },
  {
   "cell_type": "code",
   "execution_count": 135,
   "metadata": {},
   "outputs": [
    {
     "output_type": "execute_result",
     "data": {
      "text/plain": [
       "               min      max  len      sum\n",
       "Type                                     \n",
       "Data             9    20592    4    20709\n",
       "Excel         4864     9094    4    29406\n",
       "HTML           442     1003    2     1445\n",
       "Jupyter       6034   150678   19   592640\n",
       "Python         252     3471    6     6566\n",
       "Text             0    39212    8    39596\n",
       "css            405      405    1      405\n",
       "gitignore       12       12    1       12\n",
       "lock          8470     8470    1     8470\n",
       "md             160      358    2      518\n",
       "png           7422   218580    2   226002\n",
       "svg           5333     5643    2    10976\n",
       "toml           185      185    1      185\n",
       "wav        1292288  1292288    1  1292288\n",
       "zip           4783     4783    1     4783"
      ],
      "text/html": "<div>\n<style scoped>\n    .dataframe tbody tr th:only-of-type {\n        vertical-align: middle;\n    }\n\n    .dataframe tbody tr th {\n        vertical-align: top;\n    }\n\n    .dataframe thead th {\n        text-align: right;\n    }\n</style>\n<table border=\"1\" class=\"dataframe\">\n  <thead>\n    <tr style=\"text-align: right;\">\n      <th></th>\n      <th>min</th>\n      <th>max</th>\n      <th>len</th>\n      <th>sum</th>\n    </tr>\n    <tr>\n      <th>Type</th>\n      <th></th>\n      <th></th>\n      <th></th>\n      <th></th>\n    </tr>\n  </thead>\n  <tbody>\n    <tr>\n      <th>Data</th>\n      <td>9</td>\n      <td>20592</td>\n      <td>4</td>\n      <td>20709</td>\n    </tr>\n    <tr>\n      <th>Excel</th>\n      <td>4864</td>\n      <td>9094</td>\n      <td>4</td>\n      <td>29406</td>\n    </tr>\n    <tr>\n      <th>HTML</th>\n      <td>442</td>\n      <td>1003</td>\n      <td>2</td>\n      <td>1445</td>\n    </tr>\n    <tr>\n      <th>Jupyter</th>\n      <td>6034</td>\n      <td>150678</td>\n      <td>19</td>\n      <td>592640</td>\n    </tr>\n    <tr>\n      <th>Python</th>\n      <td>252</td>\n      <td>3471</td>\n      <td>6</td>\n      <td>6566</td>\n    </tr>\n    <tr>\n      <th>Text</th>\n      <td>0</td>\n      <td>39212</td>\n      <td>8</td>\n      <td>39596</td>\n    </tr>\n    <tr>\n      <th>css</th>\n      <td>405</td>\n      <td>405</td>\n      <td>1</td>\n      <td>405</td>\n    </tr>\n    <tr>\n      <th>gitignore</th>\n      <td>12</td>\n      <td>12</td>\n      <td>1</td>\n      <td>12</td>\n    </tr>\n    <tr>\n      <th>lock</th>\n      <td>8470</td>\n      <td>8470</td>\n      <td>1</td>\n      <td>8470</td>\n    </tr>\n    <tr>\n      <th>md</th>\n      <td>160</td>\n      <td>358</td>\n      <td>2</td>\n      <td>518</td>\n    </tr>\n    <tr>\n      <th>png</th>\n      <td>7422</td>\n      <td>218580</td>\n      <td>2</td>\n      <td>226002</td>\n    </tr>\n    <tr>\n      <th>svg</th>\n      <td>5333</td>\n      <td>5643</td>\n      <td>2</td>\n      <td>10976</td>\n    </tr>\n    <tr>\n      <th>toml</th>\n      <td>185</td>\n      <td>185</td>\n      <td>1</td>\n      <td>185</td>\n    </tr>\n    <tr>\n      <th>wav</th>\n      <td>1292288</td>\n      <td>1292288</td>\n      <td>1</td>\n      <td>1292288</td>\n    </tr>\n    <tr>\n      <th>zip</th>\n      <td>4783</td>\n      <td>4783</td>\n      <td>1</td>\n      <td>4783</td>\n    </tr>\n  </tbody>\n</table>\n</div>"
     },
     "metadata": {},
     "execution_count": 135
    }
   ],
   "source": [
    "    df_ext = df.groupby(\"Type\")[KEY_SIZE_B].agg([min, max, len, sum])\n",
    "    df_ext_by_size = df_ext.sort_values(by=\"sum\", ascending=False)[:10]\n",
    "    df_ext_by_nb = df_ext.sort_values(by=\"len\", ascending=False)[:10]\n",
    "    list(df_ext_by_nb.reset_index().Type)\n",
    "    df_ext"
   ]
  },
  {
   "cell_type": "code",
   "execution_count": null,
   "metadata": {},
   "outputs": [],
   "source": []
  },
  {
   "cell_type": "code",
   "execution_count": null,
   "metadata": {},
   "outputs": [],
   "source": []
  }
 ]
}