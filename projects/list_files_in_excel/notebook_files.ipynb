{
 "metadata": {
  "language_info": {
   "codemirror_mode": {
    "name": "ipython",
    "version": 3
   },
   "file_extension": ".py",
   "mimetype": "text/x-python",
   "name": "python",
   "nbconvert_exporter": "python",
   "pygments_lexer": "ipython3",
   "version": "3.7.1"
  },
  "orig_nbformat": 4,
  "kernelspec": {
   "name": "python3",
   "display_name": "Python 3.7.1 32-bit"
  },
  "interpreter": {
   "hash": "8a428f088ac08f7fdf89fb2f4bb23c2bc8a83acc5d068a78d54410b8e3eeec73"
  }
 },
 "nbformat": 4,
 "nbformat_minor": 2,
 "cells": [
  {
   "cell_type": "code",
   "execution_count": 1,
   "metadata": {},
   "outputs": [],
   "source": [
    "from pathlib import Path\n",
    "\n",
    "from dateutil.relativedelta import relativedelta\n",
    "import pandas as pd\n",
    "\n",
    "from files_2_excel import files_2_df, df_files_2_excel, KEY_SIZE_B"
   ]
  },
  {
   "cell_type": "code",
   "execution_count": 2,
   "metadata": {},
   "outputs": [
    {
     "output_type": "execute_result",
     "data": {
      "text/plain": [
       "                    Name                                               Path  \\\n",
       "0             .gitignore   e:/AnsysDev/_unpackAI/unpackai_python/.gitignore   \n",
       "1  Assignments_W02.ipynb  e:/AnsysDev/_unpackAI/unpackai_python/Assignme...   \n",
       "2  Assignments_W03.ipynb  e:/AnsysDev/_unpackAI/unpackai_python/Assignme...   \n",
       "3  Assignments_W04.ipynb  e:/AnsysDev/_unpackAI/unpackai_python/Assignme...   \n",
       "4         empty_file.txt  e:/AnsysDev/_unpackAI/unpackai_python/empty_fi...   \n",
       "\n",
       "    Extension       Type      Size  Size (b)            Last Modif Time  \n",
       "0  .gitignore  gitignore   12.00 B        12 2021-05-31 14:37:06.392407  \n",
       "1      .ipynb    Jupyter  11.73 KB     12014 2021-06-07 20:22:06.025410  \n",
       "2      .ipynb    Jupyter  12.08 KB     12368 2021-06-15 13:21:21.969640  \n",
       "3      .ipynb    Jupyter  14.24 KB     14578 2021-06-18 20:58:42.399699  \n",
       "4        .txt       Text    0.00 B         0 2021-06-11 20:33:30.442362  "
      ],
      "text/html": "<div>\n<style scoped>\n    .dataframe tbody tr th:only-of-type {\n        vertical-align: middle;\n    }\n\n    .dataframe tbody tr th {\n        vertical-align: top;\n    }\n\n    .dataframe thead th {\n        text-align: right;\n    }\n</style>\n<table border=\"1\" class=\"dataframe\">\n  <thead>\n    <tr style=\"text-align: right;\">\n      <th></th>\n      <th>Name</th>\n      <th>Path</th>\n      <th>Extension</th>\n      <th>Type</th>\n      <th>Size</th>\n      <th>Size (b)</th>\n      <th>Last Modif Time</th>\n    </tr>\n  </thead>\n  <tbody>\n    <tr>\n      <th>0</th>\n      <td>.gitignore</td>\n      <td>e:/AnsysDev/_unpackAI/unpackai_python/.gitignore</td>\n      <td>.gitignore</td>\n      <td>gitignore</td>\n      <td>12.00 B</td>\n      <td>12</td>\n      <td>2021-05-31 14:37:06.392407</td>\n    </tr>\n    <tr>\n      <th>1</th>\n      <td>Assignments_W02.ipynb</td>\n      <td>e:/AnsysDev/_unpackAI/unpackai_python/Assignme...</td>\n      <td>.ipynb</td>\n      <td>Jupyter</td>\n      <td>11.73 KB</td>\n      <td>12014</td>\n      <td>2021-06-07 20:22:06.025410</td>\n    </tr>\n    <tr>\n      <th>2</th>\n      <td>Assignments_W03.ipynb</td>\n      <td>e:/AnsysDev/_unpackAI/unpackai_python/Assignme...</td>\n      <td>.ipynb</td>\n      <td>Jupyter</td>\n      <td>12.08 KB</td>\n      <td>12368</td>\n      <td>2021-06-15 13:21:21.969640</td>\n    </tr>\n    <tr>\n      <th>3</th>\n      <td>Assignments_W04.ipynb</td>\n      <td>e:/AnsysDev/_unpackAI/unpackai_python/Assignme...</td>\n      <td>.ipynb</td>\n      <td>Jupyter</td>\n      <td>14.24 KB</td>\n      <td>14578</td>\n      <td>2021-06-18 20:58:42.399699</td>\n    </tr>\n    <tr>\n      <th>4</th>\n      <td>empty_file.txt</td>\n      <td>e:/AnsysDev/_unpackAI/unpackai_python/empty_fi...</td>\n      <td>.txt</td>\n      <td>Text</td>\n      <td>0.00 B</td>\n      <td>0</td>\n      <td>2021-06-11 20:33:30.442362</td>\n    </tr>\n  </tbody>\n</table>\n</div>"
     },
     "metadata": {},
     "execution_count": 2
    }
   ],
   "source": [
    "root = Path(\"e:/AnsysDev/_unpackAI/unpackai_python\")\n",
    "df = files_2_df(root, exclude_folders=[\".svn\", \".git\", \".mypy_cache\"])\n",
    "df.head()"
   ]
  },
  {
   "cell_type": "code",
   "execution_count": 3,
   "metadata": {},
   "outputs": [],
   "source": [
    "xlsx = Path(\"list_files.xlsx\")\n",
    "df_files_2_excel(xlsx, df, root, do_open=True)"
   ]
  },
  {
   "source": [
    "----"
   ],
   "cell_type": "markdown",
   "metadata": {}
  },
  {
   "cell_type": "code",
   "execution_count": 4,
   "metadata": {},
   "outputs": [
    {
     "output_type": "execute_result",
     "data": {
      "text/plain": [
       "             min     max  len     sum\n",
       "Type                                 \n",
       "Data           9   20592    4   20709\n",
       "Excel      14392   14392    1   14392\n",
       "HTML         442    1003    2    1445\n",
       "Jupyter     6034  150678   19  590931\n",
       "Python       252    9486    7   16052\n",
       "Text           0   39212    8   39596\n",
       "css          405     405    1     405\n",
       "gitignore     12      12    1      12\n",
       "lock        8470    8470    1    8470\n",
       "md           160     358    2     518\n",
       "png         7422  218580    2  226002\n",
       "pyc         7509    7509    1    7509\n",
       "svg         5333    5643    2   10976\n",
       "toml         185     185    1     185\n",
       "zip         4783    4783    1    4783"
      ],
      "text/html": "<div>\n<style scoped>\n    .dataframe tbody tr th:only-of-type {\n        vertical-align: middle;\n    }\n\n    .dataframe tbody tr th {\n        vertical-align: top;\n    }\n\n    .dataframe thead th {\n        text-align: right;\n    }\n</style>\n<table border=\"1\" class=\"dataframe\">\n  <thead>\n    <tr style=\"text-align: right;\">\n      <th></th>\n      <th>min</th>\n      <th>max</th>\n      <th>len</th>\n      <th>sum</th>\n    </tr>\n    <tr>\n      <th>Type</th>\n      <th></th>\n      <th></th>\n      <th></th>\n      <th></th>\n    </tr>\n  </thead>\n  <tbody>\n    <tr>\n      <th>Data</th>\n      <td>9</td>\n      <td>20592</td>\n      <td>4</td>\n      <td>20709</td>\n    </tr>\n    <tr>\n      <th>Excel</th>\n      <td>14392</td>\n      <td>14392</td>\n      <td>1</td>\n      <td>14392</td>\n    </tr>\n    <tr>\n      <th>HTML</th>\n      <td>442</td>\n      <td>1003</td>\n      <td>2</td>\n      <td>1445</td>\n    </tr>\n    <tr>\n      <th>Jupyter</th>\n      <td>6034</td>\n      <td>150678</td>\n      <td>19</td>\n      <td>590931</td>\n    </tr>\n    <tr>\n      <th>Python</th>\n      <td>252</td>\n      <td>9486</td>\n      <td>7</td>\n      <td>16052</td>\n    </tr>\n    <tr>\n      <th>Text</th>\n      <td>0</td>\n      <td>39212</td>\n      <td>8</td>\n      <td>39596</td>\n    </tr>\n    <tr>\n      <th>css</th>\n      <td>405</td>\n      <td>405</td>\n      <td>1</td>\n      <td>405</td>\n    </tr>\n    <tr>\n      <th>gitignore</th>\n      <td>12</td>\n      <td>12</td>\n      <td>1</td>\n      <td>12</td>\n    </tr>\n    <tr>\n      <th>lock</th>\n      <td>8470</td>\n      <td>8470</td>\n      <td>1</td>\n      <td>8470</td>\n    </tr>\n    <tr>\n      <th>md</th>\n      <td>160</td>\n      <td>358</td>\n      <td>2</td>\n      <td>518</td>\n    </tr>\n    <tr>\n      <th>png</th>\n      <td>7422</td>\n      <td>218580</td>\n      <td>2</td>\n      <td>226002</td>\n    </tr>\n    <tr>\n      <th>pyc</th>\n      <td>7509</td>\n      <td>7509</td>\n      <td>1</td>\n      <td>7509</td>\n    </tr>\n    <tr>\n      <th>svg</th>\n      <td>5333</td>\n      <td>5643</td>\n      <td>2</td>\n      <td>10976</td>\n    </tr>\n    <tr>\n      <th>toml</th>\n      <td>185</td>\n      <td>185</td>\n      <td>1</td>\n      <td>185</td>\n    </tr>\n    <tr>\n      <th>zip</th>\n      <td>4783</td>\n      <td>4783</td>\n      <td>1</td>\n      <td>4783</td>\n    </tr>\n  </tbody>\n</table>\n</div>"
     },
     "metadata": {},
     "execution_count": 4
    }
   ],
   "source": [
    "df_ext = df.groupby(\"Type\")[KEY_SIZE_B].agg([min, max, len, sum])\n",
    "df_ext_by_size = df_ext.sort_values(by=\"sum\", ascending=False)[:10]\n",
    "df_ext_by_nb = df_ext.sort_values(by=\"len\", ascending=False)[:10]\n",
    "list(df_ext_by_nb.reset_index().Type)\n",
    "df_ext"
   ]
  }
 ]
}