{
 "metadata": {
  "language_info": {
   "codemirror_mode": {
    "name": "ipython",
    "version": 3
   },
   "file_extension": ".py",
   "mimetype": "text/x-python",
   "name": "python",
   "nbconvert_exporter": "python",
   "pygments_lexer": "ipython3",
   "version": "3.7.1"
  },
  "orig_nbformat": 2,
  "kernelspec": {
   "name": "python371jvsc74a57bd08a428f088ac08f7fdf89fb2f4bb23c2bc8a83acc5d068a78d54410b8e3eeec73",
   "display_name": "Python 3.7.1 32-bit"
  }
 },
 "nbformat": 4,
 "nbformat_minor": 2,
 "cells": [
  {
   "source": [
    "# ⇝ Assignments Week 02 ⇜\n",
    "\n",
    "### To be finished before Monday 7th June\n",
    "\n",
    "![unpackAI Logo](images/unpackAI_logo_whiteBG.svg)"
   ],
   "cell_type": "markdown",
   "metadata": {}
  },
  {
   "source": [
    "# **(MUST)** 👀 Watch following lessons\n",
    "\n",
    "* [Lesson #6](https://store.lerner.co.il/courses/python-for-non-programmers-live/267099-lesson-6-loops-april-24-2020/772964-lesson-6-2020-april-24-mp4): **Loops** (start at 4:00)\n",
    "* [Lesson #7](https://store.lerner.co.il/courses/python-for-non-programmers-live/276469-lesson-7-lists-may-1-2020/798836-lesson-7-2020-may-1-mp4): **Lists** (start at 4:35)\n",
    "* [Lesson #8](https://store.lerner.co.il/courses/python-for-non-programmers-live/286213-lesson-8-lists-to-strings-and-back-may-8-2020/824432-lesson-8-2020-may-8-mp4): **Lists <-> Strings** (start at 5:25)\n",
    "* [Lesson #9](https://store.lerner.co.il/courses/python-for-non-programmers-live/296444-lesson-9-dictionaries-may-15-2020/849297-lesson-9-2020-may-15-mp4): **Dictionaries** (start at 3:55)\n",
    "\n",
    "🛎Do the Homework of course between each lesson (see next assignment for details)\n"
   ],
   "cell_type": "markdown",
   "metadata": {}
  },
  {
   "source": [
    "# (MUST) 👣 Perform Homework of each lesson\n",
    "\n",
    "### 🤗For more convenience, we have copied the Homework from the Online Course directly in this Notebook.\n",
    "\n",
    "### 💡You can download this Jupyter Notebook and do it directly! :)\n",
    "\n",
    "If you are seeing this Notebook from Github and want to download to your computer, you can do the following (you can also see the [tutorial](https://ior.ad/7Bvk)):\n",
    "\n",
    "1. Click on **Raw** button (the URL of the page shall now start with _raw.githubusercontent.com_)\n",
    "2. Save the page (**Ctrl** + **S**) and save in your computer with the extension **.ipynb** (e.g. _Assignments_W02.ipynb_)\n",
    "3. Open the downloaded Jupyter Notebook with Visual Studio Code (or Jupyter if you prefer)\n",
    "\n",
    "Alternatively, you could have a look at the amazing project called [Gitpod](https://gitpod.io/) which allows you to code from Github directly or use Notebooks directly from your browser."
   ],
   "cell_type": "markdown",
   "metadata": {}
  },
  {
   "source": [
    "## 👣Homework Lesson #06 \n",
    "(_copied from [this page](https://store.lerner.co.il/courses/python-for-non-programmers-live/267099-lesson-6-loops-april-24-2020/772951-lesson-6-2020-apr-24-ipynb)_)\n",
    "\n",
    "\n",
    "1. Ask the user to enter a sentence. Print the number of vowels, digits, and other characters that were in the user’s sentence\n",
    "\n",
    "2. Ask the user to enter their name. Print a “name triangle,” meaning: \n",
    "  - On the first line, print just the first letter\n",
    "  - On the second line, print the first two letters\n",
    "  - On the third line, print the first three letters\n",
    "  - … \n",
    "  - => If the name is `n` letter long, then there should be `n` lines, with the nth line printing the user’s name (as entered).\n",
    "  \n",
    "3. Ask the user, repeatedly, to enter numbers. If they enter an empty/blank string, then stop asking and print the total. If the user enters a non-number, then scold them and ask again."
   ],
   "cell_type": "markdown",
   "metadata": {}
  },
  {
   "cell_type": "code",
   "execution_count": null,
   "metadata": {},
   "outputs": [],
   "source": []
  },
  {
   "source": [
    "## 👣Homework Lesson #07\n",
    "(_copied from [this page](https://store.lerner.co.il/courses/python-for-non-programmers-live/276469-lesson-7-lists-may-1-2020/798808-lesson-7-2020-may-1-ipynb)_)\n",
    "\n",
    "\n",
    "1. Create a list containing words (i.e., strings). Ask the user to enter a search string. Print all of the words in that list containing the user’s input.\n",
    "2. Create an empty list. Ask the user to enter inputs, one at a time. If the user enters an empty string, stop asking. If the user enters something that can be turned into an integer, then store it in the list. After exiting from the loop (i.e. stop asking), print:\n",
    "  - (1) the average value in the list, \n",
    "  - (2) the values that are below the average, \n",
    "  - (3) the values that are above the average. \n",
    "  -  Note: Don’t use the `sum` function here; I want you to get even more practice with loops!\n",
    "3. Ask the user to enter a string. Then ask the user to enter two search strings. Print how many times each of the search strings appears in the user’s input string. So if the string is `this is a test` and the search strings are `i` and `s`, then the program should say that `i` was found 2 times and `s` was found 3 times."
   ],
   "cell_type": "markdown",
   "metadata": {}
  },
  {
   "cell_type": "code",
   "execution_count": null,
   "metadata": {},
   "outputs": [],
   "source": [
    "# TODO: Write here the solution for Homework #07"
   ]
  },
  {
   "source": [
    "## 👣Homework Lesson #08\n",
    "(_copied from [this page](https://store.lerner.co.il/courses/python-for-non-programmers-live/286213-lesson-8-lists-to-strings-and-back-may-8-2020/824424-non-programmers-2020-may-8-ipynb)_)\n",
    "\n",
    "1. We have previously written a program that takes a single word from the user and translates it into _Pig Latin_ (see [rules](https://store.lerner.co.il/courses/python-for-non-programmers-live/247514-lesson-4-strings-april-10-2020/712622-non-programmers-2020-april-10-ipynb)). I now want you to take an entire sentence from the user (all lower-case letters, and without punctuation) and print the translation of each word into Pig Latin. So if the user enters `this is a test`, the output will be `histay isway away esttay`.\n",
    "2. Ask the user to enter several words separated by whitespace. Print those words separated by `*` characters. So if the user enters `this is a test`, the program should print `this*is*a*test`. You should not use `str.replace`, but rather `str.split` and `str.join`.\n",
    "3. Ask the user to enter numbers, separated by spaces, on a single line. Append each number to one of two lists, evens or odds. Then print the even numbers, one per line (i.e., `\\n` characters between each) and then the odd numbers, one per line. This will require not just `str.join` and `str.split`, but also some moving between `int` and `str`, so you have been warned!"
   ],
   "cell_type": "markdown",
   "metadata": {}
  },
  {
   "cell_type": "code",
   "execution_count": null,
   "metadata": {},
   "outputs": [],
   "source": [
    "# TODO: Write here the solution for Homework #08"
   ]
  },
  {
   "source": [
    "## 👣Homework Lesson #09\n",
    "(_copied from [this page](https://store.lerner.co.il/courses/python-for-non-programmers-live/296444-lesson-9-dictionaries-may-15-2020/849283-lesson-9-2020-may-15-ipynb)_)\n",
    "\n",
    "\n",
    "1. Create a dictionary named `menu`, in which the keys are dishes at a restaurant and the values are prices. Ask the user what they want to order, repeatedly, until they give an empty string. If their order is on the menu, then print the price and the total so far. (I know, waiters never do this!) If their order is not on the menu, tell them that it’s not available. When the loop exits (i.e. the order is done), give them the final total.\n",
    "2. Ask the user to enter one word at a time. When the user enters an empty string (i.e. nothing), stop asking. Use a `dict` to count how many times each character (letter, number, space, symbol) appears across all of the user’s inputs. Print the dictionary when you stop asking."
   ],
   "cell_type": "markdown",
   "metadata": {}
  },
  {
   "cell_type": "code",
   "execution_count": null,
   "metadata": {},
   "outputs": [],
   "source": [
    "# TODO: Write here the solution for Homework #09"
   ]
  },
  {
   "source": [
    "# (MUST) 💻 Solve your Coding Challenge\n",
    "\n",
    "* **Alan**: _Sum Mixed Array_ - https://www.codewars.com/kata/57eaeb9578748ff92a000009/python\n",
    "* **Jing**: _Multiplication Table_ - https://www.codewars.com/kata/5a2fd38b55519ed98f0000ce/python\n",
    "* **John**: _Numbers to Letters_ - https://www.codewars.com/kata/57ebaa8f7b45ef590c00000c/python\n",
    "* **Kevin**: _English Beggars_ - https://www.codewars.com/kata/59590976838112bfea0000fa/python\n",
    "* **M Ray**: _Find the first non-consecutive number_ - https://www.codewars.com/kata/58f8a3a27a5c28d92e000144/python\n",
    "* **Oskar**: _Enough is enough_ - https://www.codewars.com/kata/554ca54ffa7d91b236000023/python\n",
    "* **Pierrot**: _I love you, a little , a lot, passionately ... not at all_ - https://www.codewars.com/kata/57f24e6a18e9fad8eb000296/python\n",
    "* **Solomon**: _Filter Long Words_ - https://www.codewars.com/kata/5697fb83f41965761f000052/python\n",
    "* **Vera**: _Populate hash with array keys and default value_ - https://www.codewars.com/kata/51c38e14ea1c97ffaf000003/python\n",
    "\n",
    "\n",
    "🙌**BONUS** (if your challenge is too easy or if you want to do some other ones): you can pick any of the following challenge\n",
    "* Level 8: _Abbreviate a Two Word Name_ - https://www.codewars.com/kata/57eadb7ecd143f4c9c0000a3/python\n",
    "* Level 8: _Find the Capitals_ - https://www.codewars.com/kata/53573877d5493b4d6e00050c/python\n",
    "* Level 8: _Twisted Sum_ - https://www.codewars.com/kata/527e4141bb2ea5ea4f00072f/python\n",
    "* Level 7: _Small enough_ - https://www.codewars.com/kata/57cc981a58da9e302a000214/python\n",
    "* Level 7: _Lorraine Wants to Win the TV Contest_ - https://www.codewars.com/kata/562dbaf65d4ab6685c0000ed/python\n",
    "* Level 6: _Twisted Sum_ - https://www.codewars.com/kata/527e4141bb2ea5ea4f00072f/python\n",
    "\n",
    "💡_Reminder_: Interactive Tutorial to create an account and use CodeWars: https://ior.ad/7B2B\n"
   ],
   "cell_type": "markdown",
   "metadata": {}
  },
  {
   "source": [
    "# (MUST) 🗣 Explain your coding challenge during Mentoring Session\n",
    "\n",
    "In Monday Mentoring Session, explain in 𝟝 minutes to your classmates and mentors:\n",
    "* What is the problem about\n",
    "* How you solved the problem\n",
    "* The steps you took to solve it\n",
    "* The problems you met when trying to solve\n",
    "* The solution you have found\n",
    "* (optional) some other\n",
    "\n",
    "You have 5 minutes to reach the solution. If you are confident enough, you can do some live coding (i.e. typing and solving the problem live).\n",
    "\n",
    "🧘_NOTE_: If you are not able to solve your challenge, no worry: you can just take these 5 minutes to explain how you understood the problem, what you have tried, and why it fails. We learning by making mistakes: failing a great opportunity for improvement.\n"
   ],
   "cell_type": "markdown",
   "metadata": {}
  },
  {
   "source": [
    "-----\n",
    "\n",
    "## 🔔Remember\n",
    "\n",
    "We are learning together as a community 👥 so make sure to voice out your educated questions 💬. \n",
    "\n",
    "While most confusions 🤷 can be solved the quickest by simply Googling or using [StackOverflow](https://stackoverflow.com/questions/ask), do not hold back any questions 🙋 if you have spent a fair amount researching 🔎."
   ],
   "cell_type": "markdown",
   "metadata": {}
  }
 ]
}