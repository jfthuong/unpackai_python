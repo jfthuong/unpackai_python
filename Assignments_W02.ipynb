{
 "metadata": {
  "language_info": {
   "codemirror_mode": {
    "name": "ipython",
    "version": 3
   },
   "file_extension": ".py",
   "mimetype": "text/x-python",
   "name": "python",
   "nbconvert_exporter": "python",
   "pygments_lexer": "ipython3",
   "version": "3.7.1"
  },
  "orig_nbformat": 2,
  "kernelspec": {
   "name": "python371jvsc74a57bd08a428f088ac08f7fdf89fb2f4bb23c2bc8a83acc5d068a78d54410b8e3eeec73",
   "display_name": "Python 3.7.1 32-bit"
  }
 },
 "nbformat": 4,
 "nbformat_minor": 2,
 "cells": [
  {
   "source": [
    "# Assignments Week 02\n",
    "\n",
    "To be finished before Monday 7th June"
   ],
   "cell_type": "markdown",
   "metadata": {}
  },
  {
   "source": [
    "# **(MUST)** Watch following lessons & perform “homework” in Jupyter Notebooks\n",
    "\n",
    "* [Lesson #6](https://store.lerner.co.il/courses/python-for-non-programmers-live/267099-lesson-6-loops-april-24-2020/772964-lesson-6-2020-april-24-mp4): **Loops** (start at 3:00)\n",
    "* [Homework #6](https://store.lerner.co.il/courses/python-for-non-programmers-live/240130-lesson-2-decisions-with-if-march-27-2020/668376-non-programmers-2020-march-27-ipynb)\n",
    "* [Lesson #7](): **Lists** (start at 3:00)\n",
    "* [Homework #7]()\n",
    "* [Lesson #8](): **Lists <-> Strings** (start at 3:00)\n",
    "* [Homework #8]()\n",
    "* [Lesson #9](): **Dictionaries** (start at 3:00)\n",
    "* [Homework #9]()\n"
   ],
   "cell_type": "markdown",
   "metadata": {}
  },
  {
   "cell_type": "code",
   "execution_count": null,
   "metadata": {},
   "outputs": [],
   "source": [
    "toto = \"I am Toto\""
   ]
  }
 ]
}