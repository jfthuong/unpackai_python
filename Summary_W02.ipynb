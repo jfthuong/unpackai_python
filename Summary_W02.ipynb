{
 "metadata": {
  "language_info": {
   "codemirror_mode": {
    "name": "ipython",
    "version": 3
   },
   "file_extension": ".py",
   "mimetype": "text/x-python",
   "name": "python",
   "nbconvert_exporter": "python",
   "pygments_lexer": "ipython3",
   "version": "3.7.1"
  },
  "orig_nbformat": 2,
  "kernelspec": {
   "name": "python371jvsc74a57bd08a428f088ac08f7fdf89fb2f4bb23c2bc8a83acc5d068a78d54410b8e3eeec73",
   "display_name": "Python 3.7.1 32-bit"
  }
 },
 "nbformat": 4,
 "nbformat_minor": 2,
 "cells": [
  {
   "source": [
    "# ⇝🥗 Summary Week 02 🥗⇜\n",
    "## 👨🏽‍🚀🏄‍♂️🚀👨‍🎓🔰\n",
    "\n",
    "![unpackAI Logo](images/unpackAI_logo_whiteBG.svg)"
   ],
   "cell_type": "markdown",
   "metadata": {}
  },
  {
   "source": [
    "# Lesson 06: Loops 🔁\n",
    "\n",
    "## While Loops\n",
    "\n",
    "`while` loops are just like `if` statements...\n",
    "except that so long as the condition is `True`,\n",
    "the loop executes additional times.\n",
    "\n",
    "⚠ Be careful of **infinite loops** (i.e. loops that never stop)!\n",
    "=> it would run forever until the program crahses\n",
    "\n",
    "```python\n",
    "KeyboardInterrupt                         Traceback (most recent call last)\n",
    "<ipython-input-4-75b1de0a177d> in <module>\n",
    "      1 # Infinite loop\n",
    "      2 while True:\n",
    "----> 3     x = 1\n",
    "\n",
    "KeyboardInterrupt: \n",
    "```\n",
    "\n"
   ],
   "cell_type": "markdown",
   "metadata": {}
  },
  {
   "cell_type": "code",
   "execution_count": 1,
   "metadata": {},
   "outputs": [
    {
     "output_type": "stream",
     "name": "stdout",
     "text": [
      "x is 5\nx is 4\nx is 3\nx is 2\nx is 1\n"
     ]
    }
   ],
   "source": [
    "x = 5\n",
    "\n",
    "while x > 0:\n",
    "    print(f'x is {x}')\n",
    "    x -= 1    # reduce x by 1"
   ]
  },
  {
   "source": [
    "We can use 2 keywords to control the flow:\n",
    "* `break`: exit the loop right now\n",
    "* `continue`: exit the current iteration and continue with the next one"
   ],
   "cell_type": "markdown",
   "metadata": {}
  },
  {
   "cell_type": "code",
   "execution_count": 2,
   "metadata": {},
   "outputs": [
    {
     "output_type": "stream",
     "name": "stdout",
     "text": [
      "2\n4\n6\n8\n10\n12\n"
     ]
    }
   ],
   "source": [
    "i = 0\n",
    "while i < 100:\n",
    "    i += 1\n",
    "    if i % 2:\n",
    "        continue  # We skip the odd numbers\n",
    "    print(i)\n",
    "    if i > 10:\n",
    "        break  # we stop if we go above 10 \n",
    "        # NOTE: usually this condition would go in the 'while' :)\n"
   ]
  },
  {
   "source": [
    "## For loops🍀\n",
    "\n",
    "`for` loops are used to run some code on many elements of an _iterable_\n",
    "\n",
    "We can also use `continue` and `break`.\n",
    "\n",
    "### **ITERABLE** 🎗✒\n",
    "Data for which we can retrieve elements one by one.\n",
    "\n",
    "Example of iterables:\n",
    "* strings: reading one character at a time\n",
    "* `range`: numbers between a start and an end\n",
    "* lists: sequence of different elements (a bit like a row/column in Excel)\n",
    "* ...\n",
    "\n",
    "\n"
   ],
   "cell_type": "markdown",
   "metadata": {}
  },
  {
   "cell_type": "code",
   "execution_count": 3,
   "metadata": {},
   "outputs": [
    {
     "output_type": "stream",
     "name": "stdout",
     "text": [
      "start\na\nb\nc\ne\nf\ng\nend\n"
     ]
    }
   ],
   "source": [
    "s = 'abcdefg'\n",
    "look_for = 'd'\n",
    "\n",
    "print(f'start')\n",
    "for letter in s:\n",
    "    if letter == look_for:\n",
    "        continue   # stop this iteration, but go onto the next one\n",
    "    print(letter)\n",
    "print('end')\n"
   ]
  },
  {
   "cell_type": "code",
   "execution_count": 4,
   "metadata": {},
   "outputs": [
    {
     "output_type": "stream",
     "name": "stdout",
     "text": [
      "Square of 0 is 0\nSquare of 1 is 1\nSquare of 2 is 4\nSquare of 3 is 9\nSquare of 4 is 16\n------------------------------\nOdd Numbers: 13579\n"
     ]
    }
   ],
   "source": [
    "for i in range(5):  # 1 argument=> start from 0, go until nb - 1 (i.e. 4)\n",
    "    print(f\"Square of {i} is {i**2}\")\n",
    "\n",
    "print(\"-\" * 30)\n",
    "\n",
    "odd_numbers = \"\"\n",
    "for n in range(1, 10, 2):  # We can specify the start, the end, and \"step\"\n",
    "    odd_numbers += str(n)\n",
    "print(f\"Odd Numbers: {odd_numbers}\")"
   ]
  },
  {
   "source": [
    "# Lesson 07: Lists 📜\n",
    "\n",
    "### A list is a generic container for other objects.\n",
    "It can contain **ANY NUMBER** of **ANY TYPE** of objects.\n",
    "\n",
    "Example (mix of integers and strings):\n",
    "```python\n",
    "mylist = [10, 20, 30, 40, 'hello', 'out', 'there']\n",
    "```\n",
    "\n",
    "Following works just like for strings:\n",
    "* index\n",
    "* slice\n",
    "* length (`len`)\n",
    "* `for` loops\n"
   ],
   "cell_type": "markdown",
   "metadata": {}
  },
  {
   "cell_type": "code",
   "execution_count": 5,
   "metadata": {},
   "outputs": [
    {
     "output_type": "stream",
     "name": "stdout",
     "text": [
      "Index 3 of string: 3\nLast character of string: 6\nSlice 1-5 of string: 1234\nLength of string: 7\n----------\nIndex 3 of list: 3\nLast element of list: 6\nSlice 1-5 of list: [1, 2, 3, 4]\nLength of list: 7\n"
     ]
    }
   ],
   "source": [
    "my_string = \"0123456\"\n",
    "print(f\"Index 3 of string: {my_string[3]}\")\n",
    "print(f\"Last character of string: {my_string[-1]}\")\n",
    "print(f\"Slice 1-5 of string: {my_string[1:5]}\")\n",
    "print(f\"Length of string: {len(my_string)}\")\n",
    "\n",
    "print(\"-\" * 10)\n",
    "\n",
    "my_list = [0, 1, 2, 3, 4, 5, 6]\n",
    "print(f\"Index 3 of list: {my_list[3]}\")\n",
    "print(f\"Last element of list: {my_list[-1]}\")\n",
    "print(f\"Slice 1-5 of list: {my_list[1:5]}\")\n",
    "print(f\"Length of list: {len(my_list)}\")"
   ]
  },
  {
   "cell_type": "code",
   "execution_count": 6,
   "metadata": {},
   "outputs": [
    {
     "output_type": "stream",
     "name": "stdout",
     "text": [
      "abcd\nefgh\nijkl\n"
     ]
    }
   ],
   "source": [
    "mylist = ['abcd', 'efgh', 'ijkl']\n",
    "\n",
    "for one_item in mylist:\n",
    "    print(one_item)"
   ]
  },
  {
   "cell_type": "code",
   "execution_count": 7,
   "metadata": {},
   "outputs": [
    {
     "output_type": "stream",
     "name": "stdout",
     "text": [
      "a\nb\nc\nd\n-\ne\nf\ng\nh\n-\ni\nj\nk\nl\n-\n"
     ]
    }
   ],
   "source": [
    "# You can combine for loops inside other for loops\n",
    "# ... just be careful not to make your code too complex to read and understand\n",
    "# Rule of Thumb: if you can't understand the code you just wrote in few seconds\n",
    "# ... then in one month, this code will be very very hard to understand to you\n",
    "mylist = ['abcd', 'efgh', 'ijkl']\n",
    "\n",
    "for one_item in mylist:\n",
    "    for letter in one_item:\n",
    "        print(letter)\n",
    "    print(\"-\")"
   ]
  },
  {
   "source": [
    "### 💡 We can create a list by using `list` on any iterable \n",
    "(see definition in Lesson #06)"
   ],
   "cell_type": "markdown",
   "metadata": {}
  },
  {
   "cell_type": "code",
   "execution_count": 8,
   "metadata": {},
   "outputs": [
    {
     "output_type": "stream",
     "name": "stdout",
     "text": [
      "Letters: ['a', 'b', 'c', 'd', 'e', 'f']\nNumbers: [0, 1, 2, 3, 4, 5, 6, 7, 8, 9]\n"
     ]
    }
   ],
   "source": [
    "letters = list(\"abcdef\")\n",
    "numbers = list(range(10))\n",
    "print(f\"Letters: {letters}\")\n",
    "print(f\"Numbers: {numbers}\")"
   ]
  },
  {
   "source": [
    "### We can check if an element is inside a list with `in`\n",
    "\n",
    "We need to have the exact element, not a substring.\n",
    "\n",
    "NOTE: We can see in first homework of Lesson 07 how to check if a string is a substring of an element"
   ],
   "cell_type": "markdown",
   "metadata": {}
  },
  {
   "cell_type": "code",
   "execution_count": 9,
   "metadata": {},
   "outputs": [
    {
     "output_type": "stream",
     "name": "stdout",
     "text": [
      "'AI' in list of words: True\n'He' in list of words: False\n"
     ]
    }
   ],
   "source": [
    "words = [\"Hello\", \"unpack\", \"AI\"]\n",
    "print(f\"'AI' in list of words: {'AI' in words}\")\n",
    "print(f\"'He' in list of words: {'He' in words}\")\n",
    "\n"
   ]
  },
  {
   "source": [
    "### We can have lists in lists (a bit like a matrix in math).\n",
    "\n",
    "The length is the number of top elements."
   ],
   "cell_type": "markdown",
   "metadata": {}
  },
  {
   "cell_type": "code",
   "execution_count": 10,
   "metadata": {},
   "outputs": [
    {
     "output_type": "stream",
     "name": "stdout",
     "text": [
      "[[10, 20, 30, 40], [10, 20, 30, 40], [10, 20, 30, 40]]\nLength is 3\n"
     ]
    }
   ],
   "source": [
    "mylist = [10, 20, 30, 40]\n",
    "\n",
    "matrix = [mylist, mylist, mylist]\n",
    "print(matrix)\n",
    "print(f\"Length is {len(matrix)}\")"
   ]
  },
  {
   "source": [
    "## Modification of lists\n",
    "\n",
    "We can modify given indexes of the list (unlike for strings!)\n",
    "\n",
    "```\n",
    "s = \"abc\"\n",
    "s[0] = '.' # try to change s[0] -- strings are immutable!\n",
    "\n",
    "---------------------------------------------------------------------------\n",
    "TypeError                                 Traceback (most recent call last)\n",
    "<ipython-input-22-f0d3010d989d> in <module>\n",
    "----> 1 s[0] = '.' # try to change s[0] -- strings are immutable!\n",
    "\n",
    "TypeError: 'str' object does not support item assignment\n",
    "```"
   ],
   "cell_type": "markdown",
   "metadata": {}
  },
  {
   "cell_type": "code",
   "execution_count": 11,
   "metadata": {},
   "outputs": [
    {
     "output_type": "stream",
     "name": "stdout",
     "text": [
      "['.', 'How', 'are', 'you', '?']\n"
     ]
    }
   ],
   "source": [
    "mylist = [\"?\", \"How\", \"are\", \"you\", \".\"]\n",
    "mylist[0] = '.'  # succeeds, because lists are mutable\n",
    "mylist[-1] = '?'\n",
    "print(mylist)"
   ]
  },
  {
   "source": [
    "### We can add elements to the list\n",
    "* `append`: update the list by adding one element\n",
    "* `+`: add elements (from another iterable) and return a new list\n",
    "* `*` + a number: replicate the content of the list and return a new list\n",
    "* `extend`: update the list by adding several elements (from another iterable)\n",
    "\n",
    "💡 `mylist.extend(iterable)` is equivalent to `mylist += iterable`.\n",
    "\n",
    "NOTE: the opposite of `append` is `pop` (you can remove an element at the end but also at the beginning or in the middle)."
   ],
   "cell_type": "markdown",
   "metadata": {}
  },
  {
   "cell_type": "code",
   "execution_count": 12,
   "metadata": {},
   "outputs": [
    {
     "output_type": "stream",
     "name": "stdout",
     "text": [
      "['a', 'b', 'c', 'd']\n['a', 'b', 'c', 'd', 'e', 'f']\n['a', 'b', 'c', 'd', 'e', 'f', 'g', 'h']\n['a', 'b', 'c', 'd', 'e', 'f', 'g', 'h', 0, 1, 2, 3]\n"
     ]
    }
   ],
   "source": [
    "mylist = [\"a\", \"b\", \"c\"]\n",
    "mylist.append(\"d\")\n",
    "print(mylist)\n",
    "mylist += [\"e\", \"f\"]\n",
    "print(mylist)\n",
    "\n",
    "# we can directly add all the characters from a string\n",
    "mylist += \"gh\"\n",
    "print(mylist)\n",
    "# or the numbers from a range\n",
    "mylist += range(4)\n",
    "print(mylist)"
   ]
  },
  {
   "cell_type": "code",
   "execution_count": 13,
   "metadata": {},
   "outputs": [
    {
     "output_type": "stream",
     "name": "stdout",
     "text": [
      "f\n['a', 'b', 'c', 'd', 'e']\na\n['b', 'c', 'd', 'e']\n"
     ]
    }
   ],
   "source": [
    "mylist = list(\"abcdef\")\n",
    "element = mylist.pop()\n",
    "print(element)\n",
    "print(mylist)\n",
    "element2 = mylist.pop(0)\n",
    "print(element2)\n",
    "print(mylist)"
   ]
  },
  {
   "cell_type": "code",
   "execution_count": 14,
   "metadata": {},
   "outputs": [
    {
     "output_type": "stream",
     "name": "stdout",
     "text": [
      "[0, 1, 2, 3, 4, 5]\n[0, 1, 2, 3, 4, 5, 0, 1, 2, 3, 4, 5, 0, 1, 2, 3, 4, 5]\n"
     ]
    }
   ],
   "source": [
    "numbers = [0, 1, 2, 3, 4, 5]\n",
    "triple = numbers * 3\n",
    "print(numbers)\n",
    "print(triple)"
   ]
  },
  {
   "cell_type": "code",
   "execution_count": 15,
   "metadata": {},
   "outputs": [
    {
     "output_type": "stream",
     "name": "stdout",
     "text": [
      "['a', 'b', 'c', 'e', 'f', 'g']\n"
     ]
    }
   ],
   "source": [
    "mylist = list(\"abc\")\n",
    "mylist.extend(\"efg\")\n",
    "print(mylist)"
   ]
  },
  {
   "source": [
    "## Operations on lists\n",
    "\n",
    "We have 2 ways to sort a list:\n",
    "* `list.sort`: modify the list by sorting the elements\n",
    "* `sorted(list)`: return a sorted list (original list is not modified)\n",
    "\n",
    "💡Usually, `sorted` is used much more than `sort` because it is more convenient."
   ],
   "cell_type": "markdown",
   "metadata": {}
  },
  {
   "cell_type": "code",
   "execution_count": 16,
   "metadata": {},
   "outputs": [
    {
     "output_type": "stream",
     "name": "stdout",
     "text": [
      "Sorted with method 'sort': [2, 5, 6, 10, 12, 15, 30]\nSorted with function 'sorted': [2, 5, 6, 10, 12, 15, 30]\n----------\nBefore: [10, 5, 30, 2, 12, 15, 6]\nAfter:  [10, 5, 30, 2, 12, 15, 6] => not modified\nNew Sorted list: [2, 5, 6, 10, 12, 15, 30]\n"
     ]
    }
   ],
   "source": [
    "mylist = [10, 5, 30, 2, 12, 15, 6]\n",
    "mylist.sort()\n",
    "print(f\"Sorted with method 'sort': {mylist}\")\n",
    "\n",
    "mylist = sorted([10, 5, 30, 2, 12, 15, 6])  # we can do in single line ;)\n",
    "print(f\"Sorted with function 'sorted': {mylist}\")\n",
    "\n",
    "print('-' * 10)\n",
    "\n",
    "mylist = [10, 5, 30, 2, 12, 15, 6]\n",
    "print(f\"Before: {mylist}\")\n",
    "newlist = sorted(mylist)  # mylist is not modified\n",
    "print(f\"After:  {mylist} => not modified\")\n",
    "print(f\"New Sorted list: {newlist}\")"
   ]
  },
  {
   "cell_type": "code",
   "execution_count": 17,
   "metadata": {},
   "outputs": [
    {
     "output_type": "stream",
     "name": "stdout",
     "text": [
      "Help on method_descriptor:\n\nsort(self, /, *, key=None, reverse=False)\n    Stable sort *IN PLACE*.\n\n"
     ]
    }
   ],
   "source": [
    "# We can see that \"sort\" do a sorting IN PLACE!\n",
    "help(list.sort)"
   ]
  },
  {
   "cell_type": "code",
   "execution_count": 18,
   "metadata": {},
   "outputs": [
    {
     "output_type": "stream",
     "name": "stdout",
     "text": [
      "Help on built-in function sorted in module builtins:\n\nsorted(iterable, /, *, key=None, reverse=False)\n    Return a new list containing all items from the iterable in ascending order.\n    \n    A custom key function can be supplied to customize the sort order, and the\n    reverse flag can be set to request the result in descending order.\n\n"
     ]
    }
   ],
   "source": [
    "# but \"sorted\" ... RETURNS a list\n",
    "# (the other arguments are exactly the same)\n",
    "help(sorted)"
   ]
  },
  {
   "cell_type": "code",
   "execution_count": 19,
   "metadata": {},
   "outputs": [
    {
     "output_type": "execute_result",
     "data": {
      "text/plain": [
       "[30, 15, 12, 10, 6, 5, 2]"
      ]
     },
     "metadata": {},
     "execution_count": 19
    }
   ],
   "source": [
    "# you can use \"reverse=True\" to have a reverse sorting\n",
    "mylist = [10, 5, 30, 2, 12, 15, 6]\n",
    "sorted(mylist, reverse=True)"
   ]
  },
  {
   "cell_type": "code",
   "execution_count": 20,
   "metadata": {},
   "outputs": [
    {
     "output_type": "stream",
     "name": "stdout",
     "text": [
      "None\nmy list [2, 5, 6, 10, 12, 15, 30]\n---\n[2, 5, 6, 10, 12, 15, 30]\nmy list [10, 5, 30, 2, 12, 15, 6]\n"
     ]
    }
   ],
   "source": [
    "# Here we will try to emphasize the difference of behavior between sort and sorted\n",
    "# sort = sort in place\n",
    "# sorted = return a sorted list and do not modify the original list\n",
    "\n",
    "mylist = [10, 5, 30, 2, 12, 15, 6]\n",
    "new_list = mylist.sort()  # you should not do that because \".sort()\" does not return anything\n",
    "print(new_list)  # \"newlist\" is \"empty\" (i.e. equal to None) because nothing returned by .sort()\n",
    "print(\"my list\", mylist)\n",
    "\n",
    "print(\"---\")\n",
    "\n",
    "mylist = [10, 5, 30, 2, 12, 15, 6]\n",
    "new_list = sorted(mylist)\n",
    "print(new_list)\n",
    "print(\"my list\", mylist)  # mylist is not changed"
   ]
  },
  {
   "source": [
    "### We can do mathematic operations on numbers:\n",
    "* `sum`: compute the sum of the numbers\n",
    "* `min`: minimum value (need at least 1 value!!)\n",
    "* `max`: maximum value (need at least 1 value!!)"
   ],
   "cell_type": "markdown",
   "metadata": {}
  },
  {
   "cell_type": "code",
   "execution_count": 21,
   "metadata": {},
   "outputs": [
    {
     "output_type": "stream",
     "name": "stdout",
     "text": [
      "[1, 2, 3, 4, 5, 6, 7, 8, 9]\nSum: 45\nMinimum: 1\nMaximum: 9\n"
     ]
    }
   ],
   "source": [
    "numbers = list(range(1, 10))\n",
    "print(numbers)\n",
    "print(f\"Sum: {sum(numbers)}\")\n",
    "print(f\"Minimum: {min(numbers)}\")\n",
    "print(f\"Maximum: {max(numbers)}\")"
   ]
  },
  {
   "source": [
    "### BONUS: how to check which elements contains a given substring\n",
    "\n",
    "For example, we have a list of 10 strings and we need to check which of these strings contains the text `an`."
   ],
   "cell_type": "markdown",
   "metadata": {}
  },
  {
   "cell_type": "code",
   "execution_count": 22,
   "metadata": {},
   "outputs": [
    {
     "output_type": "execute_result",
     "data": {
      "text/plain": [
       "['man', 'and', 'an', 'ant']"
      ]
     },
     "metadata": {},
     "execution_count": 22
    }
   ],
   "source": [
    "strings = [\"I\", \"am\", \"a\", \"man\", \"and\", \"not\", \"an\", \"ant\"]\n",
    "\n",
    "with_an = list()   # equivalent to \"with_an = []\"  ... just a question of preference\n",
    "for word in strings:\n",
    "    if \"an\" in word:\n",
    "        with_an.append(word)\n",
    "\n",
    "with_an"
   ]
  },
  {
   "cell_type": "code",
   "execution_count": 23,
   "metadata": {},
   "outputs": [
    {
     "output_type": "execute_result",
     "data": {
      "text/plain": [
       "['man', 'and', 'an', 'ant']"
      ]
     },
     "metadata": {},
     "execution_count": 23
    }
   ],
   "source": [
    "# 💡 [ADVANCED] You might later learn about \"list comprehensions\"\n",
    "# This problem could be solved much faster with it\n",
    "# The syntax is   [ <element to store> for <element> in <iterable>  (optional if condition) ]\n",
    "\n",
    "strings = [\"I\", \"am\", \"a\", \"man\", \"and\", \"not\", \"an\", \"ant\"]\n",
    "\n",
    "#     (part of ⬇ \"append\")    ⬇ (for loop)       ⬇ (optional if block)\n",
    "with_an = [   word      for word in strings    if \"an\" in word  ]  # this is list comprehension\n",
    "# NOTE: usually, you don't put so many spaces.\n",
    "# These have been added to see the blocks more clearly :)\n",
    "\n",
    "with_an"
   ]
  },
  {
   "source": [
    "# Lesson 08: Strings to List to Strings📝\n",
    "\n",
    "We see how to transform strings to list, and then how to transform a list to a string.\n",
    "\n",
    "It is based on the following functions and methods:\n",
    "* `list(<string>)`: returns list of all characters (see Lesson 07)\n",
    "* `<string>.split(...)`: split the text in several elements based on a given separator (default: space or \"line return\" but it can be specified)\n",
    "* `<separator (string)>.join(<list)`: the opposite of `split` by merging all the elements of the list by putting a separator in the middle "
   ],
   "cell_type": "markdown",
   "metadata": {}
  },
  {
   "source": [
    "## Strings to List with `split` ✂\n",
    "\n",
    "When you want to extract different elements, you usually use `str.split` method.\n",
    "\n",
    "Examples of usage:\n",
    "* Get all the list of words in a sentence\n",
    "* Get year, month, day in dates like `\"2021/12/24\"`\n",
    "* ...\n",
    "\n",
    "The function has 2 arguments:\n",
    "* separator (optional): characters to separate elements (by default: whitespaces = space and line return)\n",
    "* maximum number of splits (optional): 1 split => 2 elements, 2 splits => 3 elements, ... (by default: no limit)\n",
    "\n",
    "**NOTE**: if separator is not found, the returned list contains only 1 element: the string\n"
   ],
   "cell_type": "markdown",
   "metadata": {}
  },
  {
   "cell_type": "code",
   "execution_count": 24,
   "metadata": {},
   "outputs": [
    {
     "output_type": "stream",
     "name": "stdout",
     "text": [
      "['H', 'e', 'l', 'l', 'o', ' ', 'm', 'y', ' ', 'd', 'e', 'a', 'r', ' ', 'f', 'r', 'i', 'e', 'n', 'd']\n['Hello', 'my', 'dear', 'friend']\n"
     ]
    }
   ],
   "source": [
    "# Difference between \"list\" and \"split\"\n",
    "# * list => character by character\n",
    "# * split => cut in bits seperated by a given separator\n",
    "letters = list(\"Hello my dear friend\")\n",
    "words = \"Hello my dear   friend\".split()\n",
    "print(letters)\n",
    "print(words)"
   ]
  },
  {
   "cell_type": "code",
   "execution_count": 25,
   "metadata": {},
   "outputs": [
    {
     "output_type": "stream",
     "name": "stdout",
     "text": [
      "['Hello', 'my', 'dear', 'friend']\n['2021', '12', '24']\n['1', '800-742-5877']\n['1', '800-742-5877']\n['no separator found']\n"
     ]
    }
   ],
   "source": [
    "words = \"Hello my dear friend\".split()\n",
    "print(words)\n",
    "\n",
    "year_month_day = \"2021/12/24\".split(\"/\")\n",
    "print(year_month_day)\n",
    "\n",
    "country_phone = \"1-800-742-5877\".split(\"-\", 1)\n",
    "print(country_phone)\n",
    "\n",
    "country_phone = \"1-800-742-5877\".split(\"-\", maxsplit=1)\n",
    "print(country_phone)\n",
    "\n",
    "print(\"no separator found\".split(\"--\"))"
   ]
  },
  {
   "source": [
    "## List to strings with `join` 🔩\n",
    "\n",
    "`join` is the opposite of `split`: it joins with a character in the middle.\n",
    "\n",
    "If you just want to join them with nothing in the middle, just join with an empty string `\"\"`."
   ],
   "cell_type": "markdown",
   "metadata": {}
  },
  {
   "cell_type": "code",
   "execution_count": 26,
   "metadata": {},
   "outputs": [
    {
     "output_type": "stream",
     "name": "stdout",
     "text": [
      "2020/12/24\n12345\nNew text is the same as before\n1-2-3-4-5-6-7\n"
     ]
    }
   ],
   "source": [
    "year_month_day = [\"2020\", \"12\", \"24\"]\n",
    "date = \"/\".join(year_month_day)\n",
    "print(date)\n",
    "\n",
    "numbers_as_string = \"\".join([\"1\", \"2\", \"3\", \"4\", \"5\"])\n",
    "print(numbers_as_string)\n",
    "\n",
    "text = \"Hello my dear friend\"\n",
    "words = text.split()\n",
    "new_text = \" \".join(words)\n",
    "if new_text == text:\n",
    "    print(\"New text is the same as before\")\n",
    "\n",
    "# ❔ QUESTION: how to transform \"1234567\" to \"1-2-3-4-5-6-7\"?\n",
    "print(\"-\".join(\"1234567\"))  \n",
    "# you don't even need to convert it to a list: `join` will transform to a list by itself\n",
    "# ... he is smart :)"
   ]
  },
  {
   "source": [
    "## Sequences / Tuples\n",
    "\n",
    "Similar to lists, but cannot be modified"
   ],
   "cell_type": "markdown",
   "metadata": {}
  },
  {
   "cell_type": "code",
   "execution_count": 27,
   "metadata": {},
   "outputs": [
    {
     "output_type": "execute_result",
     "data": {
      "text/plain": [
       "tuple"
      ]
     },
     "metadata": {},
     "execution_count": 27
    }
   ],
   "source": [
    "t = (10, 20, 30, 40, 50, 10)\n",
    "type(t)"
   ]
  },
  {
   "cell_type": "code",
   "execution_count": 28,
   "metadata": {},
   "outputs": [
    {
     "output_type": "stream",
     "name": "stdout",
     "text": [
      "10\n20\n30\n40\n50\n10\n30 in t: True\nt[3]: 40\nt.count(10): 2\nt.index(20): 1\n"
     ]
    },
    {
     "output_type": "execute_result",
     "data": {
      "text/plain": [
       "(1, 2, 3, 4)"
      ]
     },
     "metadata": {},
     "execution_count": 28
    }
   ],
   "source": [
    "for one_item in t:\n",
    "    print(one_item)\n",
    "\n",
    "print(f\"30 in t: {30 in t}\")\n",
    "print(f\"t[3]: {t[3]}\")\n",
    "print(f\"t.count(10): {t.count(10)}\")\n",
    "print(f\"t.index(20): {t.index(20)}\")\n",
    "\n",
    "tuple([1, 2, 3, 4])"
   ]
  },
  {
   "cell_type": "code",
   "execution_count": 29,
   "metadata": {},
   "outputs": [
    {
     "output_type": "error",
     "ename": "TypeError",
     "evalue": "'tuple' object does not support item assignment",
     "traceback": [
      "\u001b[1;31m---------------------------------------------------------------------------\u001b[0m",
      "\u001b[1;31mTypeError\u001b[0m                                 Traceback (most recent call last)",
      "\u001b[1;32m<ipython-input-29-4c5d0fc5cc70>\u001b[0m in \u001b[0;36m<module>\u001b[1;34m\u001b[0m\n\u001b[0;32m      1\u001b[0m \u001b[1;31m# 📌 TUPLES CANNOT BE MODIFIED\u001b[0m\u001b[1;33m\u001b[0m\u001b[1;33m\u001b[0m\u001b[1;33m\u001b[0m\u001b[0m\n\u001b[0;32m      2\u001b[0m \u001b[0mt\u001b[0m \u001b[1;33m=\u001b[0m \u001b[1;33m(\u001b[0m\u001b[1;36m10\u001b[0m\u001b[1;33m,\u001b[0m \u001b[1;36m20\u001b[0m\u001b[1;33m,\u001b[0m \u001b[1;36m30\u001b[0m\u001b[1;33m,\u001b[0m \u001b[1;36m40\u001b[0m\u001b[1;33m,\u001b[0m \u001b[1;36m50\u001b[0m\u001b[1;33m,\u001b[0m \u001b[1;36m10\u001b[0m\u001b[1;33m)\u001b[0m\u001b[1;33m\u001b[0m\u001b[1;33m\u001b[0m\u001b[0m\n\u001b[1;32m----> 3\u001b[1;33m \u001b[0mt\u001b[0m\u001b[1;33m[\u001b[0m\u001b[1;36m0\u001b[0m\u001b[1;33m]\u001b[0m \u001b[1;33m=\u001b[0m \u001b[1;34m'!'\u001b[0m\u001b[1;33m\u001b[0m\u001b[1;33m\u001b[0m\u001b[0m\n\u001b[0m",
      "\u001b[1;31mTypeError\u001b[0m: 'tuple' object does not support item assignment"
     ]
    }
   ],
   "source": [
    "# 📌 TUPLES CANNOT BE MODIFIED\n",
    "t = (10, 20, 30, 40, 50, 10)\n",
    "t[0] = '!'"
   ]
  },
  {
   "source": [
    "### Tuple Unpacking📦\n",
    "\n",
    "📌**SUPER IMPORTANT**!!\n",
    "\n",
    "If you have a list, tuple, or any iterable of a given size `n`, you can assign the `n` values to `n` variables with the following syntax:\n",
    "```\n",
    "a1, a2, a3, ..., an = <iterable of size n>\n",
    "```\n",
    "\n",
    "If the size differs, then an exceptions is raised."
   ],
   "cell_type": "markdown",
   "metadata": {}
  },
  {
   "cell_type": "code",
   "execution_count": 22,
   "metadata": {},
   "outputs": [
    {
     "output_type": "stream",
     "name": "stdout",
     "text": [
      "x=10, y=20, z=30\nx=a, y=b, z=c\n"
     ]
    }
   ],
   "source": [
    "mylist = [10, 20, 30]\n",
    "# ❔ QUESTION: How to store the 3 values in 3 different variables?\n",
    "\n",
    "# You could store the different values with indexes\n",
    "x = mylist[0]\n",
    "y = mylist[1]\n",
    "z = mylist[3]\n",
    "# ... but that is super annoying to type, \n",
    "# and even more to modify if you want to change the name of the variable\n",
    "\n",
    "# 💻🧙 CODERS HATE REPETITIVE CODE!\n",
    "# ... so we use UNPACKING!!\n",
    "x, y, z = mylist\n",
    "print(f\"x={x}, y={y}, z={z}\")\n",
    "\n",
    "mytuple = (\"a\", \"b\", \"c\")\n",
    "x, y, z = mytuple\n",
    "print(f\"x={x}, y={y}, z={z}\")"
   ]
  },
  {
   "cell_type": "code",
   "execution_count": 68,
   "metadata": {},
   "outputs": [
    {
     "output_type": "error",
     "ename": "ValueError",
     "evalue": "too many values to unpack (expected 2)",
     "traceback": [
      "\u001b[1;31m---------------------------------------------------------------------------\u001b[0m",
      "\u001b[1;31mValueError\u001b[0m                                Traceback (most recent call last)",
      "\u001b[1;32m<ipython-input-68-1c3e3142fd28>\u001b[0m in \u001b[0;36m<module>\u001b[1;34m\u001b[0m\n\u001b[0;32m      1\u001b[0m \u001b[0mmylist\u001b[0m \u001b[1;33m=\u001b[0m \u001b[1;33m[\u001b[0m\u001b[1;36m10\u001b[0m\u001b[1;33m,\u001b[0m \u001b[1;36m20\u001b[0m\u001b[1;33m,\u001b[0m \u001b[1;36m30\u001b[0m\u001b[1;33m]\u001b[0m\u001b[1;33m\u001b[0m\u001b[1;33m\u001b[0m\u001b[0m\n\u001b[1;32m----> 2\u001b[1;33m \u001b[0mx\u001b[0m\u001b[1;33m,\u001b[0m \u001b[0my\u001b[0m  \u001b[1;33m=\u001b[0m \u001b[0mmylist\u001b[0m  \u001b[1;31m# 1 element missing!!\u001b[0m\u001b[1;33m\u001b[0m\u001b[1;33m\u001b[0m\u001b[0m\n\u001b[0m",
      "\u001b[1;31mValueError\u001b[0m: too many values to unpack (expected 2)"
     ]
    }
   ],
   "source": [
    "mylist = [10, 20, 30]\n",
    "x, y  = mylist  # 1 element missing!!"
   ]
  },
  {
   "cell_type": "code",
   "execution_count": 90,
   "metadata": {},
   "outputs": [
    {
     "output_type": "error",
     "ename": "ValueError",
     "evalue": "not enough values to unpack (expected 4, got 3)",
     "traceback": [
      "\u001b[1;31m---------------------------------------------------------------------------\u001b[0m",
      "\u001b[1;31mValueError\u001b[0m                                Traceback (most recent call last)",
      "\u001b[1;32m<ipython-input-90-506576836e30>\u001b[0m in \u001b[0;36m<module>\u001b[1;34m\u001b[0m\n\u001b[0;32m      1\u001b[0m \u001b[0mmylist\u001b[0m \u001b[1;33m=\u001b[0m \u001b[1;33m[\u001b[0m\u001b[1;36m10\u001b[0m\u001b[1;33m,\u001b[0m \u001b[1;36m20\u001b[0m\u001b[1;33m,\u001b[0m \u001b[1;36m30\u001b[0m\u001b[1;33m]\u001b[0m\u001b[1;33m\u001b[0m\u001b[1;33m\u001b[0m\u001b[0m\n\u001b[1;32m----> 2\u001b[1;33m \u001b[0mx\u001b[0m\u001b[1;33m,\u001b[0m \u001b[0my\u001b[0m\u001b[1;33m,\u001b[0m \u001b[0mz\u001b[0m\u001b[1;33m,\u001b[0m \u001b[0mextra_value\u001b[0m  \u001b[1;33m=\u001b[0m \u001b[0mmylist\u001b[0m  \u001b[1;31m# 1 element missing!!\u001b[0m\u001b[1;33m\u001b[0m\u001b[1;33m\u001b[0m\u001b[0m\n\u001b[0m",
      "\u001b[1;31mValueError\u001b[0m: not enough values to unpack (expected 4, got 3)"
     ]
    }
   ],
   "source": [
    "mylist = [10, 20, 30]\n",
    "x, y, z, extra_value  = mylist  # 1 element missing!!"
   ]
  },
  {
   "source": [
    "### You can use unpacking with `split`\n",
    "\n",
    "⚠ You need to be sure you have the right number of elements => you can use `maxsplit` argument to limit the number of values\n",
    "\n",
    "Note in the code below that we print a tuple so that is why we have `(... , ...)`"
   ],
   "cell_type": "markdown",
   "metadata": {}
  },
  {
   "cell_type": "code",
   "execution_count": 96,
   "metadata": {},
   "outputs": [
    {
     "output_type": "error",
     "ename": "ValueError",
     "evalue": "too many values to unpack (expected 3)",
     "traceback": [
      "\u001b[1;31m---------------------------------------------------------------------------\u001b[0m",
      "\u001b[1;31mValueError\u001b[0m                                Traceback (most recent call last)",
      "\u001b[1;32m<ipython-input-96-899432c45705>\u001b[0m in \u001b[0;36m<module>\u001b[1;34m\u001b[0m\n\u001b[1;32m----> 1\u001b[1;33m \u001b[0mn1\u001b[0m\u001b[1;33m,\u001b[0m \u001b[0mn2\u001b[0m\u001b[1;33m,\u001b[0m \u001b[0mn3\u001b[0m \u001b[1;33m=\u001b[0m \u001b[1;34m\"1 2 3 4 5 6 7\"\u001b[0m\u001b[1;33m.\u001b[0m\u001b[0msplit\u001b[0m\u001b[1;33m(\u001b[0m\u001b[1;33m)\u001b[0m\u001b[1;33m\u001b[0m\u001b[1;33m\u001b[0m\u001b[0m\n\u001b[0m",
      "\u001b[1;31mValueError\u001b[0m: too many values to unpack (expected 3)"
     ]
    }
   ],
   "source": [
    "n1, n2, n3 = \"1 2 3 4 5 6 7\".split()"
   ]
  },
  {
   "cell_type": "code",
   "execution_count": 95,
   "metadata": {},
   "outputs": [
    {
     "output_type": "stream",
     "name": "stdout",
     "text": [
      "Max Karl\n('Max', 'Karl')\n('Kennedy', 'John F')\n"
     ]
    }
   ],
   "source": [
    "name = 'Max Karl'\n",
    "first_name, last_name = name.split()\n",
    "print( first_name, last_name )  # without parenthesis => 2 parameters\n",
    "print( (first_name, last_name) )  # with parenthesis => we print a tuple\n",
    "\n",
    "president = \"Kennedy John F\"\n",
    "last, first = president.split(maxsplit=1)\n",
    "print((last, first))  # we also print a tuple here"
   ]
  },
  {
   "source": [
    "## Permuation of variables\n",
    "\n",
    "We can use tuples to permute variables"
   ],
   "cell_type": "markdown",
   "metadata": {}
  },
  {
   "cell_type": "code",
   "execution_count": 23,
   "metadata": {},
   "outputs": [
    {
     "output_type": "stream",
     "name": "stdout",
     "text": [
      "a=20, b=10\nx=20, y=30, z=10\n"
     ]
    }
   ],
   "source": [
    "a = 10\n",
    "b = 20\n",
    "\n",
    "a, b = b, a  # we permute (we could permute more if needed :)\n",
    "(a, b) = (b, a)  # this is equivalent with parentheses\n",
    "print(f\"a={a}, b={b}\")\n",
    "\n",
    "x = 10\n",
    "y = 20\n",
    "z = 30\n",
    "x, y, z = y, z, x\n",
    "print(f\"x={x}, y={y}, z={z}\")"
   ]
  },
  {
   "source": [
    "## Example of usage: ℱ Fibonacci Numbers\n",
    "\n",
    "In mathematics, the Fibonacci numbers, commonly denoted Fn, form a sequence, called the Fibonacci sequence, such that each number is the sum of the two preceding ones, starting from 0 and 1.\n",
    "\n",
    "The beginning of the sequence is thus:\n",
    "```\n",
    "0, 1, 1, 2, 3, 5, 8, 13, ...\n",
    "```\n",
    "\n",
    "❔ QUESTION: How do we implement a function that return a list of n Fibonacci Numbers (with n>=2)?"
   ],
   "cell_type": "markdown",
   "metadata": {}
  },
  {
   "cell_type": "code",
   "execution_count": 4,
   "metadata": {},
   "outputs": [
    {
     "output_type": "stream",
     "name": "stdout",
     "text": [
      "[0, 1, 1, 2, 3, 5, 8, 13, 21, 34, 55, 89]\n"
     ]
    }
   ],
   "source": [
    "# We assume n >= 2\n",
    "def fibonacci_numbers(n):\n",
    "    # We will just store 2 numbers\n",
    "    # We will store the previous 2nd number as the new first\n",
    "    # The new second number is equal to the old 2 numbers\n",
    "    a = 0\n",
    "    b = 1\n",
    "    numbers = [a, b]\n",
    "    for i in range(10):\n",
    "        a, b = b, a + b  \n",
    "        numbers.append(b)\n",
    "\n",
    "    return numbers\n",
    "\n",
    "print(fibonacci_numbers(10))"
   ]
  },
  {
   "source": [
    "# Lesson 09: Dictionaries 📘\n",
    "\n",
    "In computer programming (and many other languages), \"dictionaries\" are called *hashes* or *hash tables*.\n",
    "\n",
    "They are similar to list, but values have an index. It is like a dictionary where you have a word (index) and its definition (value).\n",
    "\n",
    "The index can be:\n",
    "* number (int, float, complex)\n",
    "* string\n",
    "* tuple of numbers or strings\n",
    "* anything that is \"immutable\" (i.e. cannot be modified)\n",
    "\n",
    "They use curly brackets `{ ... }` and `<index> : <value>` syntax\n",
    "\n",
    "🔖And index is **UNIQUE**!\n"
   ],
   "cell_type": "markdown",
   "metadata": {}
  },
  {
   "cell_type": "code",
   "execution_count": 104,
   "metadata": {},
   "outputs": [
    {
     "output_type": "stream",
     "name": "stdout",
     "text": [
      "{'Monday': 1, 'Tuesday': 2, 'Wednesday': 3, 'Thursday': 4, 'Friday': 5}\n{'M': 1, 'T': 4, 'W': 3, 'F': 5}\n"
     ]
    }
   ],
   "source": [
    "days_of_the_week = {'Monday':1, 'Tuesday':2, 'Wednesday':3, 'Thursday':4, 'Friday':5}\n",
    "print(days_of_the_week)\n",
    "\n",
    "duplicate_days_of_the_week = {'M':1, 'T':2, 'W':3, 'T':4, 'F':5}  # value \"4\" will replace \"2\" for \"T\"\n",
    "print(duplicate_days_of_the_week)"
   ]
  },
  {
   "source": [
    "## Operations on Dictionaries\n",
    "\n",
    "They are quite similar to lists:\n",
    "* `len`: number of pairs (index, value)\n",
    "* `in`: to check if something is among the indexes\n",
    "* `[<index>]` to read or modify a value\n",
    "* We can do some loops on them\n",
    "\n",
    "NOTE: Doing `<element> in <list>` costs a lot of CPU \n",
    "because we need to search in the whole list, one element at a time, if is among the list.\n",
    "But doing `<index> in <dictionary>` is instant because we just need to check if this index exists"
   ],
   "cell_type": "markdown",
   "metadata": {}
  },
  {
   "cell_type": "code",
   "execution_count": 105,
   "metadata": {},
   "outputs": [
    {
     "output_type": "stream",
     "name": "stdout",
     "text": [
      "Length is 6\nLetter c has been found\n"
     ]
    }
   ],
   "source": [
    "d = {'a':1, 'b':2, 'c':3, 'd':4, 'e':5, \"z\": 24}\n",
    "print(f\"Length is {len(d)}\")\n",
    "\n",
    "if \"c\" in d:\n",
    "    print(\"Letter c has been found\")"
   ]
  },
  {
   "cell_type": "code",
   "execution_count": 5,
   "metadata": {},
   "outputs": [
    {
     "output_type": "stream",
     "name": "stdout",
     "text": [
      "France\nten\n{'name': 'Jeff', 'age': 10, 'country': 'France', 10: 'ten', 'hobby': 'Python'}\n{'name': 'Jeff', 'age': 11, 'country': 'France', 10: 'ten', 'hobby': 'Python'}\n"
     ]
    }
   ],
   "source": [
    "person = {\"name\":\"Jeff\", \"age\": 10, \"country\":\"France\", 10:\"ten\"}  \n",
    "# NOTE: keys/indexes could be a mix of strings and numbers\n",
    "country = person[\"country\"]\n",
    "print(country)\n",
    "\n",
    "print(person[10])  # it is not a list, but a dictionary with an integer index\n",
    "\n",
    "# You can define new pair index/value\n",
    "person[\"hobby\"] =  \"Python\"\n",
    "print(person)\n",
    "\n",
    "# You can also increment directly a value\n",
    "person[\"age\"] += 1\n",
    "print(person)"
   ]
  },
  {
   "source": [
    "## We cannot do slice on dictionaries, like for lists\n",
    "... even if the indexes are nunbers\n",
    "\n",
    "It's because dictionaries have no order in them so you can't take elements between a range of indexes"
   ],
   "cell_type": "markdown",
   "metadata": {}
  },
  {
   "cell_type": "code",
   "execution_count": 7,
   "metadata": {},
   "outputs": [
    {
     "output_type": "stream",
     "name": "stdout",
     "text": [
      "one\n"
     ]
    },
    {
     "output_type": "error",
     "ename": "TypeError",
     "evalue": "unhashable type: 'slice'",
     "traceback": [
      "\u001b[1;31m---------------------------------------------------------------------------\u001b[0m",
      "\u001b[1;31mTypeError\u001b[0m                                 Traceback (most recent call last)",
      "\u001b[1;32m<ipython-input-7-23f20abd0fe0>\u001b[0m in \u001b[0;36m<module>\u001b[1;34m\u001b[0m\n\u001b[0;32m      3\u001b[0m \u001b[0mnumbers_in_english\u001b[0m \u001b[1;33m=\u001b[0m \u001b[1;33m{\u001b[0m\u001b[1;36m1\u001b[0m\u001b[1;33m:\u001b[0m\u001b[1;34m\"one\"\u001b[0m\u001b[1;33m,\u001b[0m \u001b[1;36m2\u001b[0m\u001b[1;33m:\u001b[0m\u001b[1;34m\"two\"\u001b[0m\u001b[1;33m,\u001b[0m \u001b[1;36m3\u001b[0m\u001b[1;33m:\u001b[0m\u001b[1;34m\"three\"\u001b[0m\u001b[1;33m,\u001b[0m \u001b[1;36m4\u001b[0m\u001b[1;33m:\u001b[0m\u001b[1;34m\"four\"\u001b[0m\u001b[1;33m}\u001b[0m\u001b[1;33m\u001b[0m\u001b[1;33m\u001b[0m\u001b[0m\n\u001b[0;32m      4\u001b[0m \u001b[0mprint\u001b[0m\u001b[1;33m(\u001b[0m\u001b[0mnumbers_in_english\u001b[0m\u001b[1;33m[\u001b[0m\u001b[1;36m1\u001b[0m\u001b[1;33m]\u001b[0m\u001b[1;33m)\u001b[0m\u001b[1;33m\u001b[0m\u001b[1;33m\u001b[0m\u001b[0m\n\u001b[1;32m----> 5\u001b[1;33m \u001b[0mprint\u001b[0m\u001b[1;33m(\u001b[0m\u001b[0mnumbers_in_english\u001b[0m\u001b[1;33m[\u001b[0m\u001b[1;36m1\u001b[0m\u001b[1;33m:\u001b[0m\u001b[1;36m3\u001b[0m\u001b[1;33m]\u001b[0m\u001b[1;33m)\u001b[0m\u001b[1;33m\u001b[0m\u001b[1;33m\u001b[0m\u001b[0m\n\u001b[0m",
      "\u001b[1;31mTypeError\u001b[0m: unhashable type: 'slice'"
     ]
    }
   ],
   "source": [
    "numbers_in_english = {1:\"one\", 2:\"two\", 3:\"three\", 4:\"four\"}\n",
    "print(numbers_in_english[1])\n",
    "print(numbers_in_english[1:3])"
   ]
  },
  {
   "source": [
    "## Loops of dictionaries\n",
    "\n",
    "For loops will loop over the indexes.\n",
    "\n",
    "However, we can also loop over:\n",
    "* the values: `<dict>.values()`\n",
    "* the pairs (index, value) as tuples: `<dict>.items()`"
   ],
   "cell_type": "markdown",
   "metadata": {}
  },
  {
   "cell_type": "code",
   "execution_count": 44,
   "metadata": {},
   "outputs": [
    {
     "output_type": "stream",
     "name": "stdout",
     "text": [
      "INDEX name\nINDEX age\nINDEX country\n\nVALUE Jeff\nVALUE 10\nVALUE France\n\nINDEX/VALUE TUPLE ('name', 'Jeff')\nINDEX/VALUE TUPLE ('age', 10)\nINDEX/VALUE TUPLE ('country', 'France')\n\nINDEX/VALUE name: Jeff\nINDEX/VALUE age: 10\nINDEX/VALUE country: France\n"
     ]
    }
   ],
   "source": [
    "person = {\"name\":\"Jeff\", \"age\": 10, \"country\":\"France\"}\n",
    "\n",
    "for index in person:\n",
    "    print(f\"INDEX {index}\")\n",
    "\n",
    "print(\"\")\n",
    "\n",
    "for value in person.values():\n",
    "    print(f\"VALUE {value}\")\n",
    "\n",
    "print(\"\")\n",
    "\n",
    "for idx_value in person.items():  # items returns a tuple\n",
    "    print(f\"INDEX/VALUE TUPLE {idx_value}\")\n",
    "\n",
    "print(\"\")\n",
    "\n",
    "for index, value in person.items():  # 🧙 the tuple can be unpacked for great convenience!!\n",
    "    print(f\"INDEX/VALUE {index}: {value}\")"
   ]
  },
  {
   "cell_type": "code",
   "execution_count": 48,
   "metadata": {},
   "outputs": [
    {
     "output_type": "stream",
     "name": "stdout",
     "text": [
      "{2: 'two', 4: 'four'}\n"
     ]
    }
   ],
   "source": [
    "d = {1:\"one\", 2:\"two\", 3:\"three\", 4:\"four\"}\n",
    "\n",
    "# ❔ QUESTION: how to do another dictionary with keys that are only even numbers\n",
    "new_dict = {}\n",
    "for key, value in d.items():\n",
    "    if key % 2 == 0:\n",
    "        new_dict[key] = value\n",
    "print(new_dict)"
   ]
  },
  {
   "cell_type": "code",
   "execution_count": 49,
   "metadata": {},
   "outputs": [
    {
     "output_type": "stream",
     "name": "stdout",
     "text": [
      "{2: 'two', 4: 'four'}\n"
     ]
    }
   ],
   "source": [
    "# or you could do with \"dictionary comprehension\"\n",
    "# It's like \"list comprehensions\", but with dictionaries\n",
    "# It is using syntax { <key>:<value> for ... in ....  (and an opional if condition)}\n",
    "d = {1:\"one\", 2:\"two\", 3:\"three\", 4:\"four\"}\n",
    "\n",
    "#      dict[key] ⬇ = value        ⬇ (loop)                        ⬇  (condition)\n",
    "new_dict = {    key:value       for key, value in d.items()      if key % 2 == 0    }\n",
    "print(new_dict)\n"
   ]
  },
  {
   "cell_type": "code",
   "execution_count": 8,
   "metadata": {},
   "outputs": [
    {
     "output_type": "stream",
     "name": "stdout",
     "text": [
      "{1: 'a', 2: 'b', 3: 'c', 4: 'd'}\n{1: 'f', 2: 'g', 3: 'c', 4: 'd', 5: 'e'}\n"
     ]
    }
   ],
   "source": [
    "# ❔ QUESTION: how to switch keys and values in a dictionary\n",
    "d = {\"a\":1, \"b\":2, \"c\":3, \"d\":4}\n",
    "\n",
    "# You can use dictionary comprehension without the \"if\" condition\n",
    "reversed_dict = { value:key  for key, value in d.items()  }\n",
    "print(reversed_dict)\n",
    "\n",
    "# ❕ However, be careful because indexes shall be unique, while values are not necessary\n",
    "# ... so some pairs of key-values might be dropped\n",
    "d = {\"a\":1, \"b\":2, \"c\":3, \"d\":4, \"e\":5, \"f\":1, \"g\":2}   # a and f => 1, b and g => 2\n",
    "reversed_dict = { value:key  for key, value in d.items()  }  # => a and b will disappear!\n",
    "print(reversed_dict)"
   ]
  },
  {
   "cell_type": "code",
   "execution_count": 9,
   "metadata": {},
   "outputs": [
    {
     "output_type": "stream",
     "name": "stdout",
     "text": [
      "Hll m frnd. Th rd fx trts qtl t mdnght\n"
     ]
    }
   ],
   "source": [
    "# ❔ QUESTION: can we use comprehensions on strings?\n",
    "\n",
    "# ANSWER: Yes, but you usually parse charcter by character and need to join them again\n",
    "# Example of usage: remove all the vowels in a text!\n",
    "text = \"Hello my friend. The red fox trots quietly at midnight\"\n",
    "text_without_vowels = \"\".join(c for c in text if c not in \"aeiouy\")\n",
    "print(text_without_vowels)"
   ]
  },
  {
   "source": [
    "# ⇝🔰 THE 🧙 END 🔰⇜"
   ],
   "cell_type": "markdown",
   "metadata": {}
  }
 ]
}