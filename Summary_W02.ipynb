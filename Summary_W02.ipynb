{
 "metadata": {
  "language_info": {
   "codemirror_mode": {
    "name": "ipython",
    "version": 3
   },
   "file_extension": ".py",
   "mimetype": "text/x-python",
   "name": "python",
   "nbconvert_exporter": "python",
   "pygments_lexer": "ipython3",
   "version": "3.7.1"
  },
  "orig_nbformat": 2,
  "kernelspec": {
   "name": "python371jvsc74a57bd08a428f088ac08f7fdf89fb2f4bb23c2bc8a83acc5d068a78d54410b8e3eeec73",
   "display_name": "Python 3.7.1 32-bit"
  }
 },
 "nbformat": 4,
 "nbformat_minor": 2,
 "cells": [
  {
   "source": [
    "# ⇝🥗 Summary Week 02 🥗⇜\n",
    "## 👨🏽‍🚀🏄‍♂️🚀👨‍🎓🔰"
   ],
   "cell_type": "markdown",
   "metadata": {}
  },
  {
   "source": [
    "# Lesson 06: Loops 🔁\n",
    "\n",
    "## While Loops\n",
    "\n",
    "`while` loops are just like `if` statements...\n",
    "except that so long as the condition is `True`,\n",
    "the loop executes additional times.\n",
    "\n",
    "⚠ Be careful of **infinite loops** (i.e. loops that never stop)!\n",
    "=> it would run forever until the program crahses\n",
    "\n",
    "```python\n",
    "KeyboardInterrupt                         Traceback (most recent call last)\n",
    "<ipython-input-4-75b1de0a177d> in <module>\n",
    "      1 # Infinite loop\n",
    "      2 while True:\n",
    "----> 3     x = 1\n",
    "\n",
    "KeyboardInterrupt: \n",
    "```\n",
    "\n"
   ],
   "cell_type": "markdown",
   "metadata": {}
  },
  {
   "cell_type": "code",
   "execution_count": 3,
   "metadata": {},
   "outputs": [
    {
     "output_type": "stream",
     "name": "stdout",
     "text": [
      "x is 5\nx is 4\nx is 3\nx is 2\nx is 1\n"
     ]
    }
   ],
   "source": [
    "x = 5\n",
    "\n",
    "while x > 0:\n",
    "    print(f'x is {x}')\n",
    "    x -= 1    # reduce x by 1"
   ]
  },
  {
   "source": [
    "We can use 2 keywords to control the flow:\n",
    "* `break`: exit the loop right now\n",
    "* `continue`: exit the current iteration and continue with the next one"
   ],
   "cell_type": "markdown",
   "metadata": {}
  },
  {
   "cell_type": "code",
   "execution_count": 1,
   "metadata": {},
   "outputs": [
    {
     "output_type": "stream",
     "name": "stdout",
     "text": [
      "2\n4\n6\n8\n10\n12\n"
     ]
    }
   ],
   "source": [
    "i = 0\n",
    "while i < 100:\n",
    "    i += 1\n",
    "    if i % 2:\n",
    "        continue  # We skip the odd numbers\n",
    "    print(i)\n",
    "    if i > 10:\n",
    "        break  # we stop if we go above 10 \n",
    "        # NOTE: usually this condition would go in the 'while' :)\n",
    "\n",
    "s = 'abcdefg'\n"
   ]
  },
  {
   "source": [
    "## For loops🍀\n",
    "\n",
    "`for` loops are used to run some code on many elements of an _iterable_\n",
    "\n",
    "We can also use `continue` and `break`.\n",
    "\n",
    "### **ITERABLE** 🎗✒\n",
    "Data for which we can retrieve elements one by one.\n",
    "\n",
    "Example of iterables:\n",
    "* strings: reading one character at a time\n",
    "* `range`: numbers between a start and an end\n",
    "* lists: sequence of different elements (a bit like a row/column in Excel)\n",
    "* ...\n",
    "\n",
    "\n"
   ],
   "cell_type": "markdown",
   "metadata": {}
  },
  {
   "cell_type": "code",
   "execution_count": 8,
   "metadata": {},
   "outputs": [
    {
     "output_type": "stream",
     "name": "stdout",
     "text": [
      "start\na\nb\nc\ne\nf\ng\nend\n"
     ]
    }
   ],
   "source": [
    "s = 'abcdefg'\n",
    "look_for = 'd'\n",
    "\n",
    "print(f'start')\n",
    "for one_letter in s:\n",
    "    if one_letter == look_for:\n",
    "        continue   # stop this iteration, but go onto the next one\n",
    "    print(one_letter)\n",
    "print('end')\n"
   ]
  },
  {
   "cell_type": "code",
   "execution_count": 9,
   "metadata": {},
   "outputs": [
    {
     "output_type": "stream",
     "name": "stdout",
     "text": [
      "Square of 0 is 0\nSquare of 1 is 1\nSquare of 2 is 4\nSquare of 3 is 9\nSquare of 4 is 16\n------------------------------\nOdd Numbers: 13579\n"
     ]
    }
   ],
   "source": [
    "for i in range(5):  # 1 argument=> start from 0, go until nb - 1 (i.e. 4)\n",
    "    print(f\"Square of {i} is {i**2}\")\n",
    "\n",
    "print(\"-\" * 30)\n",
    "\n",
    "odd_numbers = \"\"\n",
    "for n in range(1, 10, 2):  # We can specify the start, the end, and \"step\"\n",
    "    odd_numbers += str(n)\n",
    "print(f\"Odd Numbers: {odd_numbers}\")"
   ]
  },
  {
   "source": [
    "# Lesson 07: Lists 📜\n",
    "\n",
    "### A list is a generic container for other objects.\n",
    "It can contain **ANY NUMBER** of **ANY TYPE** of objects.\n",
    "\n",
    "Example (mix of integers and strings):\n",
    "```python\n",
    "mylist = [10, 20, 30, 40, 'hello', 'out', 'there']\n",
    "```\n",
    "\n",
    "Following works just like for strings:\n",
    "* index\n",
    "* slice\n",
    "* length (`len`)\n",
    "* `for` loops\n"
   ],
   "cell_type": "markdown",
   "metadata": {}
  },
  {
   "cell_type": "code",
   "execution_count": 13,
   "metadata": {},
   "outputs": [
    {
     "output_type": "stream",
     "name": "stdout",
     "text": [
      "Index 3 of string: 3\nLast character of string: 6\nSlice 1-5 of string: 1234\nLength of string: 7\n----------\nIndex 3 of list: 3\nLast element of list: 6\nSlice 1-5 of list: [1, 2, 3, 4]\nLength of list: 7\n"
     ]
    }
   ],
   "source": [
    "my_string = \"0123456\"\n",
    "print(f\"Index 3 of string: {my_string[3]}\")\n",
    "print(f\"Last character of string: {my_string[-1]}\")\n",
    "print(f\"Slice 1-5 of string: {my_string[1:5]}\")\n",
    "print(f\"Length of string: {len(my_string)}\")\n",
    "\n",
    "print(\"-\" * 10)\n",
    "\n",
    "my_list = [0, 1, 2, 3, 4, 5, 6]\n",
    "print(f\"Index 3 of list: {my_list[3]}\")\n",
    "print(f\"Last element of list: {my_list[-1]}\")\n",
    "print(f\"Slice 1-5 of list: {my_list[1:5]}\")\n",
    "print(f\"Length of list: {len(my_list)}\")"
   ]
  },
  {
   "cell_type": "code",
   "execution_count": 12,
   "metadata": {},
   "outputs": [
    {
     "output_type": "stream",
     "name": "stdout",
     "text": [
      "abcd\nefgh\nijkl\n"
     ]
    }
   ],
   "source": [
    "mylist = ['abcd', 'efgh', 'ijkl']\n",
    "\n",
    "for one_item in mylist:\n",
    "    print(one_item)"
   ]
  },
  {
   "source": [
    "### 💡 We can create a list by using `list` on any iterable \n",
    "(see definition in Lesson #06)"
   ],
   "cell_type": "markdown",
   "metadata": {}
  },
  {
   "cell_type": "code",
   "execution_count": 30,
   "metadata": {},
   "outputs": [
    {
     "output_type": "stream",
     "name": "stdout",
     "text": [
      "Letters: ['a', 'b', 'c', 'd', 'e', 'f']\nNumbers: [0, 1, 2, 3, 4, 5, 6, 7, 8, 9]\n"
     ]
    }
   ],
   "source": [
    "letters = list(\"abcdef\")\n",
    "numbers = list(range(10))\n",
    "print(f\"Letters: {letters}\")\n",
    "print(f\"Numbers: {numbers}\")"
   ]
  },
  {
   "source": [
    "### We can check if an element is inside a list with `in`\n",
    "\n",
    "We need to have the exact element, not a substring.\n",
    "\n",
    "NOTE: We can see in first homework of Lesson 07 how to check if a string is a substring of an element"
   ],
   "cell_type": "markdown",
   "metadata": {}
  },
  {
   "cell_type": "code",
   "execution_count": null,
   "metadata": {},
   "outputs": [],
   "source": []
  },
  {
   "cell_type": "code",
   "execution_count": 15,
   "metadata": {},
   "outputs": [
    {
     "output_type": "stream",
     "name": "stdout",
     "text": [
      "'AI' in list of words: True\n'He' in list of words: False\n"
     ]
    }
   ],
   "source": [
    "words = [\"Hello\", \"unpack\", \"AI\"]\n",
    "print(f\"'AI' in list of words: {'AI' in words}\")\n",
    "print(f\"'He' in list of words: {'He' in words}\")\n",
    "\n"
   ]
  },
  {
   "source": [
    "### We can have lists in lists (a bit like a matrix in math).\n",
    "\n",
    "The length is the number of top elements."
   ],
   "cell_type": "markdown",
   "metadata": {}
  },
  {
   "cell_type": "code",
   "execution_count": 41,
   "metadata": {},
   "outputs": [
    {
     "output_type": "stream",
     "name": "stdout",
     "text": [
      "[[10, 20, 30, 40], [10, 20, 30, 40], [10, 20, 30, 40]]\nLength is 3\n"
     ]
    }
   ],
   "source": [
    "mylist = [10, 20, 30, 40]\n",
    "\n",
    "matrix = [mylist, mylist, mylist]\n",
    "print(matrix)\n",
    "print(f\"Length is {len(matrix)}\")"
   ]
  },
  {
   "source": [
    "## Modification of lists\n",
    "\n",
    "We can modify given indexes of the list (unlike for strings!)\n",
    "\n",
    "```\n",
    "s = \"abc\"\n",
    "s[0] = '.' # try to change s[0] -- strings are immutable!\n",
    "\n",
    "---------------------------------------------------------------------------\n",
    "TypeError                                 Traceback (most recent call last)\n",
    "<ipython-input-22-f0d3010d989d> in <module>\n",
    "----> 1 s[0] = '.' # try to change s[0] -- strings are immutable!\n",
    "\n",
    "TypeError: 'str' object does not support item assignment\n",
    "```"
   ],
   "cell_type": "markdown",
   "metadata": {}
  },
  {
   "cell_type": "code",
   "execution_count": 24,
   "metadata": {},
   "outputs": [
    {
     "output_type": "stream",
     "name": "stdout",
     "text": [
      "['---', 'How', 'are', 'you', '?']\n"
     ]
    }
   ],
   "source": [
    "mylist = [\"?\", \"How\", \"are\", \"you\", \".\"]\n",
    "mylist[0] = '.'  # succeeds, because lists are mutable\n",
    "mylist[-1] = '?'\n",
    "print(mylist)"
   ]
  },
  {
   "source": [
    "### We can add elements to the list\n",
    "* `append`: update the list by adding one element\n",
    "* `+`: add elements (from another iterable) and return a new list\n",
    "* `*` + a number: replicate the content of the list and return a new list\n",
    "* `extend`: update the list by adding several elements (from another iterable)\n",
    "\n",
    "💡 `mylist.extend(iterable)` is equivalent to `mylist += iterable`.\n",
    "\n",
    "NOTE: the opposite of `append` is `pop` (you can remove an element at the end but also at the beginning or in the middle)."
   ],
   "cell_type": "markdown",
   "metadata": {}
  },
  {
   "cell_type": "code",
   "execution_count": 42,
   "metadata": {},
   "outputs": [
    {
     "output_type": "stream",
     "name": "stdout",
     "text": [
      "['a', 'b', 'c', 'd']\n['a', 'b', 'c', 'd', 'e', 'f']\n['a', 'b', 'c', 'd', 'e', 'f', 'g', 'h']\n['a', 'b', 'c', 'd', 'e', 'f', 'g', 'h', 0, 1, 2, 3]\n"
     ]
    }
   ],
   "source": [
    "mylist = [\"a\", \"b\", \"c\"]\n",
    "mylist.append(\"d\")\n",
    "print(mylist)\n",
    "mylist += [\"e\", \"f\"]\n",
    "print(mylist)\n",
    "\n",
    "# we can directly add all the characters from a string\n",
    "mylist += \"gh\"\n",
    "print(mylist)\n",
    "# or the numbers from a range\n",
    "mylist += range(4)\n",
    "print(mylist)"
   ]
  },
  {
   "cell_type": "code",
   "execution_count": 46,
   "metadata": {},
   "outputs": [
    {
     "output_type": "stream",
     "name": "stdout",
     "text": [
      "[0, 1, 2, 3, 4, 5]\n[0, 1, 2, 3, 4, 5, 0, 1, 2, 3, 4, 5, 0, 1, 2, 3, 4, 5]\n"
     ]
    }
   ],
   "source": [
    "numbers = [0, 1, 2, 3, 4, 5]\n",
    "triple = numbers * 3\n",
    "print(numbers)\n",
    "print(triple)"
   ]
  },
  {
   "cell_type": "code",
   "execution_count": 31,
   "metadata": {},
   "outputs": [
    {
     "output_type": "stream",
     "name": "stdout",
     "text": [
      "['a', 'b', 'c', 'e', 'f', 'g']\n"
     ]
    }
   ],
   "source": [
    "mylist = list(\"abc\")\n",
    "mylist.extend(\"efg\")\n",
    "print(mylist)"
   ]
  },
  {
   "source": [
    "## Operations on lists\n",
    "\n",
    "We have 2 ways to sort a list:\n",
    "`list.sort`: modify the list by sorting the elements\n",
    "`sorted(list)`: return a sorted list (original list is not modified)\n",
    "\n",
    "💡Usually, `sorted` is used much more than `sort` because it is more convenient."
   ],
   "cell_type": "markdown",
   "metadata": {}
  },
  {
   "cell_type": "code",
   "execution_count": 38,
   "metadata": {},
   "outputs": [
    {
     "output_type": "stream",
     "name": "stdout",
     "text": [
      "Sorted with method 'sort': [2, 5, 6, 10, 12, 15, 30]\nSorted with function 'sorted': [2, 5, 6, 10, 12, 15, 30]\n----------\nBefore: [10, 5, 30, 2, 12, 15, 6]\nAfter:  [10, 5, 30, 2, 12, 15, 6] => not modified\nNew Sorted list: [2, 5, 6, 10, 12, 15, 30]\n"
     ]
    }
   ],
   "source": [
    "mylist = [10, 5, 30, 2, 12, 15, 6]\n",
    "mylist.sort()\n",
    "print(f\"Sorted with method 'sort': {mylist}\")\n",
    "\n",
    "mylist = sorted([10, 5, 30, 2, 12, 15, 6])  # we can do in single line ;)\n",
    "print(f\"Sorted with function 'sorted': {mylist}\")\n",
    "\n",
    "print('-' * 10)\n",
    "\n",
    "mylist = [10, 5, 30, 2, 12, 15, 6]\n",
    "print(f\"Before: {mylist}\")\n",
    "newlist = sorted(mylist)  # mylist is not modified\n",
    "print(f\"After:  {mylist} => not modified\")\n",
    "print(f\"New Sorted list: {newlist}\")"
   ]
  },
  {
   "source": [
    "### We can do mathematic operations on numbers:\n",
    "* `sum`: compute the sum of the numbers\n",
    "* `min`: minimum value (need at least 1 value!!)\n",
    "* `max`: maximum value (need at least 1 value!!)"
   ],
   "cell_type": "markdown",
   "metadata": {}
  },
  {
   "cell_type": "code",
   "execution_count": 40,
   "metadata": {},
   "outputs": [
    {
     "output_type": "stream",
     "name": "stdout",
     "text": [
      "[1, 2, 3, 4, 5, 6, 7, 8, 9]\nSum: 45\nMinimum: 1\nMaximum: 9\n"
     ]
    }
   ],
   "source": [
    "numbers = list(range(1, 10))\n",
    "print(numbers)\n",
    "print(f\"Sum: {sum(numbers)}\")\n",
    "print(f\"Minimum: {min(numbers)}\")\n",
    "print(f\"Maximum: {max(numbers)}\")"
   ]
  },
  {
   "source": [
    "### BONUS: how to check which elements contains a given substring\n",
    "\n",
    "For example, we have a list of 10 strings and we need to check which of these strings contains the text `an`."
   ],
   "cell_type": "markdown",
   "metadata": {}
  },
  {
   "cell_type": "code",
   "execution_count": 49,
   "metadata": {},
   "outputs": [
    {
     "output_type": "execute_result",
     "data": {
      "text/plain": [
       "['man', 'and', 'an', 'ant']"
      ]
     },
     "metadata": {},
     "execution_count": 49
    }
   ],
   "source": [
    "strings = [\"I\", \"am\", \"a\", \"man\", \"and\", \"not\", \"an\", \"ant\"]\n",
    "\n",
    "with_an = list()\n",
    "for word in strings:\n",
    "    if \"an\" in word:\n",
    "        with_an.append(word)\n",
    "\n",
    "with_an"
   ]
  },
  {
   "cell_type": "code",
   "execution_count": 51,
   "metadata": {},
   "outputs": [
    {
     "output_type": "execute_result",
     "data": {
      "text/plain": [
       "['man', 'and', 'an', 'ant']"
      ]
     },
     "metadata": {},
     "execution_count": 51
    }
   ],
   "source": [
    "# 💡 [ADVANCED] You might later learn about \"list comprehensions\"\n",
    "# This problem could be solved much faster with it\n",
    "\n",
    "strings = [\"I\", \"am\", \"a\", \"man\", \"and\", \"not\", \"an\", \"ant\"]\n",
    "with_an = [word for word in strings if \"an\" in word]  # <--\n",
    "with_an"
   ]
  },
  {
   "source": [
    "# Lesson 08: Strings to List to Strings📝\n",
    "\n",
    "We see how to transform strings to list, and then how to transform a list to a string.\n",
    "\n",
    "It is based on the following functions and methods:\n",
    "* `list(<string>)`: returns list of all characters (see Lesson 07)\n",
    "* `<string>.split(...)`: split the text in several elements based on a given separator (default: space or \"line return\" but it can be specified)\n",
    "* `<separator (string)>.join(<list)`: the opposite of `split` by merging all the elements of the list by putting a separator in the middle "
   ],
   "cell_type": "markdown",
   "metadata": {}
  },
  {
   "source": [
    "## Strings to List with `split` ✂\n",
    "\n",
    "When you want to extract different elements, you usually use `str.split` method.\n",
    "\n",
    "Examples of usage:\n",
    "* Get all the list of words in a sentence\n",
    "* Get year, month, day in dates like `\"2021/12/24\"`\n",
    "* ...\n",
    "\n",
    "The function has 2 arguments:\n",
    "* separator (optional): characters to separate elements (by default: whitespaces = space and line return)\n",
    "* maximum number of splits (optional): 1 split => 2 elements, 2 splits => 3 elements, ... (by default: no limit)\n",
    "\n",
    "**NOTE**: if separator is not found, the returned list contains only 1 element: the string\n"
   ],
   "cell_type": "markdown",
   "metadata": {}
  },
  {
   "cell_type": "code",
   "execution_count": 91,
   "metadata": {},
   "outputs": [
    {
     "output_type": "stream",
     "name": "stdout",
     "text": [
      "['Hello', 'my', 'dear', 'friend']\n['2021', '12', '24']\n['1', '800-742-5877']\n['1', '800-742-5877']\n['no separator found']\n"
     ]
    }
   ],
   "source": [
    "words = \"Hello my dear friend\".split()\n",
    "print(words)\n",
    "\n",
    "year_month_day = \"2021/12/24\".split(\"/\")\n",
    "print(year_month_day)\n",
    "\n",
    "country_phone = \"1-800-742-5877\".split(\"-\", 1)\n",
    "print(country_phone)\n",
    "\n",
    "country_phone = \"1-800-742-5877\".split(\"-\", maxsplit=1)\n",
    "print(country_phone)\n",
    "\n",
    "print(\"no separator found\".split(\"--\"))"
   ]
  },
  {
   "source": [
    "## List to strings with `join` 🔩\n",
    "\n",
    "`join` is the opposite of `split`: it joins with a character in the middle.\n",
    "\n",
    "If you just want to join them with nothing in the middle, just join with an empty string `\"\"`."
   ],
   "cell_type": "markdown",
   "metadata": {}
  },
  {
   "cell_type": "code",
   "execution_count": 87,
   "metadata": {},
   "outputs": [
    {
     "output_type": "stream",
     "name": "stdout",
     "text": [
      "2020/12/24\n12345\nNew text is the same as before\n"
     ]
    }
   ],
   "source": [
    "year_month_day = [\"2020\", \"12\", \"24\"]\n",
    "date = \"/\".join(year_month_day)\n",
    "print(date)\n",
    "\n",
    "numbers_as_string = \"\".join([\"1\", \"2\", \"3\", \"4\", \"5\"])\n",
    "print(numbers_as_string)\n",
    "\n",
    "text = \"Hello my dear friend\"\n",
    "words = text.split()\n",
    "new_text = \" \".join(words)\n",
    "if new_text == text:\n",
    "    print(\"New text is the same as before\")"
   ]
  },
  {
   "source": [
    "## Sequences / Tuples\n",
    "\n",
    "Similar to lists, but cannot be modified"
   ],
   "cell_type": "markdown",
   "metadata": {}
  },
  {
   "cell_type": "code",
   "execution_count": 55,
   "metadata": {},
   "outputs": [
    {
     "output_type": "execute_result",
     "data": {
      "text/plain": [
       "tuple"
      ]
     },
     "metadata": {},
     "execution_count": 55
    }
   ],
   "source": [
    "t = (10, 20, 30, 40, 50, 10)\n",
    "type(t)"
   ]
  },
  {
   "cell_type": "code",
   "execution_count": 63,
   "metadata": {},
   "outputs": [
    {
     "output_type": "stream",
     "name": "stdout",
     "text": [
      "10\n20\n30\n40\n50\n30 in t: True\nt[3]: 40\nt.count(10): 1\nt.index(20): 1\n"
     ]
    },
    {
     "output_type": "execute_result",
     "data": {
      "text/plain": [
       "(1, 2, 3, 4)"
      ]
     },
     "metadata": {},
     "execution_count": 63
    }
   ],
   "source": [
    "for one_item in t:\n",
    "    print(one_item)\n",
    "\n",
    "print(f\"30 in t: {30 in t}\")\n",
    "print(f\"t[3]: {t[3]}\")\n",
    "print(f\"t.count(10): {t.count(10)}\")\n",
    "print(f\"t.index(20): {t.index(20)}\")\n",
    "\n",
    "tuple([1, 2, 3, 4])"
   ]
  },
  {
   "cell_type": "code",
   "execution_count": 60,
   "metadata": {},
   "outputs": [
    {
     "output_type": "error",
     "ename": "TypeError",
     "evalue": "'tuple' object does not support item assignment",
     "traceback": [
      "\u001b[1;31m---------------------------------------------------------------------------\u001b[0m",
      "\u001b[1;31mTypeError\u001b[0m                                 Traceback (most recent call last)",
      "\u001b[1;32m<ipython-input-60-4602013894c6>\u001b[0m in \u001b[0;36m<module>\u001b[1;34m\u001b[0m\n\u001b[1;32m----> 1\u001b[1;33m \u001b[0mt\u001b[0m\u001b[1;33m[\u001b[0m\u001b[1;36m0\u001b[0m\u001b[1;33m]\u001b[0m \u001b[1;33m=\u001b[0m \u001b[1;34m'!'\u001b[0m\u001b[1;33m\u001b[0m\u001b[1;33m\u001b[0m\u001b[0m\n\u001b[0m",
      "\u001b[1;31mTypeError\u001b[0m: 'tuple' object does not support item assignment"
     ]
    }
   ],
   "source": [
    "# CANNOT BE MODIFIED!\n",
    "t[0] = '!'"
   ]
  },
  {
   "source": [
    "### Tuple Unpacking📦\n",
    "\n",
    "📌**SUPER IMPORTANT**!!\n",
    "\n",
    "If you have a list, tuple, or any iterable of a given size `n`, you can assign the `n` values to `n` variables with the following syntax:\n",
    "```\n",
    "a1, a2, a3, ..., an = <iterable of size n>\n",
    "```\n",
    "\n",
    "If the size differs, then an exceptions is raised."
   ],
   "cell_type": "markdown",
   "metadata": {}
  },
  {
   "cell_type": "code",
   "execution_count": 67,
   "metadata": {},
   "outputs": [
    {
     "output_type": "stream",
     "name": "stdout",
     "text": [
      "x:  10, y: 20, z: 30\nx:  a, y: b, z: c\n"
     ]
    }
   ],
   "source": [
    "mylist = [10, 20, 30]\n",
    "x, y, z = mylist\n",
    "print(f\"x:  {x}, y: {y}, z: {z}\")\n",
    "\n",
    "mytuple = (\"a\", \"b\", \"c\")\n",
    "x, y, z = mytuple\n",
    "print(f\"x:  {x}, y: {y}, z: {z}\")"
   ]
  },
  {
   "cell_type": "code",
   "execution_count": 68,
   "metadata": {},
   "outputs": [
    {
     "output_type": "error",
     "ename": "ValueError",
     "evalue": "too many values to unpack (expected 2)",
     "traceback": [
      "\u001b[1;31m---------------------------------------------------------------------------\u001b[0m",
      "\u001b[1;31mValueError\u001b[0m                                Traceback (most recent call last)",
      "\u001b[1;32m<ipython-input-68-1c3e3142fd28>\u001b[0m in \u001b[0;36m<module>\u001b[1;34m\u001b[0m\n\u001b[0;32m      1\u001b[0m \u001b[0mmylist\u001b[0m \u001b[1;33m=\u001b[0m \u001b[1;33m[\u001b[0m\u001b[1;36m10\u001b[0m\u001b[1;33m,\u001b[0m \u001b[1;36m20\u001b[0m\u001b[1;33m,\u001b[0m \u001b[1;36m30\u001b[0m\u001b[1;33m]\u001b[0m\u001b[1;33m\u001b[0m\u001b[1;33m\u001b[0m\u001b[0m\n\u001b[1;32m----> 2\u001b[1;33m \u001b[0mx\u001b[0m\u001b[1;33m,\u001b[0m \u001b[0my\u001b[0m  \u001b[1;33m=\u001b[0m \u001b[0mmylist\u001b[0m  \u001b[1;31m# 1 element missing!!\u001b[0m\u001b[1;33m\u001b[0m\u001b[1;33m\u001b[0m\u001b[0m\n\u001b[0m",
      "\u001b[1;31mValueError\u001b[0m: too many values to unpack (expected 2)"
     ]
    }
   ],
   "source": [
    "mylist = [10, 20, 30]\n",
    "x, y  = mylist  # 1 element missing!!"
   ]
  },
  {
   "cell_type": "code",
   "execution_count": 90,
   "metadata": {},
   "outputs": [
    {
     "output_type": "error",
     "ename": "ValueError",
     "evalue": "not enough values to unpack (expected 4, got 3)",
     "traceback": [
      "\u001b[1;31m---------------------------------------------------------------------------\u001b[0m",
      "\u001b[1;31mValueError\u001b[0m                                Traceback (most recent call last)",
      "\u001b[1;32m<ipython-input-90-506576836e30>\u001b[0m in \u001b[0;36m<module>\u001b[1;34m\u001b[0m\n\u001b[0;32m      1\u001b[0m \u001b[0mmylist\u001b[0m \u001b[1;33m=\u001b[0m \u001b[1;33m[\u001b[0m\u001b[1;36m10\u001b[0m\u001b[1;33m,\u001b[0m \u001b[1;36m20\u001b[0m\u001b[1;33m,\u001b[0m \u001b[1;36m30\u001b[0m\u001b[1;33m]\u001b[0m\u001b[1;33m\u001b[0m\u001b[1;33m\u001b[0m\u001b[0m\n\u001b[1;32m----> 2\u001b[1;33m \u001b[0mx\u001b[0m\u001b[1;33m,\u001b[0m \u001b[0my\u001b[0m\u001b[1;33m,\u001b[0m \u001b[0mz\u001b[0m\u001b[1;33m,\u001b[0m \u001b[0mextra_value\u001b[0m  \u001b[1;33m=\u001b[0m \u001b[0mmylist\u001b[0m  \u001b[1;31m# 1 element missing!!\u001b[0m\u001b[1;33m\u001b[0m\u001b[1;33m\u001b[0m\u001b[0m\n\u001b[0m",
      "\u001b[1;31mValueError\u001b[0m: not enough values to unpack (expected 4, got 3)"
     ]
    }
   ],
   "source": [
    "mylist = [10, 20, 30]\n",
    "x, y, z, extra_value  = mylist  # 1 element missing!!"
   ]
  },
  {
   "source": [
    "### You can use unpacking with `split`\n",
    "\n",
    "⚠ You need to be sure you have the right number of elements => you can use `maxsplit` argument to limit the number of values\n",
    "\n",
    "Note in the code below that we print a tuple so that is why we have `(... , ...)`"
   ],
   "cell_type": "markdown",
   "metadata": {}
  },
  {
   "cell_type": "code",
   "execution_count": 96,
   "metadata": {},
   "outputs": [
    {
     "output_type": "error",
     "ename": "ValueError",
     "evalue": "too many values to unpack (expected 3)",
     "traceback": [
      "\u001b[1;31m---------------------------------------------------------------------------\u001b[0m",
      "\u001b[1;31mValueError\u001b[0m                                Traceback (most recent call last)",
      "\u001b[1;32m<ipython-input-96-899432c45705>\u001b[0m in \u001b[0;36m<module>\u001b[1;34m\u001b[0m\n\u001b[1;32m----> 1\u001b[1;33m \u001b[0mn1\u001b[0m\u001b[1;33m,\u001b[0m \u001b[0mn2\u001b[0m\u001b[1;33m,\u001b[0m \u001b[0mn3\u001b[0m \u001b[1;33m=\u001b[0m \u001b[1;34m\"1 2 3 4 5 6 7\"\u001b[0m\u001b[1;33m.\u001b[0m\u001b[0msplit\u001b[0m\u001b[1;33m(\u001b[0m\u001b[1;33m)\u001b[0m\u001b[1;33m\u001b[0m\u001b[1;33m\u001b[0m\u001b[0m\n\u001b[0m",
      "\u001b[1;31mValueError\u001b[0m: too many values to unpack (expected 3)"
     ]
    }
   ],
   "source": [
    "n1, n2, n3 = \"1 2 3 4 5 6 7\".split()"
   ]
  },
  {
   "cell_type": "code",
   "execution_count": 95,
   "metadata": {},
   "outputs": [
    {
     "output_type": "stream",
     "name": "stdout",
     "text": [
      "Max Karl\n('Max', 'Karl')\n('Kennedy', 'John F')\n"
     ]
    }
   ],
   "source": [
    "name = 'Max Karl'\n",
    "first_name, last_name = name.split()\n",
    "print( first_name, last_name )  # without parenthesis => 2 parameters\n",
    "print( (first_name, last_name) )  # with parenthesis => we print a tuple\n",
    "\n",
    "president = \"Kennedy John F\"\n",
    "last, first = president.split(maxsplit=1)\n",
    "print((last, first))  # we also print a tuple here"
   ]
  },
  {
   "cell_type": "code",
   "execution_count": null,
   "metadata": {},
   "outputs": [],
   "source": [
    "## Permuation of variables\n",
    "\n",
    "We can use tuples to permute variables"
   ]
  },
  {
   "cell_type": "code",
   "execution_count": 97,
   "metadata": {},
   "outputs": [
    {
     "output_type": "stream",
     "name": "stdout",
     "text": [
      "a=20, b=10\nx=20, y=30, z=10\n"
     ]
    }
   ],
   "source": [
    "a = 10\n",
    "b = 20\n",
    "\n",
    "a, b, = b, a  # we permute (we could permute more if needed :)\n",
    "print(f\"a={a}, b={b}\")\n",
    "\n",
    "x = 10\n",
    "y = 20\n",
    "z = 30\n",
    "x, y, z = y, z, x\n",
    "print(f\"x={x}, y={y}, z={z}\")"
   ]
  },
  {
   "source": [
    "# Lesson 09: Dictionaries 📘\n",
    "\n",
    "In computer programming (and many other languages), \"dictionaries\" are called *hashes* or *hash tables*.\n",
    "\n",
    "They are similar to list, but values have an index. It is like a dictionary where you have a word (index) and its definition (value).\n",
    "\n",
    "The index can be:\n",
    "* number (int, float, complex)\n",
    "* string\n",
    "* tuple of numbers or strings\n",
    "* anything that is \"immutable\" (i.e. cannot be modified)\n",
    "\n",
    "They use curly brackets `{ ... }` and `<index> : <value>` syntax\n",
    "\n",
    "🔖And index is **UNIQUE**!\n"
   ],
   "cell_type": "markdown",
   "metadata": {}
  },
  {
   "cell_type": "code",
   "execution_count": 104,
   "metadata": {},
   "outputs": [
    {
     "output_type": "stream",
     "name": "stdout",
     "text": [
      "{'Monday': 1, 'Tuesday': 2, 'Wednesday': 3, 'Thursday': 4, 'Friday': 5}\n{'M': 1, 'T': 4, 'W': 3, 'F': 5}\n"
     ]
    }
   ],
   "source": [
    "days_of_the_week = {'Monday':1, 'Tuesday':2, 'Wednesday':3, 'Thursday':4, 'Friday':5}\n",
    "print(days_of_the_week)\n",
    "\n",
    "duplicate_days_of_the_week = {'M':1, 'T':2, 'W':3, 'T':4, 'F':5}  # value \"4\" will replace \"2\" for \"T\"\n",
    "print(duplicate_days_of_the_week)"
   ]
  },
  {
   "source": [
    "## Operations on Dictionaries\n",
    "\n",
    "They are quite similar to lists:\n",
    "* `len`: number of pairs (index, value)\n",
    "* `in`: to check if something is among the indexes\n",
    "* `[<index>]` to read or modify a value\n",
    "* We can do some loops on them\n",
    "\n",
    "NOTE: Doing `<element> in <list>` costs a lot of CPU \n",
    "because we need to search in the whole list, one element at a time, if is among the list.\n",
    "But doing `<index> in <dictionary>` is instant because we just need to check if this index exists"
   ],
   "cell_type": "markdown",
   "metadata": {}
  },
  {
   "cell_type": "code",
   "execution_count": 105,
   "metadata": {},
   "outputs": [
    {
     "output_type": "stream",
     "name": "stdout",
     "text": [
      "Length is 6\nLetter c has been found\n"
     ]
    }
   ],
   "source": [
    "d = {'a':1, 'b':2, 'c':3, 'd':4, 'e':5, \"z\": 24}\n",
    "print(f\"Length is {len(d)}\")\n",
    "\n",
    "if \"c\" in d:\n",
    "    print(\"Letter c has been found\")"
   ]
  },
  {
   "cell_type": "code",
   "execution_count": 108,
   "metadata": {},
   "outputs": [
    {
     "output_type": "stream",
     "name": "stdout",
     "text": [
      "France\n{'name': 'Jeff', 'age': 10, 'country': 'France', 'hobby': 'Python'}\n{'name': 'Jeff', 'age': 11, 'country': 'France', 'hobby': 'Python'}\n"
     ]
    }
   ],
   "source": [
    "person = {\"name\":\"Jeff\", \"age\": 10, \"country\":\"France\"}\n",
    "country = person[\"country\"]\n",
    "print(country)\n",
    "\n",
    "# You can define new pair index/value\n",
    "person[\"hobby\"] =  \"Python\"\n",
    "print(person)\n",
    "\n",
    "# You can also increment directly a value\n",
    "person[\"age\"] += 1\n",
    "print(person)"
   ]
  },
  {
   "source": [
    "## Loops of dictionaries\n",
    "\n",
    "For loops will loop over the indexes.\n",
    "\n",
    "However, we can also loop over:\n",
    "* the values: `<dict>.values()`\n",
    "* the pairs (index, value) as tuples: `<dict>.items()`"
   ],
   "cell_type": "markdown",
   "metadata": {}
  },
  {
   "cell_type": "code",
   "execution_count": 111,
   "metadata": {},
   "outputs": [
    {
     "output_type": "stream",
     "name": "stdout",
     "text": [
      "INDEX name\nINDEX age\nINDEX country\n\nVALUE Jeff\nVALUE 10\nVALUE France\n\nINDEX/VALUE name: Jeff\nINDEX/VALUE age: 10\nINDEX/VALUE country: France\n"
     ]
    }
   ],
   "source": [
    "person = {\"name\":\"Jeff\", \"age\": 10, \"country\":\"France\"}\n",
    "\n",
    "for index in person:\n",
    "    print(f\"INDEX {index}\")\n",
    "\n",
    "print(\"\")\n",
    "\n",
    "for value in person.values():\n",
    "    print(f\"VALUE {value}\")\n",
    "\n",
    "print(\"\")\n",
    "\n",
    "for index, value in person.items():\n",
    "    print(f\"INDEX/VALUE {index}: {value}\")\n"
   ]
  },
  {
   "source": [
    "# ⇝🔰 THE 🧙 END 🔰⇜"
   ],
   "cell_type": "markdown",
   "metadata": {}
  }
 ]
}