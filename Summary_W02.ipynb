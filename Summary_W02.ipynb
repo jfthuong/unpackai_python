{
 "metadata": {
  "language_info": {
   "codemirror_mode": {
    "name": "ipython",
    "version": 3
   },
   "file_extension": ".py",
   "mimetype": "text/x-python",
   "name": "python",
   "nbconvert_exporter": "python",
   "pygments_lexer": "ipython3",
   "version": "3.7.1"
  },
  "orig_nbformat": 2,
  "kernelspec": {
   "name": "python371jvsc74a57bd08a428f088ac08f7fdf89fb2f4bb23c2bc8a83acc5d068a78d54410b8e3eeec73",
   "display_name": "Python 3.7.1 32-bit"
  }
 },
 "nbformat": 4,
 "nbformat_minor": 2,
 "cells": [
  {
   "source": [
    "# ⇝🥗 Summary Week 02 🥗⇜\n",
    "## 🌵🧙💑👨🏽‍🚀🏄‍♂️🚀👨‍🎓🔰📘 📜 🧾 📝"
   ],
   "cell_type": "markdown",
   "metadata": {}
  },
  {
   "source": [
    "# Lesson 06: Loops 🔁\n",
    "\n",
    "## While Loops\n",
    "\n",
    "`while` loops are just like `if` statements...\n",
    "except that so long as the condition is `True`,\n",
    "the loop executes additional times.\n",
    "\n",
    "⚠ Be careful of **infinite loops** (i.e. loops that never stop)!\n",
    "=> it would run forever until the program crahses\n",
    "\n",
    "```python\n",
    "KeyboardInterrupt                         Traceback (most recent call last)\n",
    "<ipython-input-4-75b1de0a177d> in <module>\n",
    "      1 # Infinite loop\n",
    "      2 while True:\n",
    "----> 3     x = 1\n",
    "\n",
    "KeyboardInterrupt: \n",
    "```\n",
    "\n"
   ],
   "cell_type": "markdown",
   "metadata": {}
  },
  {
   "cell_type": "code",
   "execution_count": 3,
   "metadata": {},
   "outputs": [
    {
     "output_type": "stream",
     "name": "stdout",
     "text": [
      "x is 5\nx is 4\nx is 3\nx is 2\nx is 1\n"
     ]
    }
   ],
   "source": [
    "x = 5\n",
    "\n",
    "while x > 0:\n",
    "    print(f'x is {x}')\n",
    "    x -= 1    # reduce x by 1"
   ]
  },
  {
   "source": [
    "We can use 2 keywords to control the flow:\n",
    "* `break`: exit the loop right now\n",
    "* `continue`: exit the current iteration and continue with the next one"
   ],
   "cell_type": "markdown",
   "metadata": {}
  },
  {
   "cell_type": "code",
   "execution_count": 1,
   "metadata": {},
   "outputs": [
    {
     "output_type": "stream",
     "name": "stdout",
     "text": [
      "2\n4\n6\n8\n10\n12\n"
     ]
    }
   ],
   "source": [
    "i = 0\n",
    "while i < 100:\n",
    "    i += 1\n",
    "    if i % 2:\n",
    "        continue  # We skip the odd numbers\n",
    "    print(i)\n",
    "    if i > 10:\n",
    "        break  # we stop if we go above 10 \n",
    "        # NOTE: usually this condition would go in the 'while' :)\n",
    "\n",
    "s = 'abcdefg'\n"
   ]
  },
  {
   "source": [
    "## For loops🍀\n",
    "\n",
    "`for` loops are used to run some code on many elements of an _iterable_\n",
    "\n",
    "We can also use `continue` and `break`.\n",
    "\n",
    "### **ITERABLE** 🎗✒\n",
    "Data for which we can retrieve elements one by one.\n",
    "\n",
    "Example of iterables:\n",
    "* strings: reading one character at a time\n",
    "* `range`: numbers between a start and an end\n",
    "* lists: sequence of different elements (a bit like a row/column in Excel)\n",
    "* ...\n",
    "\n",
    "\n"
   ],
   "cell_type": "markdown",
   "metadata": {}
  },
  {
   "cell_type": "code",
   "execution_count": 8,
   "metadata": {},
   "outputs": [
    {
     "output_type": "stream",
     "name": "stdout",
     "text": [
      "start\na\nb\nc\ne\nf\ng\nend\n"
     ]
    }
   ],
   "source": [
    "s = 'abcdefg'\n",
    "look_for = 'd'\n",
    "\n",
    "print(f'start')\n",
    "for one_letter in s:\n",
    "    if one_letter == look_for:\n",
    "        continue   # stop this iteration, but go onto the next one\n",
    "    print(one_letter)\n",
    "print('end')\n"
   ]
  },
  {
   "cell_type": "code",
   "execution_count": 9,
   "metadata": {},
   "outputs": [
    {
     "output_type": "stream",
     "name": "stdout",
     "text": [
      "Square of 0 is 0\nSquare of 1 is 1\nSquare of 2 is 4\nSquare of 3 is 9\nSquare of 4 is 16\n------------------------------\nOdd Numbers: 13579\n"
     ]
    }
   ],
   "source": [
    "for i in range(5):  # 1 argument=> start from 0, go until nb - 1 (i.e. 4)\n",
    "    print(f\"Square of {i} is {i**2}\")\n",
    "\n",
    "print(\"-\" * 30)\n",
    "\n",
    "odd_numbers = \"\"\n",
    "for n in range(1, 10, 2):  # We can specify the start, the end, and \"step\"\n",
    "    odd_numbers += str(n)\n",
    "print(f\"Odd Numbers: {odd_numbers}\")"
   ]
  },
  {
   "source": [
    "# Lesson 07: Lists 📜\n",
    "\n",
    "A list is a generic container for other objects:\n",
    "it can contain **ANY NUMBER** of **ANY TYPE** of objects.\n",
    "\n",
    "Example (mix of integers and strings):\n",
    "```python\n",
    "mylist = [10, 20, 30, 40, 'hello', 'out', 'there']\n",
    "```\n",
    "\n",
    "Following works just like for strings:\n",
    "* index\n",
    "* slice\n",
    "* length (`len`)\n",
    "* `for` loops\n"
   ],
   "cell_type": "markdown",
   "metadata": {}
  },
  {
   "cell_type": "code",
   "execution_count": 13,
   "metadata": {},
   "outputs": [
    {
     "output_type": "stream",
     "name": "stdout",
     "text": [
      "Index 3 of string: 3\nLast character of string: 6\nSlice 1-5 of string: 1234\nLength of string: 7\n----------\nIndex 3 of list: 3\nLast element of list: 6\nSlice 1-5 of list: [1, 2, 3, 4]\nLength of list: 7\n"
     ]
    }
   ],
   "source": [
    "my_string = \"0123456\"\n",
    "print(f\"Index 3 of string: {my_string[3]}\")\n",
    "print(f\"Last character of string: {my_string[-1]}\")\n",
    "print(f\"Slice 1-5 of string: {my_string[1:5]}\")\n",
    "print(f\"Length of string: {len(my_string)}\")\n",
    "\n",
    "print(\"-\" * 10)\n",
    "\n",
    "my_list = [0, 1, 2, 3, 4, 5, 6]\n",
    "print(f\"Index 3 of list: {my_list[3]}\")\n",
    "print(f\"Last element of list: {my_list[-1]}\")\n",
    "print(f\"Slice 1-5 of list: {my_list[1:5]}\")\n",
    "print(f\"Length of list: {len(my_list)}\")"
   ]
  },
  {
   "cell_type": "code",
   "execution_count": 12,
   "metadata": {},
   "outputs": [
    {
     "output_type": "stream",
     "name": "stdout",
     "text": [
      "abcd\nefgh\nijkl\n"
     ]
    }
   ],
   "source": [
    "mylist = ['abcd', 'efgh', 'ijkl']\n",
    "\n",
    "for one_item in mylist:\n",
    "    print(one_item)"
   ]
  },
  {
   "source": [
    "💡 We can create a list by using `list` on any iterable \n",
    "(see definition in Lesson #06)"
   ],
   "cell_type": "markdown",
   "metadata": {}
  },
  {
   "cell_type": "code",
   "execution_count": 30,
   "metadata": {},
   "outputs": [
    {
     "output_type": "stream",
     "name": "stdout",
     "text": [
      "Letters: ['a', 'b', 'c', 'd', 'e', 'f']\nNumbers: [0, 1, 2, 3, 4, 5, 6, 7, 8, 9]\n"
     ]
    }
   ],
   "source": [
    "letters = list(\"abcdef\")\n",
    "numbers = list(range(10))\n",
    "print(f\"Letters: {letters}\")\n",
    "print(f\"Numbers: {numbers}\")"
   ]
  },
  {
   "cell_type": "code",
   "execution_count": null,
   "metadata": {},
   "outputs": [],
   "source": [
    "We can check if an element is inside a list with `in`"
   ]
  },
  {
   "cell_type": "code",
   "execution_count": 15,
   "metadata": {},
   "outputs": [
    {
     "output_type": "stream",
     "name": "stdout",
     "text": [
      "'AI' in list of words: True\n'He' in list of words: False\n"
     ]
    }
   ],
   "source": [
    "words = [\"Hello\", \"unpack\", \"AI\"]\n",
    "print(f\"'AI' in list of words: {'AI' in words}\")\n",
    "print(f\"'He' in list of words: {'He' in words}\")\n",
    "\n",
    "# Note: we need to have the exact element, not a substring\n",
    "# We can see later how to check if a string is a substring of an element"
   ]
  },
  {
   "source": [
    "We can have lists in lists (a bit like a matrix in math).\n",
    "\n",
    "The length is the number of top elements."
   ],
   "cell_type": "markdown",
   "metadata": {}
  },
  {
   "cell_type": "code",
   "execution_count": 21,
   "metadata": {},
   "outputs": [
    {
     "output_type": "stream",
     "name": "stdout",
     "text": [
      "[[10, 20, 30], [10, 20, 30], [10, 20, 30]]\nLength is 3\n"
     ]
    }
   ],
   "source": [
    "mylist = [10, 20, 30]\n",
    "\n",
    "matrix = [mylist, mylist, mylist]\n",
    "print(matrix)\n",
    "print(f\"Length is {len(matrix)}\")"
   ]
  },
  {
   "source": [
    "## Modification of lists\n",
    "\n",
    "We can modify given indexes of the list (unlike for strings!)\n",
    "\n",
    "```\n",
    "s = \"abc\"\n",
    "s[0] = '.' # try to change s[0] -- strings are immutable!\n",
    "\n",
    "---------------------------------------------------------------------------\n",
    "TypeError                                 Traceback (most recent call last)\n",
    "<ipython-input-22-f0d3010d989d> in <module>\n",
    "----> 1 s[0] = '.' # try to change s[0] -- strings are immutable!\n",
    "\n",
    "TypeError: 'str' object does not support item assignment\n",
    "```"
   ],
   "cell_type": "markdown",
   "metadata": {}
  },
  {
   "cell_type": "code",
   "execution_count": 24,
   "metadata": {},
   "outputs": [
    {
     "output_type": "stream",
     "name": "stdout",
     "text": [
      "['---', 'How', 'are', 'you', '?']\n"
     ]
    }
   ],
   "source": [
    "mylist = [\"?\", \"How\", \"are\", \"you\", \".\"]\n",
    "mylist[0] = '.'  # succeeds, because lists are mutable\n",
    "mylist[-1] = '?'\n",
    "print(mylist)"
   ]
  },
  {
   "source": [
    "We can add elements to the list\n",
    "* `append`: update the list by adding one element\n",
    "* `+`: add elements (from another iterable) and return a new list\n",
    "* `extend`: update the list by adding several elements (from another iterable)\n",
    "\n",
    "💡 `mylist.extend(iterable)` is equivalent to `mylist += iterable`. "
   ],
   "cell_type": "markdown",
   "metadata": {}
  },
  {
   "cell_type": "code",
   "execution_count": 29,
   "metadata": {},
   "outputs": [
    {
     "output_type": "stream",
     "name": "stdout",
     "text": [
      "['a', 'b', 'c', 'd']\n['a', 'b', 'c', 'd', 'e', 'f']\n['a', 'b', 'c', 'd', 'e', 'f', 'g', 'h']\n['a', 'b', 'c', 'd', 'e', 'f', 'g', 'h', 0, 1, 2, 3]\n"
     ]
    }
   ],
   "source": [
    "mylist = [\"a\", \"b\", \"c\"]\n",
    "mylist.append(\"d\")\n",
    "print(mylist)\n",
    "mylist += [\"e\", \"f\"]\n",
    "print(mylist)\n",
    "\n",
    "# we can directly add all the characters from a string\n",
    "mylist += \"gh\"\n",
    "print(mylist)\n",
    "# or the numbers from a range\n",
    "mylist += range(4)\n",
    "print(mylist)"
   ]
  },
  {
   "cell_type": "code",
   "execution_count": 31,
   "metadata": {},
   "outputs": [
    {
     "output_type": "stream",
     "name": "stdout",
     "text": [
      "['a', 'b', 'c', 'e', 'f', 'g']\n"
     ]
    }
   ],
   "source": [
    "mylist = list(\"abc\")\n",
    "mylist.extend(\"efg\")\n",
    "print(mylist)"
   ]
  },
  {
   "source": [
    "## Operations on lists\n",
    "\n",
    "We have 2 ways to sort a list:\n",
    "`list.sort`: modify the list by sorting the elements\n",
    "`sorted(list)`: return a sorted list (original list is not modified)\n",
    "\n",
    "💡Usually, `sorted` is used much more than `sort` because it is more convenient."
   ],
   "cell_type": "markdown",
   "metadata": {}
  },
  {
   "cell_type": "code",
   "execution_count": 38,
   "metadata": {},
   "outputs": [
    {
     "output_type": "stream",
     "name": "stdout",
     "text": [
      "Sorted with method 'sort': [2, 5, 6, 10, 12, 15, 30]\nSorted with function 'sorted': [2, 5, 6, 10, 12, 15, 30]\n----------\nBefore: [10, 5, 30, 2, 12, 15, 6]\nAfter:  [10, 5, 30, 2, 12, 15, 6] => not modified\nNew Sorted list: [2, 5, 6, 10, 12, 15, 30]\n"
     ]
    }
   ],
   "source": [
    "mylist = [10, 5, 30, 2, 12, 15, 6]\n",
    "mylist.sort()\n",
    "print(f\"Sorted with method 'sort': {mylist}\")\n",
    "\n",
    "mylist = sorted([10, 5, 30, 2, 12, 15, 6])  # we can do in single line ;)\n",
    "print(f\"Sorted with function 'sorted': {mylist}\")\n",
    "\n",
    "print('-' * 10)\n",
    "\n",
    "mylist = [10, 5, 30, 2, 12, 15, 6]\n",
    "print(f\"Before: {mylist}\")\n",
    "newlist = sorted(mylist)  # mylist is not modified\n",
    "print(f\"After:  {mylist} => not modified\")\n",
    "print(f\"New Sorted list: {newlist}\")"
   ]
  },
  {
   "source": [
    "We can do useful operations on numbers:\n",
    "* `sum`: compute the sum of the numbers\n",
    "* `min`: minimum value (need at least 1 value!!)\n",
    "* `max`: maximum value (need at least 1 value!!)"
   ],
   "cell_type": "markdown",
   "metadata": {}
  },
  {
   "cell_type": "code",
   "execution_count": 40,
   "metadata": {},
   "outputs": [
    {
     "output_type": "stream",
     "name": "stdout",
     "text": [
      "[1, 2, 3, 4, 5, 6, 7, 8, 9]\nSum: 45\nMinimum: 1\nMaximum: 9\n"
     ]
    }
   ],
   "source": [
    "numbers = list(range(1, 10))\n",
    "print(numbers)\n",
    "print(f\"Sum: {sum(numbers)}\")\n",
    "print(f\"Minimum: {min(numbers)}\")\n",
    "print(f\"Maximum: {max(numbers)}\")"
   ]
  },
  {
   "cell_type": "code",
   "execution_count": null,
   "metadata": {},
   "outputs": [],
   "source": []
  }
 ]
}